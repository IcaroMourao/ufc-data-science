{
 "cells": [
  {
   "cell_type": "markdown",
   "metadata": {},
   "source": [
    "# Selecting Subsets of Data in Pandas\n",
    "\n",
    "## Part 1: Selection with `[]`, `.loc` and `.iloc`\n",
    "\n",
    "This is the beginning of a seven-part series on how to select subsets of data from a pandas DataFrame or Series. Pandas offers a wide variety of options for subset selection which necessitates multiple articles. This series is broken down into the following 7 topics.\n",
    "\n",
    "1. Selection with `[]`, `.loc` and `.iloc`\n",
    "1. Boolean indexing\n",
    "1. Selection with a MultiIndex\n",
    "1. Selecting subsets of data with methods\n",
    "1. Selections with other Index types\n",
    "1. Internals of indexing\n",
    "1. Miscellaneous and Conclusion\n",
    "\n",
    "# Assumptions before we begin\n",
    "These series of articles assume you have no knowledge of pandas, but that you understand the fundamentals of the Python programming language. It also assumes that you have installed pandas on your machine. \n",
    "\n",
    "The easiest way to get pandas along with Python and the rest of the main scientific computing libraries is to install the [Anaconda distribution](https://www.anaconda.com/download/).\n",
    "\n",
    "If you have no knowledge of Python then I suggest completing the following two books cover to cover before even touching pandas. They are both free.\n",
    "* [Think Python](http://greenteapress.com/wp/think-python-2e/) by Allen B. Downey\n",
    "* [Automate the Boring Stuff](https://automatetheboringstuff.com/) by Al Sweigart\n",
    "\n",
    "# The importance of making subset selections\n",
    "You might be wondering why there needs to be so many articles on selecting subsets of data. This topic is extremely important to pandas and it's unfortunate that it is fairly complicated because subset selection happens frequently during an actual analysis. Because you are frequently making subset selections, you need to master it in order to make your life with pandas easier. \n",
    "\n",
    "I will also be doing a follow-up series on index alignment which is another extremely important topic that requires you to understand subset selection.\n",
    "\n",
    "# Always reference the documentation\n",
    "The material in this article is also covered in the official pandas documentation on [Indexing and Selecting Data](http://pandas.pydata.org/pandas-docs/stable/indexing.html). I highly recommend that you read that part of the documentation along with this tutorial. In fact, the documentation is one of the primary means for mastering pandas. I wrote a step-by-step article, [How to Learn Pandas](https://medium.com/dunder-data/how-to-learn-pandas-108905ab4955), which gives suggestions on how to use the documentation as you master pandas.\n",
    "\n",
    "# The anatomy of a DataFrame and a Series\n",
    "The pandas library has two primary containers of data, the DataFrame and the Series. You will spend nearly all your time working with both of the objects when you use pandas. The DataFrame is used more than the Series, so let's take a look at an image of it first. \n",
    "\n",
    "![](../images/01_dataframe_anatomy.png)\n",
    "\n",
    "This images comes with some added illustrations to highlight its components. At first glance, the DataFrame looks like any other two-dimensional table of data that you have seen. It has rows and it has columns. Technically, there are three main components of the DataFrame.\n",
    "\n",
    "## The three components of a DataFrame\n",
    "A DataFrame is composed of three different components, the **index**, **columns**, and the **data**. The data is also known as the **values**.\n",
    "\n",
    "The index represents the sequence of values on the far left-hand side of the DataFrame. All the values in the index are in **bold** font. Each individual value of the index is called a **label**. Sometimes the index is referred to as the **row labels**. In the example above, the row labels are not very interesting and are just the integers beginning from 0 up to n-1, where n is the number of rows in the table. Pandas defaults DataFrames with this simple index.\n",
    "\n",
    "The columns are the sequence of values at the very top of the DataFrame. They are also in **bold** font. Each individual value of the columns is called a **column**, but can also be referred to as **column name** or **column label**.\n",
    "\n",
    "Everything else not in bold font is the data or values. You will sometimes hear DataFrames referred to as **tabular** data. This is just another name for a rectangular table data with rows and columns.\n",
    "\n",
    "## Axis and axes\n",
    "It is also common terminology to refer to the rows or columns as an **axis**. Collectively, we call them **axes**. So, a row is an axis and a column is another axis. \n",
    "\n",
    "The word axis appears as a parameter in many DataFrame methods. Pandas allows you to choose the direction of how the method will work with this parameter. This has nothing to do with subset selection so you can just ignore it for now.\n",
    "\n",
    "\n",
    "### Each row has a label and each column has a label\n",
    "The main takeaway from the DataFrame anatomy is that each row has a label and each column has a label. These labels are used to refer to specific rows or columns in the DataFrame. It's the same as how humans use names to refer to specific people.\n",
    "\n",
    "# What is subset selection?\n",
    "\n",
    "Before we start doing subset selection, it might be good to define what it is. Subset selection is simply selecting particular rows and columns of data from a DataFrame (or Series). This could mean selecting all the rows and some of the columns, some of the rows and all of the columns, or some of each of the rows and columns.\n",
    "\n",
    "\n",
    "### Example selecting some columns and all rows\n",
    "Let's see some images of subset selection. We will first look at a sample DataFrame with fake data.\n",
    "\n",
    "![](../images/01_sample_df.png)\n",
    "\n",
    "Let's say we want to select just the columns `color`, `age`, and `height` but keep all the rows. \n",
    "\n",
    "![](../images/01_just_cols.png)\n",
    "\n",
    "Our final DataFrame would look like this:\n",
    "\n",
    "![](../images/01_just_cols2.png)\n",
    "\n",
    "### Example selecting some rows and all columns\n",
    "We can also make selections that select just some of the rows. Let's select the rows with labels `Aaron` and `Dean` along with all of the columns:\n",
    "\n",
    "![](../images/01_just_rows.png)\n",
    "\n",
    "Our final DataFrame would like:\n",
    "\n",
    "![](../images/01_just_rows2.png)\n",
    "\n",
    "### Example selecting some rows and some columns\n",
    "Let's combine the selections from above and select the columns `color`, `age`, and `height` for only the rows with labels `Aaron` and `Dean`.\n",
    "\n",
    "![](../images/01_rows_cols.png)\n",
    "\n",
    "Our final DataFrame would look like this:\n",
    "\n",
    "![](../images/01_rows_cols2.png)\n",
    "\n",
    "\n",
    "# Pandas dual references: by label and by integer location\n",
    "We already mentioned that each row and each column have a specific label that can be used to reference them. This is displayed in bold font in the DataFrame.\n",
    "\n",
    "But, what hasn't been mentioned, is that each row and column may be referenced by an integer as well. I call this **integer location**. The integer location begins at 0 and ends at n-1 for each row and column. Take a look above at our sample DataFrame one more time. \n",
    "\n",
    "The rows with labels `Aaron` and `Dean` can also be referenced by their respective integer locations 2 and 4. Similarly, the columns `color`, `age` and `height` can be referenced by their integer locations 1, 3, and 4.\n",
    "\n",
    "The documentation refers to integer location as **position**. I don't particularly like this terminology as its not as explicit as integer location. The key thing term here is INTEGER.\n",
    "\n",
    "# What's the difference between indexing and selecting subsets of data?\n",
    "The documentation uses the term **indexing** frequently. This term is essentially just a one-word phrase to say 'subset selection'. I prefer the term subset selection as, again, it is more descriptive of what is actually happening. Indexing is also the term used in the official Python documentation.\n",
    "\n",
    "# Focusing only on `[]`, `.loc`, and `.iloc`\n",
    "There are many ways to select subsets of data, but in this article we will only cover the usage of the square brackets (**`[]`**), **`.loc`** and **`.iloc`**. Collectively, they are called the **indexers**. These are by far the most common ways to select data. A different part of this Series will discuss a few methods that can be used to make subset selections. \n",
    "\n",
    "If you have a DataFrame, `df`, your subset selection will look something like the following:\n",
    "\n",
    "```\n",
    "df[ ]\n",
    "df.loc[ ]\n",
    "df.iloc[ ]\n",
    "```\n",
    "\n",
    "A real subset selection will have something inside of the square brackets. All selections in this article will take place inside of those square brackets.\n",
    "\n",
    "Notice that the square brackets also follow `.loc` and `.iloc`. All indexing in Python happens inside of these square brackets.\n",
    "\n",
    "# A term for just those square brackets\n",
    "The term **indexing operator** is used to refer to the square brackets following an object. The **`.loc`** and **`.iloc`** indexers also use the indexing operator to make selections. I will use the term **just the indexing operator** to refer to **`df[]`**. This will distinguish it from **`df.loc[]`** and **`df.iloc[]`**.\n",
    "\n",
    "# Read in data into a DataFrame with `read_csv`\n",
    "Let's begin using pandas to read in a DataFrame, and from there, use the indexing operator by itself to select subsets of data. All the data for these tutorials are in the **data** directory. \n",
    "\n",
    "We will use the **`read_csv`** function to read in data into a DataFrame. We pass the path to the file as the first argument to the function. We will also use the **`index_col`** parameter to select the first column of data as the index (more on this later)."
   ]
  },
  {
   "cell_type": "code",
   "execution_count": 4,
   "metadata": {},
   "outputs": [],
   "source": [
    "import pandas as pd\n",
    "import numpy as np"
   ]
  },
  {
   "cell_type": "code",
   "execution_count": 46,
   "metadata": {},
   "outputs": [
    {
     "data": {
      "text/html": [
       "<div>\n",
       "<style scoped>\n",
       "    .dataframe tbody tr th:only-of-type {\n",
       "        vertical-align: middle;\n",
       "    }\n",
       "\n",
       "    .dataframe tbody tr th {\n",
       "        vertical-align: top;\n",
       "    }\n",
       "\n",
       "    .dataframe thead th {\n",
       "        text-align: right;\n",
       "    }\n",
       "</style>\n",
       "<table border=\"1\" class=\"dataframe\">\n",
       "  <thead>\n",
       "    <tr style=\"text-align: right;\">\n",
       "      <th></th>\n",
       "      <th>state</th>\n",
       "      <th>color</th>\n",
       "      <th>food</th>\n",
       "      <th>age</th>\n",
       "      <th>height</th>\n",
       "      <th>score</th>\n",
       "    </tr>\n",
       "  </thead>\n",
       "  <tbody>\n",
       "    <tr>\n",
       "      <th>Jane</th>\n",
       "      <td>NY</td>\n",
       "      <td>blue</td>\n",
       "      <td>Steak</td>\n",
       "      <td>30</td>\n",
       "      <td>165</td>\n",
       "      <td>4.6</td>\n",
       "    </tr>\n",
       "    <tr>\n",
       "      <th>Niko</th>\n",
       "      <td>TX</td>\n",
       "      <td>green</td>\n",
       "      <td>Lamb</td>\n",
       "      <td>2</td>\n",
       "      <td>70</td>\n",
       "      <td>8.3</td>\n",
       "    </tr>\n",
       "    <tr>\n",
       "      <th>Aaron</th>\n",
       "      <td>FL</td>\n",
       "      <td>red</td>\n",
       "      <td>Mango</td>\n",
       "      <td>12</td>\n",
       "      <td>120</td>\n",
       "      <td>9.0</td>\n",
       "    </tr>\n",
       "    <tr>\n",
       "      <th>Penelope</th>\n",
       "      <td>AL</td>\n",
       "      <td>white</td>\n",
       "      <td>Apple</td>\n",
       "      <td>4</td>\n",
       "      <td>80</td>\n",
       "      <td>3.3</td>\n",
       "    </tr>\n",
       "    <tr>\n",
       "      <th>Dean</th>\n",
       "      <td>AK</td>\n",
       "      <td>gray</td>\n",
       "      <td>Cheese</td>\n",
       "      <td>32</td>\n",
       "      <td>180</td>\n",
       "      <td>1.8</td>\n",
       "    </tr>\n",
       "    <tr>\n",
       "      <th>Christina</th>\n",
       "      <td>TX</td>\n",
       "      <td>black</td>\n",
       "      <td>Melon</td>\n",
       "      <td>33</td>\n",
       "      <td>172</td>\n",
       "      <td>9.5</td>\n",
       "    </tr>\n",
       "    <tr>\n",
       "      <th>Cornelia</th>\n",
       "      <td>TX</td>\n",
       "      <td>red</td>\n",
       "      <td>Beans</td>\n",
       "      <td>69</td>\n",
       "      <td>150</td>\n",
       "      <td>2.2</td>\n",
       "    </tr>\n",
       "  </tbody>\n",
       "</table>\n",
       "</div>"
      ],
      "text/plain": [
       "          state  color    food  age  height  score\n",
       "Jane         NY   blue   Steak   30     165    4.6\n",
       "Niko         TX  green    Lamb    2      70    8.3\n",
       "Aaron        FL    red   Mango   12     120    9.0\n",
       "Penelope     AL  white   Apple    4      80    3.3\n",
       "Dean         AK   gray  Cheese   32     180    1.8\n",
       "Christina    TX  black   Melon   33     172    9.5\n",
       "Cornelia     TX    red   Beans   69     150    2.2"
      ]
     },
     "execution_count": 46,
     "metadata": {},
     "output_type": "execute_result"
    }
   ],
   "source": [
    "df = pd.read_csv('data/sample_data.csv', index_col=0)\n",
    "df"
   ]
  },
  {
   "cell_type": "markdown",
   "metadata": {},
   "source": [
    "# Extracting the individual DataFrame components\n",
    "Earlier, we mentioned the three components of the DataFrame. The index, columns and data (values). We can extract each of these components into their own variables. Let's do that and then inspect them:"
   ]
  },
  {
   "cell_type": "code",
   "execution_count": 47,
   "metadata": {},
   "outputs": [],
   "source": [
    "index = df.index\n",
    "columns = df.columns\n",
    "values = df.values"
   ]
  },
  {
   "cell_type": "code",
   "execution_count": 48,
   "metadata": {},
   "outputs": [
    {
     "data": {
      "text/plain": [
       "Index(['Jane', 'Niko', 'Aaron', 'Penelope', 'Dean', 'Christina', 'Cornelia'], dtype='object')"
      ]
     },
     "execution_count": 48,
     "metadata": {},
     "output_type": "execute_result"
    }
   ],
   "source": [
    "index"
   ]
  },
  {
   "cell_type": "code",
   "execution_count": 49,
   "metadata": {},
   "outputs": [
    {
     "data": {
      "text/plain": [
       "Index(['state', 'color', 'food', 'age', 'height', 'score'], dtype='object')"
      ]
     },
     "execution_count": 49,
     "metadata": {},
     "output_type": "execute_result"
    }
   ],
   "source": [
    "columns"
   ]
  },
  {
   "cell_type": "code",
   "execution_count": 21,
   "metadata": {},
   "outputs": [
    {
     "data": {
      "text/plain": [
       "array([['NY', 'blue', 'Steak', 30, 165, 4.6],\n",
       "       ['TX', 'green', 'Lamb', 2, 70, 8.3],\n",
       "       ['FL', 'red', 'Mango', 12, 120, 9.0],\n",
       "       ['AL', 'white', 'Apple', 4, 80, 3.3],\n",
       "       ['AK', 'gray', 'Cheese', 32, 180, 1.8],\n",
       "       ['TX', 'black', 'Melon', 33, 172, 9.5],\n",
       "       ['TX', 'red', 'Beans', 69, 150, 2.2]], dtype=object)"
      ]
     },
     "execution_count": 21,
     "metadata": {},
     "output_type": "execute_result"
    }
   ],
   "source": [
    "values"
   ]
  },
  {
   "cell_type": "markdown",
   "metadata": {},
   "source": [
    "# Data types of the components\n",
    "Let's output the type of each component to understand exactly what kind of object they are."
   ]
  },
  {
   "cell_type": "code",
   "execution_count": 22,
   "metadata": {},
   "outputs": [
    {
     "data": {
      "text/plain": [
       "pandas.core.indexes.base.Index"
      ]
     },
     "execution_count": 22,
     "metadata": {},
     "output_type": "execute_result"
    }
   ],
   "source": [
    "type(index)"
   ]
  },
  {
   "cell_type": "code",
   "execution_count": 23,
   "metadata": {},
   "outputs": [
    {
     "data": {
      "text/plain": [
       "pandas.core.indexes.base.Index"
      ]
     },
     "execution_count": 23,
     "metadata": {},
     "output_type": "execute_result"
    }
   ],
   "source": [
    "type(columns)"
   ]
  },
  {
   "cell_type": "code",
   "execution_count": 24,
   "metadata": {},
   "outputs": [
    {
     "data": {
      "text/plain": [
       "numpy.ndarray"
      ]
     },
     "execution_count": 24,
     "metadata": {},
     "output_type": "execute_result"
    }
   ],
   "source": [
    "type(values)"
   ]
  },
  {
   "cell_type": "markdown",
   "metadata": {},
   "source": [
    "# Understanding these types\n",
    "Interestingly, both the index and the columns are the same type. They are both a pandas **`Index`** object. This object is quite powerful in itself, but for now you can just think of it as a sequence of labels for either the rows or the columns.\n",
    "\n",
    "The values are a NumPy **`ndarray`**, which stands for n-dimensional array, and is the primary container of data in the NumPy library. Pandas is built directly on top of NumPy and it's this array that is responsible for the bulk of the workload."
   ]
  },
  {
   "cell_type": "markdown",
   "metadata": {},
   "source": [
    "# Beginning with just the indexing operator on DataFrames\n",
    "We will begin our journey of selecting subsets by using just the indexing operator on a DataFrame. Its main purpose is to select a single column or multiple columns of data.\n",
    "\n",
    "## Selecting a single column as a Series\n",
    "To select a single column of data, simply put the name of the column in-between the brackets. Let's select the food column:"
   ]
  },
  {
   "cell_type": "code",
   "execution_count": 25,
   "metadata": {},
   "outputs": [
    {
     "data": {
      "text/plain": [
       "Jane          Steak\n",
       "Niko           Lamb\n",
       "Aaron         Mango\n",
       "Penelope      Apple\n",
       "Dean         Cheese\n",
       "Christina     Melon\n",
       "Cornelia      Beans\n",
       "Name: food, dtype: object"
      ]
     },
     "execution_count": 25,
     "metadata": {},
     "output_type": "execute_result"
    }
   ],
   "source": [
    "df['food']"
   ]
  },
  {
   "cell_type": "markdown",
   "metadata": {},
   "source": [
    "# Anatomy of a Series\n",
    "Selecting a single column of data returns the other pandas data container, the Series. A Series is a one-dimensional sequence of labeled data. There are two main components of a Series, the **index** and the **data**(or **values**). There are NO columns in a Series.\n",
    "\n",
    "The visual display of a Series is just plain text, as opposed to the nicely styled table for DataFrames. The sequence of person names on the left is the index. The sequence of food items on the right is the values.\n",
    "\n",
    "You will also notice two extra pieces of data on the bottom of the Series. The **name** of the Series becomes the old-column name. You will also see the data type or **`dtype`** of the Series. You can ignore both these items for now.\n",
    "\n",
    "# Selecting multiple columns with just the indexing operator\n",
    "It's possible to select multiple columns with just the indexing operator by passing it a list of column names. Let's select `color`, `food`, and `score`:"
   ]
  },
  {
   "cell_type": "code",
   "execution_count": 26,
   "metadata": {},
   "outputs": [
    {
     "data": {
      "text/html": [
       "<div>\n",
       "<style scoped>\n",
       "    .dataframe tbody tr th:only-of-type {\n",
       "        vertical-align: middle;\n",
       "    }\n",
       "\n",
       "    .dataframe tbody tr th {\n",
       "        vertical-align: top;\n",
       "    }\n",
       "\n",
       "    .dataframe thead th {\n",
       "        text-align: right;\n",
       "    }\n",
       "</style>\n",
       "<table border=\"1\" class=\"dataframe\">\n",
       "  <thead>\n",
       "    <tr style=\"text-align: right;\">\n",
       "      <th></th>\n",
       "      <th>color</th>\n",
       "      <th>food</th>\n",
       "      <th>score</th>\n",
       "    </tr>\n",
       "  </thead>\n",
       "  <tbody>\n",
       "    <tr>\n",
       "      <th>Jane</th>\n",
       "      <td>blue</td>\n",
       "      <td>Steak</td>\n",
       "      <td>4.6</td>\n",
       "    </tr>\n",
       "    <tr>\n",
       "      <th>Niko</th>\n",
       "      <td>green</td>\n",
       "      <td>Lamb</td>\n",
       "      <td>8.3</td>\n",
       "    </tr>\n",
       "    <tr>\n",
       "      <th>Aaron</th>\n",
       "      <td>red</td>\n",
       "      <td>Mango</td>\n",
       "      <td>9.0</td>\n",
       "    </tr>\n",
       "    <tr>\n",
       "      <th>Penelope</th>\n",
       "      <td>white</td>\n",
       "      <td>Apple</td>\n",
       "      <td>3.3</td>\n",
       "    </tr>\n",
       "    <tr>\n",
       "      <th>Dean</th>\n",
       "      <td>gray</td>\n",
       "      <td>Cheese</td>\n",
       "      <td>1.8</td>\n",
       "    </tr>\n",
       "    <tr>\n",
       "      <th>Christina</th>\n",
       "      <td>black</td>\n",
       "      <td>Melon</td>\n",
       "      <td>9.5</td>\n",
       "    </tr>\n",
       "    <tr>\n",
       "      <th>Cornelia</th>\n",
       "      <td>red</td>\n",
       "      <td>Beans</td>\n",
       "      <td>2.2</td>\n",
       "    </tr>\n",
       "  </tbody>\n",
       "</table>\n",
       "</div>"
      ],
      "text/plain": [
       "           color    food  score\n",
       "Jane        blue   Steak    4.6\n",
       "Niko       green    Lamb    8.3\n",
       "Aaron        red   Mango    9.0\n",
       "Penelope   white   Apple    3.3\n",
       "Dean        gray  Cheese    1.8\n",
       "Christina  black   Melon    9.5\n",
       "Cornelia     red   Beans    2.2"
      ]
     },
     "execution_count": 26,
     "metadata": {},
     "output_type": "execute_result"
    }
   ],
   "source": [
    "df[['color', 'food', 'score']]"
   ]
  },
  {
   "cell_type": "markdown",
   "metadata": {},
   "source": [
    "# Selecting multiple columns returns a DataFrame\n",
    "Selecting multiple columns returns a DataFrame. You can actually select a single column as a DataFrame with a one-item list:"
   ]
  },
  {
   "cell_type": "code",
   "execution_count": 27,
   "metadata": {},
   "outputs": [
    {
     "data": {
      "text/html": [
       "<div>\n",
       "<style scoped>\n",
       "    .dataframe tbody tr th:only-of-type {\n",
       "        vertical-align: middle;\n",
       "    }\n",
       "\n",
       "    .dataframe tbody tr th {\n",
       "        vertical-align: top;\n",
       "    }\n",
       "\n",
       "    .dataframe thead th {\n",
       "        text-align: right;\n",
       "    }\n",
       "</style>\n",
       "<table border=\"1\" class=\"dataframe\">\n",
       "  <thead>\n",
       "    <tr style=\"text-align: right;\">\n",
       "      <th></th>\n",
       "      <th>food</th>\n",
       "    </tr>\n",
       "  </thead>\n",
       "  <tbody>\n",
       "    <tr>\n",
       "      <th>Jane</th>\n",
       "      <td>Steak</td>\n",
       "    </tr>\n",
       "    <tr>\n",
       "      <th>Niko</th>\n",
       "      <td>Lamb</td>\n",
       "    </tr>\n",
       "    <tr>\n",
       "      <th>Aaron</th>\n",
       "      <td>Mango</td>\n",
       "    </tr>\n",
       "    <tr>\n",
       "      <th>Penelope</th>\n",
       "      <td>Apple</td>\n",
       "    </tr>\n",
       "    <tr>\n",
       "      <th>Dean</th>\n",
       "      <td>Cheese</td>\n",
       "    </tr>\n",
       "    <tr>\n",
       "      <th>Christina</th>\n",
       "      <td>Melon</td>\n",
       "    </tr>\n",
       "    <tr>\n",
       "      <th>Cornelia</th>\n",
       "      <td>Beans</td>\n",
       "    </tr>\n",
       "  </tbody>\n",
       "</table>\n",
       "</div>"
      ],
      "text/plain": [
       "             food\n",
       "Jane        Steak\n",
       "Niko         Lamb\n",
       "Aaron       Mango\n",
       "Penelope    Apple\n",
       "Dean       Cheese\n",
       "Christina   Melon\n",
       "Cornelia    Beans"
      ]
     },
     "execution_count": 27,
     "metadata": {},
     "output_type": "execute_result"
    }
   ],
   "source": [
    "df[['food']]"
   ]
  },
  {
   "cell_type": "markdown",
   "metadata": {},
   "source": [
    "Although, this resembles the Series from above, it is technically a DataFrame, a different object.\n",
    "\n",
    "# Column order doesn't matter\n",
    "When selecting multiple columns, you can select them in any order that you choose. It doesn't have to be the same order as the original DataFrame. For instance, let's select `height` and `color`. "
   ]
  },
  {
   "cell_type": "code",
   "execution_count": 28,
   "metadata": {},
   "outputs": [
    {
     "data": {
      "text/html": [
       "<div>\n",
       "<style scoped>\n",
       "    .dataframe tbody tr th:only-of-type {\n",
       "        vertical-align: middle;\n",
       "    }\n",
       "\n",
       "    .dataframe tbody tr th {\n",
       "        vertical-align: top;\n",
       "    }\n",
       "\n",
       "    .dataframe thead th {\n",
       "        text-align: right;\n",
       "    }\n",
       "</style>\n",
       "<table border=\"1\" class=\"dataframe\">\n",
       "  <thead>\n",
       "    <tr style=\"text-align: right;\">\n",
       "      <th></th>\n",
       "      <th>height</th>\n",
       "      <th>color</th>\n",
       "    </tr>\n",
       "  </thead>\n",
       "  <tbody>\n",
       "    <tr>\n",
       "      <th>Jane</th>\n",
       "      <td>165</td>\n",
       "      <td>blue</td>\n",
       "    </tr>\n",
       "    <tr>\n",
       "      <th>Niko</th>\n",
       "      <td>70</td>\n",
       "      <td>green</td>\n",
       "    </tr>\n",
       "    <tr>\n",
       "      <th>Aaron</th>\n",
       "      <td>120</td>\n",
       "      <td>red</td>\n",
       "    </tr>\n",
       "    <tr>\n",
       "      <th>Penelope</th>\n",
       "      <td>80</td>\n",
       "      <td>white</td>\n",
       "    </tr>\n",
       "    <tr>\n",
       "      <th>Dean</th>\n",
       "      <td>180</td>\n",
       "      <td>gray</td>\n",
       "    </tr>\n",
       "    <tr>\n",
       "      <th>Christina</th>\n",
       "      <td>172</td>\n",
       "      <td>black</td>\n",
       "    </tr>\n",
       "    <tr>\n",
       "      <th>Cornelia</th>\n",
       "      <td>150</td>\n",
       "      <td>red</td>\n",
       "    </tr>\n",
       "  </tbody>\n",
       "</table>\n",
       "</div>"
      ],
      "text/plain": [
       "           height  color\n",
       "Jane          165   blue\n",
       "Niko           70  green\n",
       "Aaron         120    red\n",
       "Penelope       80  white\n",
       "Dean          180   gray\n",
       "Christina     172  black\n",
       "Cornelia      150    red"
      ]
     },
     "execution_count": 28,
     "metadata": {},
     "output_type": "execute_result"
    }
   ],
   "source": [
    "df[['height', 'color']]"
   ]
  },
  {
   "cell_type": "markdown",
   "metadata": {},
   "source": [
    "# Exceptions\n",
    "There are a couple common exceptions that arise when doing selections with just the indexing operator. \n",
    "* If you misspell a word, you will get a **`KeyError`**\n",
    "* If you forgot to use a list to contain multiple columns you will also get a **`KeyError`**"
   ]
  },
  {
   "cell_type": "code",
   "execution_count": 52,
   "metadata": {},
   "outputs": [
    {
     "ename": "KeyError",
     "evalue": "'hight'",
     "output_type": "error",
     "traceback": [
      "\u001b[0;31m---------------------------------------------------------------------------\u001b[0m",
      "\u001b[0;31mKeyError\u001b[0m                                  Traceback (most recent call last)",
      "\u001b[0;32m~/anaconda3/lib/python3.6/site-packages/pandas/core/indexes/base.py\u001b[0m in \u001b[0;36mget_loc\u001b[0;34m(self, key, method, tolerance)\u001b[0m\n\u001b[1;32m   3062\u001b[0m             \u001b[0;32mtry\u001b[0m\u001b[0;34m:\u001b[0m\u001b[0;34m\u001b[0m\u001b[0m\n\u001b[0;32m-> 3063\u001b[0;31m                 \u001b[0;32mreturn\u001b[0m \u001b[0mself\u001b[0m\u001b[0;34m.\u001b[0m\u001b[0m_engine\u001b[0m\u001b[0;34m.\u001b[0m\u001b[0mget_loc\u001b[0m\u001b[0;34m(\u001b[0m\u001b[0mkey\u001b[0m\u001b[0;34m)\u001b[0m\u001b[0;34m\u001b[0m\u001b[0m\n\u001b[0m\u001b[1;32m   3064\u001b[0m             \u001b[0;32mexcept\u001b[0m \u001b[0mKeyError\u001b[0m\u001b[0;34m:\u001b[0m\u001b[0;34m\u001b[0m\u001b[0m\n",
      "\u001b[0;32mpandas/_libs/index.pyx\u001b[0m in \u001b[0;36mpandas._libs.index.IndexEngine.get_loc\u001b[0;34m()\u001b[0m\n",
      "\u001b[0;32mpandas/_libs/index.pyx\u001b[0m in \u001b[0;36mpandas._libs.index.IndexEngine.get_loc\u001b[0;34m()\u001b[0m\n",
      "\u001b[0;32mpandas/_libs/hashtable_class_helper.pxi\u001b[0m in \u001b[0;36mpandas._libs.hashtable.PyObjectHashTable.get_item\u001b[0;34m()\u001b[0m\n",
      "\u001b[0;32mpandas/_libs/hashtable_class_helper.pxi\u001b[0m in \u001b[0;36mpandas._libs.hashtable.PyObjectHashTable.get_item\u001b[0;34m()\u001b[0m\n",
      "\u001b[0;31mKeyError\u001b[0m: 'hight'",
      "\nDuring handling of the above exception, another exception occurred:\n",
      "\u001b[0;31mKeyError\u001b[0m                                  Traceback (most recent call last)",
      "\u001b[0;32m<ipython-input-52-28f5e038e44d>\u001b[0m in \u001b[0;36m<module>\u001b[0;34m()\u001b[0m\n\u001b[0;32m----> 1\u001b[0;31m \u001b[0mdf\u001b[0m\u001b[0;34m[\u001b[0m\u001b[0;34m'hight'\u001b[0m\u001b[0;34m]\u001b[0m\u001b[0;34m\u001b[0m\u001b[0m\n\u001b[0m",
      "\u001b[0;32m~/anaconda3/lib/python3.6/site-packages/pandas/core/frame.py\u001b[0m in \u001b[0;36m__getitem__\u001b[0;34m(self, key)\u001b[0m\n\u001b[1;32m   2683\u001b[0m             \u001b[0;32mreturn\u001b[0m \u001b[0mself\u001b[0m\u001b[0;34m.\u001b[0m\u001b[0m_getitem_multilevel\u001b[0m\u001b[0;34m(\u001b[0m\u001b[0mkey\u001b[0m\u001b[0;34m)\u001b[0m\u001b[0;34m\u001b[0m\u001b[0m\n\u001b[1;32m   2684\u001b[0m         \u001b[0;32melse\u001b[0m\u001b[0;34m:\u001b[0m\u001b[0;34m\u001b[0m\u001b[0m\n\u001b[0;32m-> 2685\u001b[0;31m             \u001b[0;32mreturn\u001b[0m \u001b[0mself\u001b[0m\u001b[0;34m.\u001b[0m\u001b[0m_getitem_column\u001b[0m\u001b[0;34m(\u001b[0m\u001b[0mkey\u001b[0m\u001b[0;34m)\u001b[0m\u001b[0;34m\u001b[0m\u001b[0m\n\u001b[0m\u001b[1;32m   2686\u001b[0m \u001b[0;34m\u001b[0m\u001b[0m\n\u001b[1;32m   2687\u001b[0m     \u001b[0;32mdef\u001b[0m \u001b[0m_getitem_column\u001b[0m\u001b[0;34m(\u001b[0m\u001b[0mself\u001b[0m\u001b[0;34m,\u001b[0m \u001b[0mkey\u001b[0m\u001b[0;34m)\u001b[0m\u001b[0;34m:\u001b[0m\u001b[0;34m\u001b[0m\u001b[0m\n",
      "\u001b[0;32m~/anaconda3/lib/python3.6/site-packages/pandas/core/frame.py\u001b[0m in \u001b[0;36m_getitem_column\u001b[0;34m(self, key)\u001b[0m\n\u001b[1;32m   2690\u001b[0m         \u001b[0;31m# get column\u001b[0m\u001b[0;34m\u001b[0m\u001b[0;34m\u001b[0m\u001b[0m\n\u001b[1;32m   2691\u001b[0m         \u001b[0;32mif\u001b[0m \u001b[0mself\u001b[0m\u001b[0;34m.\u001b[0m\u001b[0mcolumns\u001b[0m\u001b[0;34m.\u001b[0m\u001b[0mis_unique\u001b[0m\u001b[0;34m:\u001b[0m\u001b[0;34m\u001b[0m\u001b[0m\n\u001b[0;32m-> 2692\u001b[0;31m             \u001b[0;32mreturn\u001b[0m \u001b[0mself\u001b[0m\u001b[0;34m.\u001b[0m\u001b[0m_get_item_cache\u001b[0m\u001b[0;34m(\u001b[0m\u001b[0mkey\u001b[0m\u001b[0;34m)\u001b[0m\u001b[0;34m\u001b[0m\u001b[0m\n\u001b[0m\u001b[1;32m   2693\u001b[0m \u001b[0;34m\u001b[0m\u001b[0m\n\u001b[1;32m   2694\u001b[0m         \u001b[0;31m# duplicate columns & possible reduce dimensionality\u001b[0m\u001b[0;34m\u001b[0m\u001b[0;34m\u001b[0m\u001b[0m\n",
      "\u001b[0;32m~/anaconda3/lib/python3.6/site-packages/pandas/core/generic.py\u001b[0m in \u001b[0;36m_get_item_cache\u001b[0;34m(self, item)\u001b[0m\n\u001b[1;32m   2484\u001b[0m         \u001b[0mres\u001b[0m \u001b[0;34m=\u001b[0m \u001b[0mcache\u001b[0m\u001b[0;34m.\u001b[0m\u001b[0mget\u001b[0m\u001b[0;34m(\u001b[0m\u001b[0mitem\u001b[0m\u001b[0;34m)\u001b[0m\u001b[0;34m\u001b[0m\u001b[0m\n\u001b[1;32m   2485\u001b[0m         \u001b[0;32mif\u001b[0m \u001b[0mres\u001b[0m \u001b[0;32mis\u001b[0m \u001b[0;32mNone\u001b[0m\u001b[0;34m:\u001b[0m\u001b[0;34m\u001b[0m\u001b[0m\n\u001b[0;32m-> 2486\u001b[0;31m             \u001b[0mvalues\u001b[0m \u001b[0;34m=\u001b[0m \u001b[0mself\u001b[0m\u001b[0;34m.\u001b[0m\u001b[0m_data\u001b[0m\u001b[0;34m.\u001b[0m\u001b[0mget\u001b[0m\u001b[0;34m(\u001b[0m\u001b[0mitem\u001b[0m\u001b[0;34m)\u001b[0m\u001b[0;34m\u001b[0m\u001b[0m\n\u001b[0m\u001b[1;32m   2487\u001b[0m             \u001b[0mres\u001b[0m \u001b[0;34m=\u001b[0m \u001b[0mself\u001b[0m\u001b[0;34m.\u001b[0m\u001b[0m_box_item_values\u001b[0m\u001b[0;34m(\u001b[0m\u001b[0mitem\u001b[0m\u001b[0;34m,\u001b[0m \u001b[0mvalues\u001b[0m\u001b[0;34m)\u001b[0m\u001b[0;34m\u001b[0m\u001b[0m\n\u001b[1;32m   2488\u001b[0m             \u001b[0mcache\u001b[0m\u001b[0;34m[\u001b[0m\u001b[0mitem\u001b[0m\u001b[0;34m]\u001b[0m \u001b[0;34m=\u001b[0m \u001b[0mres\u001b[0m\u001b[0;34m\u001b[0m\u001b[0m\n",
      "\u001b[0;32m~/anaconda3/lib/python3.6/site-packages/pandas/core/internals.py\u001b[0m in \u001b[0;36mget\u001b[0;34m(self, item, fastpath)\u001b[0m\n\u001b[1;32m   4113\u001b[0m \u001b[0;34m\u001b[0m\u001b[0m\n\u001b[1;32m   4114\u001b[0m             \u001b[0;32mif\u001b[0m \u001b[0;32mnot\u001b[0m \u001b[0misna\u001b[0m\u001b[0;34m(\u001b[0m\u001b[0mitem\u001b[0m\u001b[0;34m)\u001b[0m\u001b[0;34m:\u001b[0m\u001b[0;34m\u001b[0m\u001b[0m\n\u001b[0;32m-> 4115\u001b[0;31m                 \u001b[0mloc\u001b[0m \u001b[0;34m=\u001b[0m \u001b[0mself\u001b[0m\u001b[0;34m.\u001b[0m\u001b[0mitems\u001b[0m\u001b[0;34m.\u001b[0m\u001b[0mget_loc\u001b[0m\u001b[0;34m(\u001b[0m\u001b[0mitem\u001b[0m\u001b[0;34m)\u001b[0m\u001b[0;34m\u001b[0m\u001b[0m\n\u001b[0m\u001b[1;32m   4116\u001b[0m             \u001b[0;32melse\u001b[0m\u001b[0;34m:\u001b[0m\u001b[0;34m\u001b[0m\u001b[0m\n\u001b[1;32m   4117\u001b[0m                 \u001b[0mindexer\u001b[0m \u001b[0;34m=\u001b[0m \u001b[0mnp\u001b[0m\u001b[0;34m.\u001b[0m\u001b[0marange\u001b[0m\u001b[0;34m(\u001b[0m\u001b[0mlen\u001b[0m\u001b[0;34m(\u001b[0m\u001b[0mself\u001b[0m\u001b[0;34m.\u001b[0m\u001b[0mitems\u001b[0m\u001b[0;34m)\u001b[0m\u001b[0;34m)\u001b[0m\u001b[0;34m[\u001b[0m\u001b[0misna\u001b[0m\u001b[0;34m(\u001b[0m\u001b[0mself\u001b[0m\u001b[0;34m.\u001b[0m\u001b[0mitems\u001b[0m\u001b[0;34m)\u001b[0m\u001b[0;34m]\u001b[0m\u001b[0;34m\u001b[0m\u001b[0m\n",
      "\u001b[0;32m~/anaconda3/lib/python3.6/site-packages/pandas/core/indexes/base.py\u001b[0m in \u001b[0;36mget_loc\u001b[0;34m(self, key, method, tolerance)\u001b[0m\n\u001b[1;32m   3063\u001b[0m                 \u001b[0;32mreturn\u001b[0m \u001b[0mself\u001b[0m\u001b[0;34m.\u001b[0m\u001b[0m_engine\u001b[0m\u001b[0;34m.\u001b[0m\u001b[0mget_loc\u001b[0m\u001b[0;34m(\u001b[0m\u001b[0mkey\u001b[0m\u001b[0;34m)\u001b[0m\u001b[0;34m\u001b[0m\u001b[0m\n\u001b[1;32m   3064\u001b[0m             \u001b[0;32mexcept\u001b[0m \u001b[0mKeyError\u001b[0m\u001b[0;34m:\u001b[0m\u001b[0;34m\u001b[0m\u001b[0m\n\u001b[0;32m-> 3065\u001b[0;31m                 \u001b[0;32mreturn\u001b[0m \u001b[0mself\u001b[0m\u001b[0;34m.\u001b[0m\u001b[0m_engine\u001b[0m\u001b[0;34m.\u001b[0m\u001b[0mget_loc\u001b[0m\u001b[0;34m(\u001b[0m\u001b[0mself\u001b[0m\u001b[0;34m.\u001b[0m\u001b[0m_maybe_cast_indexer\u001b[0m\u001b[0;34m(\u001b[0m\u001b[0mkey\u001b[0m\u001b[0;34m)\u001b[0m\u001b[0;34m)\u001b[0m\u001b[0;34m\u001b[0m\u001b[0m\n\u001b[0m\u001b[1;32m   3066\u001b[0m \u001b[0;34m\u001b[0m\u001b[0m\n\u001b[1;32m   3067\u001b[0m         \u001b[0mindexer\u001b[0m \u001b[0;34m=\u001b[0m \u001b[0mself\u001b[0m\u001b[0;34m.\u001b[0m\u001b[0mget_indexer\u001b[0m\u001b[0;34m(\u001b[0m\u001b[0;34m[\u001b[0m\u001b[0mkey\u001b[0m\u001b[0;34m]\u001b[0m\u001b[0;34m,\u001b[0m \u001b[0mmethod\u001b[0m\u001b[0;34m=\u001b[0m\u001b[0mmethod\u001b[0m\u001b[0;34m,\u001b[0m \u001b[0mtolerance\u001b[0m\u001b[0;34m=\u001b[0m\u001b[0mtolerance\u001b[0m\u001b[0;34m)\u001b[0m\u001b[0;34m\u001b[0m\u001b[0m\n",
      "\u001b[0;32mpandas/_libs/index.pyx\u001b[0m in \u001b[0;36mpandas._libs.index.IndexEngine.get_loc\u001b[0;34m()\u001b[0m\n",
      "\u001b[0;32mpandas/_libs/index.pyx\u001b[0m in \u001b[0;36mpandas._libs.index.IndexEngine.get_loc\u001b[0;34m()\u001b[0m\n",
      "\u001b[0;32mpandas/_libs/hashtable_class_helper.pxi\u001b[0m in \u001b[0;36mpandas._libs.hashtable.PyObjectHashTable.get_item\u001b[0;34m()\u001b[0m\n",
      "\u001b[0;32mpandas/_libs/hashtable_class_helper.pxi\u001b[0m in \u001b[0;36mpandas._libs.hashtable.PyObjectHashTable.get_item\u001b[0;34m()\u001b[0m\n",
      "\u001b[0;31mKeyError\u001b[0m: 'hight'"
     ]
    }
   ],
   "source": [
    "df['hight']"
   ]
  },
  {
   "cell_type": "code",
   "execution_count": null,
   "metadata": {},
   "outputs": [],
   "source": [
    "df['color', 'age'] # should be:  df[['color', 'age']]"
   ]
  },
  {
   "cell_type": "markdown",
   "metadata": {},
   "source": [
    "# Summary of just the indexing operator\n",
    "* Its primary purpose is to select columns by the column names\n",
    "* Select a single column as a Series by passing the column name directly to it: **`df['col_name']`**\n",
    "* Select multiple columns as a DataFrame by passing a **list** to it: **`df[['col_name1', 'col_name2']]`**\n",
    "* You actually can select rows with it, but this will not be shown here as it is confusing and not used often."
   ]
  },
  {
   "cell_type": "markdown",
   "metadata": {},
   "source": [
    "# Getting started with `.loc`\n",
    "The **`.loc`** indexer selects data in a different way than just the indexing operator. It can select subsets of rows or columns. It can also simultaneously select subsets of rows and columns. Most importantly, it only selects data by the **LABEL** of the rows and columns.\n",
    "\n",
    "# Select a single row as a  Series with `.loc`\n",
    "The **`.loc`** indexer will return a single row as a Series when given a single row label. Let's select the row for **`Niko`**."
   ]
  },
  {
   "cell_type": "code",
   "execution_count": null,
   "metadata": {},
   "outputs": [],
   "source": [
    "df.loc['Niko']"
   ]
  },
  {
   "cell_type": "markdown",
   "metadata": {},
   "source": [
    "We now have a Series, where the old column names are now the index labels. The **`name`** of the Series has become the old index label, **`Niko`** in this case."
   ]
  },
  {
   "cell_type": "markdown",
   "metadata": {},
   "source": [
    "# Select multiple rows as a DataFrame with `.loc`\n",
    "To select multiple rows, put all the row labels you want to select in a list and pass that to **`.loc`**. Let's select `Niko` and `Penelope`."
   ]
  },
  {
   "cell_type": "code",
   "execution_count": null,
   "metadata": {},
   "outputs": [],
   "source": [
    "df.loc[['Niko', 'Penelope']]"
   ]
  },
  {
   "cell_type": "markdown",
   "metadata": {},
   "source": [
    "# Use slice notation to select a range of rows with `.loc`\n",
    "It is possible to 'slice' the rows of a DataFrame with `.loc` by using **slice notation**. Slice notation uses a colon to separate **start**, **stop** and **step** values. For instance we can select all the rows from `Niko` through `Dean` like this:"
   ]
  },
  {
   "cell_type": "code",
   "execution_count": null,
   "metadata": {},
   "outputs": [],
   "source": [
    "df.loc['Niko':'Dean']"
   ]
  },
  {
   "cell_type": "markdown",
   "metadata": {},
   "source": [
    "# `.loc` includes the last value with slice notation\n",
    "Notice that the row labeled with `Dean` was kept. In other data containers such as Python lists, the last value is excluded.\n",
    "\n",
    "# Other slices\n",
    "You can use slice notation similarly to how you use it with lists. Let's slice from the beginning through `Aaron`:"
   ]
  },
  {
   "cell_type": "code",
   "execution_count": null,
   "metadata": {},
   "outputs": [],
   "source": [
    "df.loc[:'Aaron']"
   ]
  },
  {
   "cell_type": "markdown",
   "metadata": {},
   "source": [
    "Slice from `Niko` to `Christina` stepping by 2:"
   ]
  },
  {
   "cell_type": "code",
   "execution_count": null,
   "metadata": {},
   "outputs": [],
   "source": [
    "df.loc['Niko':'Christina':2]"
   ]
  },
  {
   "cell_type": "markdown",
   "metadata": {},
   "source": [
    "Slice from `Dean` to the end:"
   ]
  },
  {
   "cell_type": "code",
   "execution_count": null,
   "metadata": {},
   "outputs": [],
   "source": [
    "df.loc['Dean':]"
   ]
  },
  {
   "cell_type": "markdown",
   "metadata": {},
   "source": [
    "# Selecting rows and columns simultaneously with `.loc`\n",
    "Unlike just the indexing operator, it is possible to select rows and columns simultaneously with `.loc`. You do it by separating your row and column selections by a **comma**. It will look something like this:\n",
    "\n",
    "```\n",
    "df.loc[row_selection, column_selection]\n",
    "```\n",
    "\n",
    "## Select two rows and three columns\n",
    "For instance, if we wanted to select the rows `Dean` and `Cornelia` along with the columns `age`, `state` and `score` we would do this:"
   ]
  },
  {
   "cell_type": "code",
   "execution_count": null,
   "metadata": {},
   "outputs": [],
   "source": [
    "df.loc[['Dean', 'Cornelia'], ['age', 'state', 'score']]"
   ]
  },
  {
   "cell_type": "markdown",
   "metadata": {},
   "source": [
    "# Use any combination of selections for either row or columns for `.loc`\n",
    "Row or column selections can be any of the following as we have already seen:\n",
    "* A single label\n",
    "* A list of labels\n",
    "* A slice with labels\n",
    "\n",
    "We can use any of these three for either row or column selections with **`.loc`**. Let's see some examples.\n",
    "\n",
    "Let's select two rows and a single column:"
   ]
  },
  {
   "cell_type": "code",
   "execution_count": null,
   "metadata": {},
   "outputs": [],
   "source": [
    "df.loc[['Dean', 'Aaron'], 'food']"
   ]
  },
  {
   "cell_type": "markdown",
   "metadata": {},
   "source": [
    "Select a slice of rows and a list of columns:"
   ]
  },
  {
   "cell_type": "code",
   "execution_count": null,
   "metadata": {},
   "outputs": [],
   "source": [
    "df.loc['Jane':'Penelope', ['state', 'color']]"
   ]
  },
  {
   "cell_type": "markdown",
   "metadata": {},
   "source": [
    "Select a single row and a single column. This returns a scalar value."
   ]
  },
  {
   "cell_type": "code",
   "execution_count": null,
   "metadata": {},
   "outputs": [],
   "source": [
    "df.loc['Jane', 'age']"
   ]
  },
  {
   "cell_type": "markdown",
   "metadata": {},
   "source": [
    "Select a slice of rows and columns"
   ]
  },
  {
   "cell_type": "code",
   "execution_count": null,
   "metadata": {},
   "outputs": [],
   "source": [
    "df.loc[:'Dean', 'height':]"
   ]
  },
  {
   "cell_type": "markdown",
   "metadata": {},
   "source": [
    "## Selecting all of the rows and some columns\n",
    "It is possible to select all of the rows by using a single colon. You can then select columns as normal:"
   ]
  },
  {
   "cell_type": "code",
   "execution_count": null,
   "metadata": {},
   "outputs": [],
   "source": [
    "df.loc[:, ['food', 'color']]"
   ]
  },
  {
   "cell_type": "markdown",
   "metadata": {},
   "source": [
    "You can also use this notation to select all of the columns:"
   ]
  },
  {
   "cell_type": "code",
   "execution_count": null,
   "metadata": {},
   "outputs": [],
   "source": [
    "df.loc[['Penelope','Cornelia'], :]"
   ]
  },
  {
   "cell_type": "markdown",
   "metadata": {},
   "source": [
    "But, it isn't necessary as we have seen, so you can leave out that last colon:"
   ]
  },
  {
   "cell_type": "code",
   "execution_count": null,
   "metadata": {},
   "outputs": [],
   "source": [
    "df.loc[['Penelope','Cornelia']]"
   ]
  },
  {
   "cell_type": "markdown",
   "metadata": {},
   "source": [
    "# Assign row and column selections to variables\n",
    "It might be easier to assign row and column selections to variables before you use `.loc`. This is useful if you are selecting many rows or columns:"
   ]
  },
  {
   "cell_type": "code",
   "execution_count": null,
   "metadata": {},
   "outputs": [],
   "source": [
    "rows = ['Jane', 'Niko', 'Dean', 'Penelope', 'Christina']\n",
    "cols = ['state', 'age', 'height', 'score']\n",
    "df.loc[rows, cols]"
   ]
  },
  {
   "cell_type": "markdown",
   "metadata": {},
   "source": [
    "# Summary of `.loc`\n",
    "\n",
    "* Only uses labels\n",
    "* Can select rows and columns simultaneously\n",
    "* Selection can be a single label, a list of labels or a slice of labels\n",
    "* Put a comma between row and column selections"
   ]
  },
  {
   "cell_type": "markdown",
   "metadata": {},
   "source": [
    "# Getting started with `.iloc`\n",
    "The `.iloc` indexer is very similar to `.loc` but only uses integer locations to make its selections. The word `.iloc` itself stands for integer location so that should help with remember what it does.\n",
    "\n",
    "# Selecting a single row with `.iloc`\n",
    "By passing a single integer to `.iloc`, it will select one row as a Series:"
   ]
  },
  {
   "cell_type": "code",
   "execution_count": 44,
   "metadata": {},
   "outputs": [
    {
     "data": {
      "text/plain": [
       "DBA Name                                      WILD GOOSE BAR & GRILL\n",
       "AKA Name                                      WILD GOOSE BAR & GRILL\n",
       "License #                                                      12475\n",
       "Facility Type                                             Restaurant\n",
       "Risk                                                   Risk 1 (High)\n",
       "Address                                          4265 N LINCOLN AVE \n",
       "City                                                         CHICAGO\n",
       "State                                                             IL\n",
       "Zip                                                            60618\n",
       "Inspection Date                                           03/27/2017\n",
       "Inspection Type                                              Canvass\n",
       "Results                                                         Fail\n",
       "Violations         16. FOOD PROTECTED DURING STORAGE, PREPARATION...\n",
       "Latitude                                                     41.9596\n",
       "Longitude                                                   -87.6824\n",
       "Location                     (41.95958202440171, -87.68239844007711)\n",
       "Name: 3, dtype: object"
      ]
     },
     "execution_count": 44,
     "metadata": {},
     "output_type": "execute_result"
    }
   ],
   "source": [
    "df.iloc[3]"
   ]
  },
  {
   "cell_type": "markdown",
   "metadata": {},
   "source": [
    "# Selecting multiple rows with `.iloc`\n",
    "Use a list of integers to select multiple rows:"
   ]
  },
  {
   "cell_type": "code",
   "execution_count": null,
   "metadata": {},
   "outputs": [],
   "source": [
    "df.iloc[[5, 2, 4]]           # remember, don't do df.iloc[5, 2, 4]  Error!"
   ]
  },
  {
   "cell_type": "markdown",
   "metadata": {},
   "source": [
    "# Use slice notation to select a range of rows with `.iloc`\n",
    "Slice notation works just like a list in this instance and is exclusive of the last element"
   ]
  },
  {
   "cell_type": "code",
   "execution_count": null,
   "metadata": {},
   "outputs": [],
   "source": [
    "df.iloc[3:5]"
   ]
  },
  {
   "cell_type": "markdown",
   "metadata": {},
   "source": [
    "Select 3rd position until end:"
   ]
  },
  {
   "cell_type": "code",
   "execution_count": null,
   "metadata": {},
   "outputs": [],
   "source": [
    "df.iloc[3:]"
   ]
  },
  {
   "cell_type": "markdown",
   "metadata": {},
   "source": [
    "Select 3rd position to end by 2:"
   ]
  },
  {
   "cell_type": "code",
   "execution_count": null,
   "metadata": {},
   "outputs": [],
   "source": [
    "df.iloc[3::2]"
   ]
  },
  {
   "cell_type": "markdown",
   "metadata": {},
   "source": [
    "# Selecting rows and columns simultaneously with `.iloc`\n",
    "Just like with `.iloc` any combination of a single integer, lists of integers or slices can be used to select rows and columns simultaneously. Just remember to separate the selections with a **comma**.\n",
    "\n",
    "Select two rows and two columns:"
   ]
  },
  {
   "cell_type": "code",
   "execution_count": null,
   "metadata": {},
   "outputs": [],
   "source": [
    "df.iloc[[2,3], [0, 4]]"
   ]
  },
  {
   "cell_type": "markdown",
   "metadata": {},
   "source": [
    "Select a slice of the rows and two columns:"
   ]
  },
  {
   "cell_type": "code",
   "execution_count": null,
   "metadata": {},
   "outputs": [],
   "source": [
    "df.iloc[3:6, [1, 4]]"
   ]
  },
  {
   "cell_type": "markdown",
   "metadata": {},
   "source": [
    "Select slices for both"
   ]
  },
  {
   "cell_type": "code",
   "execution_count": null,
   "metadata": {},
   "outputs": [],
   "source": [
    "df.iloc[2:5, 2:5]"
   ]
  },
  {
   "cell_type": "markdown",
   "metadata": {},
   "source": [
    "Select a single row and column"
   ]
  },
  {
   "cell_type": "code",
   "execution_count": null,
   "metadata": {},
   "outputs": [],
   "source": [
    "df.iloc[0, 2]"
   ]
  },
  {
   "cell_type": "markdown",
   "metadata": {},
   "source": [
    "Select all the rows and a single column"
   ]
  },
  {
   "cell_type": "code",
   "execution_count": null,
   "metadata": {},
   "outputs": [],
   "source": [
    "df.iloc[:, 5]"
   ]
  },
  {
   "cell_type": "markdown",
   "metadata": {},
   "source": [
    "# Deprecation of `.ix`\n",
    "Early in the development of pandas, there existed another indexer, **`ix`**. This indexer was capable of selecting both by label and by integer location. While it was versatile, it caused lots of confusion because it's not explicit. Sometimes integers can also be labels for rows or columns. Thus there were instances where it was ambiguous.\n",
    "\n",
    "You can still call **`.ix`**, but it has been deprecated, so please **never use it**."
   ]
  },
  {
   "cell_type": "markdown",
   "metadata": {},
   "source": [
    "# Selecting subsets of Series\n",
    "\n",
    "We can also, of course, do subset selection with a Series. Earlier I recommended using just the indexing operator for column selection on a DataFrame. Since Series do not have columns, I suggest using only **`.loc`** and **`.iloc`**. You can use just the indexing operator, but its ambiguous as it can take both labels and integers. I will come back to this at the end of the tutorial.\n",
    "\n",
    "Typically, you will create a Series by selecting a single column from a DataFrame. Let's select the **`food`** column:"
   ]
  },
  {
   "cell_type": "code",
   "execution_count": null,
   "metadata": {},
   "outputs": [],
   "source": [
    "food = df['food']\n",
    "food"
   ]
  },
  {
   "cell_type": "markdown",
   "metadata": {},
   "source": [
    "# Series selection with `.loc`\n",
    "Series selection with `.loc` is quite simple, since we are only dealing with a single dimension. You can again use a single row label, a list of row labels or a slice of row labels to make your selection. Let's see several examples.\n",
    "\n",
    "Let's select a single value:"
   ]
  },
  {
   "cell_type": "code",
   "execution_count": null,
   "metadata": {},
   "outputs": [],
   "source": [
    "food.loc['Aaron']"
   ]
  },
  {
   "cell_type": "markdown",
   "metadata": {},
   "source": [
    "Select three different values. This returns a Series:"
   ]
  },
  {
   "cell_type": "code",
   "execution_count": null,
   "metadata": {},
   "outputs": [],
   "source": [
    "food.loc[['Dean', 'Niko', 'Cornelia']]"
   ]
  },
  {
   "cell_type": "markdown",
   "metadata": {},
   "source": [
    "Slice from `Niko` to `Christina` - is inclusive of last index"
   ]
  },
  {
   "cell_type": "code",
   "execution_count": null,
   "metadata": {},
   "outputs": [],
   "source": [
    "food.loc['Niko':'Christina']"
   ]
  },
  {
   "cell_type": "markdown",
   "metadata": {},
   "source": [
    "Slice from `Penelope` to the end:"
   ]
  },
  {
   "cell_type": "code",
   "execution_count": null,
   "metadata": {},
   "outputs": [],
   "source": [
    "food.loc['Penelope':]"
   ]
  },
  {
   "cell_type": "markdown",
   "metadata": {},
   "source": [
    "Select a single value in a list which returns a Series"
   ]
  },
  {
   "cell_type": "code",
   "execution_count": null,
   "metadata": {},
   "outputs": [],
   "source": [
    "food.loc[['Aaron']]"
   ]
  },
  {
   "cell_type": "markdown",
   "metadata": {},
   "source": [
    "# Series selection with `.iloc`\n",
    "Series subset selection with **`.iloc`** happens similarly to **`.loc`** except it uses integer location. You can use a single integer, a list of integers or a slice of integers. Let's see some examples.\n",
    "\n",
    "Select a single value:"
   ]
  },
  {
   "cell_type": "code",
   "execution_count": null,
   "metadata": {},
   "outputs": [],
   "source": [
    "food.iloc[0]"
   ]
  },
  {
   "cell_type": "markdown",
   "metadata": {},
   "source": [
    "Use a list of integers to select multiple values:"
   ]
  },
  {
   "cell_type": "code",
   "execution_count": null,
   "metadata": {},
   "outputs": [],
   "source": [
    "food.iloc[[4, 1, 3]]"
   ]
  },
  {
   "cell_type": "markdown",
   "metadata": {},
   "source": [
    "Use a slice - is exclusive of last integer"
   ]
  },
  {
   "cell_type": "code",
   "execution_count": null,
   "metadata": {},
   "outputs": [],
   "source": [
    "food.iloc[4:6]"
   ]
  },
  {
   "cell_type": "markdown",
   "metadata": {},
   "source": [
    "# Comparison to Python lists and dictionaries\n",
    "It may be helpful to compare pandas ability to make selections by label and integer location to that of Python lists and dictionaries.\n",
    "\n",
    "Python lists allow for selection of data only through integer location. You can use a single integer or slice notation to make the selection but NOT a list of integers.\n",
    "\n",
    "Let's see examples of subset selection of lists using integers:"
   ]
  },
  {
   "cell_type": "code",
   "execution_count": null,
   "metadata": {},
   "outputs": [],
   "source": [
    "some_list = ['a', 'two', 10, 4, 0, 'asdf', 'mgmt', 434, 99]"
   ]
  },
  {
   "cell_type": "code",
   "execution_count": null,
   "metadata": {},
   "outputs": [],
   "source": [
    "some_list[5]"
   ]
  },
  {
   "cell_type": "code",
   "execution_count": null,
   "metadata": {},
   "outputs": [],
   "source": [
    "some_list[-1]"
   ]
  },
  {
   "cell_type": "code",
   "execution_count": null,
   "metadata": {},
   "outputs": [],
   "source": [
    "some_list[:4]"
   ]
  },
  {
   "cell_type": "code",
   "execution_count": null,
   "metadata": {},
   "outputs": [],
   "source": [
    "some_list[3:]"
   ]
  },
  {
   "cell_type": "code",
   "execution_count": null,
   "metadata": {},
   "outputs": [],
   "source": [
    "some_list[2:6:3]"
   ]
  },
  {
   "cell_type": "markdown",
   "metadata": {},
   "source": [
    "### Selection by label with Python dictionaries\n",
    "All values in each dictionary are labeled by a **key**. We use this key to make single selections. Dictionaries only allow selection with a single label. Slices and lists of labels are not allowed."
   ]
  },
  {
   "cell_type": "code",
   "execution_count": null,
   "metadata": {},
   "outputs": [],
   "source": [
    "d = {'a':1, 'b':2, 't':20, 'z':26, 'A':27}"
   ]
  },
  {
   "cell_type": "code",
   "execution_count": null,
   "metadata": {},
   "outputs": [],
   "source": [
    "d['a']"
   ]
  },
  {
   "cell_type": "code",
   "execution_count": null,
   "metadata": {},
   "outputs": [],
   "source": [
    "d['A']"
   ]
  },
  {
   "cell_type": "markdown",
   "metadata": {},
   "source": [
    "### Pandas has power of lists and dictionaries\n",
    "DataFrames and Series are able to make selections with integers like a list and with labels like a dictionary."
   ]
  },
  {
   "cell_type": "markdown",
   "metadata": {},
   "source": [
    "# Extra Topics\n",
    "There are a few more items that are important and belong in this tutorial and will be mentioned now."
   ]
  },
  {
   "cell_type": "markdown",
   "metadata": {},
   "source": [
    "# Using just the indexing operator to select rows from a DataFrame - Confusing!\n",
    "Above, I used just the indexing operator to select a column or columns from a DataFrame. But, it can also be used to select rows using a **slice**. This behavior is very confusing in my opinion. The entire operation changes completely when a slice is passed.\n",
    "\n",
    "Let's use an integer slice as our first example:"
   ]
  },
  {
   "cell_type": "code",
   "execution_count": null,
   "metadata": {},
   "outputs": [],
   "source": [
    "df[3:6]"
   ]
  },
  {
   "cell_type": "markdown",
   "metadata": {},
   "source": [
    "To add to this confusion, you can slice by labels as well."
   ]
  },
  {
   "cell_type": "code",
   "execution_count": null,
   "metadata": {},
   "outputs": [],
   "source": [
    "df['Aaron':'Christina']"
   ]
  },
  {
   "cell_type": "markdown",
   "metadata": {},
   "source": [
    "# I recommend not doing this!\n",
    "This feature is not deprecated and completely up to you whether you wish to use it. But, I highly prefer not to select rows in this manner as can be ambiguous, especially if you have integers in your index. \n",
    "\n",
    "Using **`.iloc`** and **`.loc`** is explicit and clearly tells the person reading the code what is going to happen. Let's rewrite the above using **`.iloc`** and **`.loc`**."
   ]
  },
  {
   "cell_type": "code",
   "execution_count": null,
   "metadata": {},
   "outputs": [],
   "source": [
    "df.iloc[3:6]      # More explicit that df[3:6]"
   ]
  },
  {
   "cell_type": "code",
   "execution_count": null,
   "metadata": {},
   "outputs": [],
   "source": [
    "df.loc['Aaron':'Christina']     # more explicit than df['Aaron':'Christina']"
   ]
  },
  {
   "cell_type": "markdown",
   "metadata": {},
   "source": [
    "# Cannot simultaneously select rows and columns with `[]`\n",
    "An exception will be raised if you try and select rows and columns simultaneously with just the indexing operator. You must use **`.loc`** or **`.iloc`** to do so."
   ]
  },
  {
   "cell_type": "code",
   "execution_count": null,
   "metadata": {},
   "outputs": [],
   "source": [
    "df[3:6, 'Aaron':'Christina']"
   ]
  },
  {
   "cell_type": "markdown",
   "metadata": {},
   "source": [
    "# Using just the indexing operator to select rows from a Series - Confusing!\n",
    "You can also use just the indexing operator with a Series. Again, this is confusing because it can accept integers or labels. Let's see some examples"
   ]
  },
  {
   "cell_type": "code",
   "execution_count": null,
   "metadata": {},
   "outputs": [],
   "source": [
    "food"
   ]
  },
  {
   "cell_type": "code",
   "execution_count": null,
   "metadata": {},
   "outputs": [],
   "source": [
    "food[2:4]"
   ]
  },
  {
   "cell_type": "code",
   "execution_count": null,
   "metadata": {},
   "outputs": [],
   "source": [
    "food['Niko':'Dean']"
   ]
  },
  {
   "cell_type": "markdown",
   "metadata": {},
   "source": [
    "Since Series don't have columns you can use a single label and list of labels to make selections as well"
   ]
  },
  {
   "cell_type": "code",
   "execution_count": null,
   "metadata": {},
   "outputs": [],
   "source": [
    "food['Dean']"
   ]
  },
  {
   "cell_type": "code",
   "execution_count": null,
   "metadata": {},
   "outputs": [],
   "source": [
    "food[['Dean', 'Christina', 'Aaron']]"
   ]
  },
  {
   "cell_type": "markdown",
   "metadata": {},
   "source": [
    "Again, I recommend against doing this and always use **`.iloc`** or **`.loc`**"
   ]
  },
  {
   "cell_type": "markdown",
   "metadata": {},
   "source": [
    "# Importing data without choosing an index column\n",
    "We imported data by choosing the first column to be the index with the **`index_col`** parameter of the **`read_csv`** function. This is not typically how most DataFrames are read into pandas.\n",
    "\n",
    "Usually, all the columns in the csv file become DataFrame columns. Pandas will use the integers 0 to n-1 as the labels. See the example data below with a slightly different dataset:"
   ]
  },
  {
   "cell_type": "code",
   "execution_count": 32,
   "metadata": {},
   "outputs": [
    {
     "data": {
      "text/html": [
       "<div>\n",
       "<style scoped>\n",
       "    .dataframe tbody tr th:only-of-type {\n",
       "        vertical-align: middle;\n",
       "    }\n",
       "\n",
       "    .dataframe tbody tr th {\n",
       "        vertical-align: top;\n",
       "    }\n",
       "\n",
       "    .dataframe thead th {\n",
       "        text-align: right;\n",
       "    }\n",
       "</style>\n",
       "<table border=\"1\" class=\"dataframe\">\n",
       "  <thead>\n",
       "    <tr style=\"text-align: right;\">\n",
       "      <th></th>\n",
       "      <th>Names</th>\n",
       "      <th>state</th>\n",
       "      <th>color</th>\n",
       "      <th>food</th>\n",
       "      <th>age</th>\n",
       "      <th>height</th>\n",
       "      <th>score</th>\n",
       "    </tr>\n",
       "  </thead>\n",
       "  <tbody>\n",
       "    <tr>\n",
       "      <th>0</th>\n",
       "      <td>Jane</td>\n",
       "      <td>NY</td>\n",
       "      <td>blue</td>\n",
       "      <td>Steak</td>\n",
       "      <td>30</td>\n",
       "      <td>165</td>\n",
       "      <td>4.6</td>\n",
       "    </tr>\n",
       "    <tr>\n",
       "      <th>1</th>\n",
       "      <td>Niko</td>\n",
       "      <td>TX</td>\n",
       "      <td>green</td>\n",
       "      <td>Lamb</td>\n",
       "      <td>2</td>\n",
       "      <td>70</td>\n",
       "      <td>8.3</td>\n",
       "    </tr>\n",
       "    <tr>\n",
       "      <th>2</th>\n",
       "      <td>Aaron</td>\n",
       "      <td>FL</td>\n",
       "      <td>red</td>\n",
       "      <td>Mango</td>\n",
       "      <td>12</td>\n",
       "      <td>120</td>\n",
       "      <td>9.0</td>\n",
       "    </tr>\n",
       "    <tr>\n",
       "      <th>3</th>\n",
       "      <td>Penelope</td>\n",
       "      <td>AL</td>\n",
       "      <td>white</td>\n",
       "      <td>Apple</td>\n",
       "      <td>4</td>\n",
       "      <td>80</td>\n",
       "      <td>3.3</td>\n",
       "    </tr>\n",
       "    <tr>\n",
       "      <th>4</th>\n",
       "      <td>Dean</td>\n",
       "      <td>AK</td>\n",
       "      <td>gray</td>\n",
       "      <td>Cheese</td>\n",
       "      <td>32</td>\n",
       "      <td>180</td>\n",
       "      <td>1.8</td>\n",
       "    </tr>\n",
       "    <tr>\n",
       "      <th>5</th>\n",
       "      <td>Christina</td>\n",
       "      <td>TX</td>\n",
       "      <td>black</td>\n",
       "      <td>Melon</td>\n",
       "      <td>33</td>\n",
       "      <td>172</td>\n",
       "      <td>9.5</td>\n",
       "    </tr>\n",
       "    <tr>\n",
       "      <th>6</th>\n",
       "      <td>Cornelia</td>\n",
       "      <td>TX</td>\n",
       "      <td>red</td>\n",
       "      <td>Beans</td>\n",
       "      <td>69</td>\n",
       "      <td>150</td>\n",
       "      <td>2.2</td>\n",
       "    </tr>\n",
       "  </tbody>\n",
       "</table>\n",
       "</div>"
      ],
      "text/plain": [
       "       Names state  color    food  age  height  score\n",
       "0       Jane    NY   blue   Steak   30     165    4.6\n",
       "1       Niko    TX  green    Lamb    2      70    8.3\n",
       "2      Aaron    FL    red   Mango   12     120    9.0\n",
       "3   Penelope    AL  white   Apple    4      80    3.3\n",
       "4       Dean    AK   gray  Cheese   32     180    1.8\n",
       "5  Christina    TX  black   Melon   33     172    9.5\n",
       "6   Cornelia    TX    red   Beans   69     150    2.2"
      ]
     },
     "execution_count": 32,
     "metadata": {},
     "output_type": "execute_result"
    }
   ],
   "source": [
    "df2 = pd.read_csv('data/sample_data2.csv')\n",
    "df2"
   ]
  },
  {
   "cell_type": "markdown",
   "metadata": {},
   "source": [
    "# The default `RangeIndex`\n",
    "If you don't specify a column to be the index when first reading in the data, pandas will use the integers 0 to n-1 as the index. This technically creates a **`RangeIndex`** object. Let's take a look at it."
   ]
  },
  {
   "cell_type": "code",
   "execution_count": 33,
   "metadata": {},
   "outputs": [
    {
     "data": {
      "text/plain": [
       "RangeIndex(start=0, stop=7, step=1)"
      ]
     },
     "execution_count": 33,
     "metadata": {},
     "output_type": "execute_result"
    }
   ],
   "source": [
    "df2.index"
   ]
  },
  {
   "cell_type": "markdown",
   "metadata": {},
   "source": [
    "This object is similar to Python **`range`** objects. Let's create one:"
   ]
  },
  {
   "cell_type": "code",
   "execution_count": 34,
   "metadata": {},
   "outputs": [
    {
     "data": {
      "text/plain": [
       "range(0, 7)"
      ]
     },
     "execution_count": 34,
     "metadata": {},
     "output_type": "execute_result"
    }
   ],
   "source": [
    "range(7)"
   ]
  },
  {
   "cell_type": "markdown",
   "metadata": {},
   "source": [
    "Converting both of these objects to a list produces the exact same thing:"
   ]
  },
  {
   "cell_type": "code",
   "execution_count": 35,
   "metadata": {},
   "outputs": [
    {
     "data": {
      "text/plain": [
       "[0, 1, 2, 3, 4, 5, 6]"
      ]
     },
     "execution_count": 35,
     "metadata": {},
     "output_type": "execute_result"
    }
   ],
   "source": [
    "list(df2.index)"
   ]
  },
  {
   "cell_type": "code",
   "execution_count": 36,
   "metadata": {},
   "outputs": [
    {
     "data": {
      "text/plain": [
       "[0, 1, 2, 3, 4, 5, 6]"
      ]
     },
     "execution_count": 36,
     "metadata": {},
     "output_type": "execute_result"
    }
   ],
   "source": [
    "list(range(7))"
   ]
  },
  {
   "cell_type": "markdown",
   "metadata": {},
   "source": [
    "For now, it's not at all important that you have a **`RangeIndex`**. Selections from it happen just the same with **`.loc`** and **`.iloc`**. Let's look at some examples."
   ]
  },
  {
   "cell_type": "code",
   "execution_count": 37,
   "metadata": {},
   "outputs": [
    {
     "data": {
      "text/html": [
       "<div>\n",
       "<style scoped>\n",
       "    .dataframe tbody tr th:only-of-type {\n",
       "        vertical-align: middle;\n",
       "    }\n",
       "\n",
       "    .dataframe tbody tr th {\n",
       "        vertical-align: top;\n",
       "    }\n",
       "\n",
       "    .dataframe thead th {\n",
       "        text-align: right;\n",
       "    }\n",
       "</style>\n",
       "<table border=\"1\" class=\"dataframe\">\n",
       "  <thead>\n",
       "    <tr style=\"text-align: right;\">\n",
       "      <th></th>\n",
       "      <th>food</th>\n",
       "      <th>color</th>\n",
       "    </tr>\n",
       "  </thead>\n",
       "  <tbody>\n",
       "    <tr>\n",
       "      <th>2</th>\n",
       "      <td>Mango</td>\n",
       "      <td>red</td>\n",
       "    </tr>\n",
       "    <tr>\n",
       "      <th>4</th>\n",
       "      <td>Cheese</td>\n",
       "      <td>gray</td>\n",
       "    </tr>\n",
       "    <tr>\n",
       "      <th>5</th>\n",
       "      <td>Melon</td>\n",
       "      <td>black</td>\n",
       "    </tr>\n",
       "  </tbody>\n",
       "</table>\n",
       "</div>"
      ],
      "text/plain": [
       "     food  color\n",
       "2   Mango    red\n",
       "4  Cheese   gray\n",
       "5   Melon  black"
      ]
     },
     "execution_count": 37,
     "metadata": {},
     "output_type": "execute_result"
    }
   ],
   "source": [
    "df2.loc[[2, 4, 5], ['food', 'color']]"
   ]
  },
  {
   "cell_type": "code",
   "execution_count": 38,
   "metadata": {},
   "outputs": [
    {
     "data": {
      "text/html": [
       "<div>\n",
       "<style scoped>\n",
       "    .dataframe tbody tr th:only-of-type {\n",
       "        vertical-align: middle;\n",
       "    }\n",
       "\n",
       "    .dataframe tbody tr th {\n",
       "        vertical-align: top;\n",
       "    }\n",
       "\n",
       "    .dataframe thead th {\n",
       "        text-align: right;\n",
       "    }\n",
       "</style>\n",
       "<table border=\"1\" class=\"dataframe\">\n",
       "  <thead>\n",
       "    <tr style=\"text-align: right;\">\n",
       "      <th></th>\n",
       "      <th>food</th>\n",
       "      <th>color</th>\n",
       "    </tr>\n",
       "  </thead>\n",
       "  <tbody>\n",
       "    <tr>\n",
       "      <th>2</th>\n",
       "      <td>Mango</td>\n",
       "      <td>red</td>\n",
       "    </tr>\n",
       "    <tr>\n",
       "      <th>4</th>\n",
       "      <td>Cheese</td>\n",
       "      <td>gray</td>\n",
       "    </tr>\n",
       "    <tr>\n",
       "      <th>5</th>\n",
       "      <td>Melon</td>\n",
       "      <td>black</td>\n",
       "    </tr>\n",
       "  </tbody>\n",
       "</table>\n",
       "</div>"
      ],
      "text/plain": [
       "     food  color\n",
       "2   Mango    red\n",
       "4  Cheese   gray\n",
       "5   Melon  black"
      ]
     },
     "execution_count": 38,
     "metadata": {},
     "output_type": "execute_result"
    }
   ],
   "source": [
    "df2.iloc[[2, 4, 5], [3,2]]"
   ]
  },
  {
   "cell_type": "markdown",
   "metadata": {},
   "source": [
    "There is a subtle difference when using a slice. **`.iloc`** excludes the last value, while **`.loc`** includes it:"
   ]
  },
  {
   "cell_type": "code",
   "execution_count": 39,
   "metadata": {},
   "outputs": [
    {
     "data": {
      "text/html": [
       "<div>\n",
       "<style scoped>\n",
       "    .dataframe tbody tr th:only-of-type {\n",
       "        vertical-align: middle;\n",
       "    }\n",
       "\n",
       "    .dataframe tbody tr th {\n",
       "        vertical-align: top;\n",
       "    }\n",
       "\n",
       "    .dataframe thead th {\n",
       "        text-align: right;\n",
       "    }\n",
       "</style>\n",
       "<table border=\"1\" class=\"dataframe\">\n",
       "  <thead>\n",
       "    <tr style=\"text-align: right;\">\n",
       "      <th></th>\n",
       "      <th>Names</th>\n",
       "      <th>state</th>\n",
       "      <th>color</th>\n",
       "      <th>food</th>\n",
       "      <th>age</th>\n",
       "      <th>height</th>\n",
       "      <th>score</th>\n",
       "    </tr>\n",
       "  </thead>\n",
       "  <tbody>\n",
       "    <tr>\n",
       "      <th>0</th>\n",
       "      <td>Jane</td>\n",
       "      <td>NY</td>\n",
       "      <td>blue</td>\n",
       "      <td>Steak</td>\n",
       "      <td>30</td>\n",
       "      <td>165</td>\n",
       "      <td>4.6</td>\n",
       "    </tr>\n",
       "    <tr>\n",
       "      <th>1</th>\n",
       "      <td>Niko</td>\n",
       "      <td>TX</td>\n",
       "      <td>green</td>\n",
       "      <td>Lamb</td>\n",
       "      <td>2</td>\n",
       "      <td>70</td>\n",
       "      <td>8.3</td>\n",
       "    </tr>\n",
       "    <tr>\n",
       "      <th>2</th>\n",
       "      <td>Aaron</td>\n",
       "      <td>FL</td>\n",
       "      <td>red</td>\n",
       "      <td>Mango</td>\n",
       "      <td>12</td>\n",
       "      <td>120</td>\n",
       "      <td>9.0</td>\n",
       "    </tr>\n",
       "  </tbody>\n",
       "</table>\n",
       "</div>"
      ],
      "text/plain": [
       "   Names state  color   food  age  height  score\n",
       "0   Jane    NY   blue  Steak   30     165    4.6\n",
       "1   Niko    TX  green   Lamb    2      70    8.3\n",
       "2  Aaron    FL    red  Mango   12     120    9.0"
      ]
     },
     "execution_count": 39,
     "metadata": {},
     "output_type": "execute_result"
    }
   ],
   "source": [
    "df2.iloc[:3]"
   ]
  },
  {
   "cell_type": "code",
   "execution_count": 40,
   "metadata": {},
   "outputs": [
    {
     "data": {
      "text/html": [
       "<div>\n",
       "<style scoped>\n",
       "    .dataframe tbody tr th:only-of-type {\n",
       "        vertical-align: middle;\n",
       "    }\n",
       "\n",
       "    .dataframe tbody tr th {\n",
       "        vertical-align: top;\n",
       "    }\n",
       "\n",
       "    .dataframe thead th {\n",
       "        text-align: right;\n",
       "    }\n",
       "</style>\n",
       "<table border=\"1\" class=\"dataframe\">\n",
       "  <thead>\n",
       "    <tr style=\"text-align: right;\">\n",
       "      <th></th>\n",
       "      <th>Names</th>\n",
       "      <th>state</th>\n",
       "      <th>color</th>\n",
       "      <th>food</th>\n",
       "      <th>age</th>\n",
       "      <th>height</th>\n",
       "      <th>score</th>\n",
       "    </tr>\n",
       "  </thead>\n",
       "  <tbody>\n",
       "    <tr>\n",
       "      <th>0</th>\n",
       "      <td>Jane</td>\n",
       "      <td>NY</td>\n",
       "      <td>blue</td>\n",
       "      <td>Steak</td>\n",
       "      <td>30</td>\n",
       "      <td>165</td>\n",
       "      <td>4.6</td>\n",
       "    </tr>\n",
       "    <tr>\n",
       "      <th>1</th>\n",
       "      <td>Niko</td>\n",
       "      <td>TX</td>\n",
       "      <td>green</td>\n",
       "      <td>Lamb</td>\n",
       "      <td>2</td>\n",
       "      <td>70</td>\n",
       "      <td>8.3</td>\n",
       "    </tr>\n",
       "    <tr>\n",
       "      <th>2</th>\n",
       "      <td>Aaron</td>\n",
       "      <td>FL</td>\n",
       "      <td>red</td>\n",
       "      <td>Mango</td>\n",
       "      <td>12</td>\n",
       "      <td>120</td>\n",
       "      <td>9.0</td>\n",
       "    </tr>\n",
       "    <tr>\n",
       "      <th>3</th>\n",
       "      <td>Penelope</td>\n",
       "      <td>AL</td>\n",
       "      <td>white</td>\n",
       "      <td>Apple</td>\n",
       "      <td>4</td>\n",
       "      <td>80</td>\n",
       "      <td>3.3</td>\n",
       "    </tr>\n",
       "  </tbody>\n",
       "</table>\n",
       "</div>"
      ],
      "text/plain": [
       "      Names state  color   food  age  height  score\n",
       "0      Jane    NY   blue  Steak   30     165    4.6\n",
       "1      Niko    TX  green   Lamb    2      70    8.3\n",
       "2     Aaron    FL    red  Mango   12     120    9.0\n",
       "3  Penelope    AL  white  Apple    4      80    3.3"
      ]
     },
     "execution_count": 40,
     "metadata": {},
     "output_type": "execute_result"
    }
   ],
   "source": [
    "df2.loc[:3]"
   ]
  },
  {
   "cell_type": "markdown",
   "metadata": {},
   "source": [
    "# Setting an index from a column after reading in data\n",
    "It is common to see pandas code that reads in a DataFrame with a RangeIndex and then sets the index to be one of the columns. This is typically done with the **`set_index`** method:"
   ]
  },
  {
   "cell_type": "code",
   "execution_count": 41,
   "metadata": {},
   "outputs": [
    {
     "data": {
      "text/html": [
       "<div>\n",
       "<style scoped>\n",
       "    .dataframe tbody tr th:only-of-type {\n",
       "        vertical-align: middle;\n",
       "    }\n",
       "\n",
       "    .dataframe tbody tr th {\n",
       "        vertical-align: top;\n",
       "    }\n",
       "\n",
       "    .dataframe thead th {\n",
       "        text-align: right;\n",
       "    }\n",
       "</style>\n",
       "<table border=\"1\" class=\"dataframe\">\n",
       "  <thead>\n",
       "    <tr style=\"text-align: right;\">\n",
       "      <th></th>\n",
       "      <th>state</th>\n",
       "      <th>color</th>\n",
       "      <th>food</th>\n",
       "      <th>age</th>\n",
       "      <th>height</th>\n",
       "      <th>score</th>\n",
       "    </tr>\n",
       "    <tr>\n",
       "      <th>Names</th>\n",
       "      <th></th>\n",
       "      <th></th>\n",
       "      <th></th>\n",
       "      <th></th>\n",
       "      <th></th>\n",
       "      <th></th>\n",
       "    </tr>\n",
       "  </thead>\n",
       "  <tbody>\n",
       "    <tr>\n",
       "      <th>Jane</th>\n",
       "      <td>NY</td>\n",
       "      <td>blue</td>\n",
       "      <td>Steak</td>\n",
       "      <td>30</td>\n",
       "      <td>165</td>\n",
       "      <td>4.6</td>\n",
       "    </tr>\n",
       "    <tr>\n",
       "      <th>Niko</th>\n",
       "      <td>TX</td>\n",
       "      <td>green</td>\n",
       "      <td>Lamb</td>\n",
       "      <td>2</td>\n",
       "      <td>70</td>\n",
       "      <td>8.3</td>\n",
       "    </tr>\n",
       "    <tr>\n",
       "      <th>Aaron</th>\n",
       "      <td>FL</td>\n",
       "      <td>red</td>\n",
       "      <td>Mango</td>\n",
       "      <td>12</td>\n",
       "      <td>120</td>\n",
       "      <td>9.0</td>\n",
       "    </tr>\n",
       "    <tr>\n",
       "      <th>Penelope</th>\n",
       "      <td>AL</td>\n",
       "      <td>white</td>\n",
       "      <td>Apple</td>\n",
       "      <td>4</td>\n",
       "      <td>80</td>\n",
       "      <td>3.3</td>\n",
       "    </tr>\n",
       "    <tr>\n",
       "      <th>Dean</th>\n",
       "      <td>AK</td>\n",
       "      <td>gray</td>\n",
       "      <td>Cheese</td>\n",
       "      <td>32</td>\n",
       "      <td>180</td>\n",
       "      <td>1.8</td>\n",
       "    </tr>\n",
       "    <tr>\n",
       "      <th>Christina</th>\n",
       "      <td>TX</td>\n",
       "      <td>black</td>\n",
       "      <td>Melon</td>\n",
       "      <td>33</td>\n",
       "      <td>172</td>\n",
       "      <td>9.5</td>\n",
       "    </tr>\n",
       "    <tr>\n",
       "      <th>Cornelia</th>\n",
       "      <td>TX</td>\n",
       "      <td>red</td>\n",
       "      <td>Beans</td>\n",
       "      <td>69</td>\n",
       "      <td>150</td>\n",
       "      <td>2.2</td>\n",
       "    </tr>\n",
       "  </tbody>\n",
       "</table>\n",
       "</div>"
      ],
      "text/plain": [
       "          state  color    food  age  height  score\n",
       "Names                                             \n",
       "Jane         NY   blue   Steak   30     165    4.6\n",
       "Niko         TX  green    Lamb    2      70    8.3\n",
       "Aaron        FL    red   Mango   12     120    9.0\n",
       "Penelope     AL  white   Apple    4      80    3.3\n",
       "Dean         AK   gray  Cheese   32     180    1.8\n",
       "Christina    TX  black   Melon   33     172    9.5\n",
       "Cornelia     TX    red   Beans   69     150    2.2"
      ]
     },
     "execution_count": 41,
     "metadata": {},
     "output_type": "execute_result"
    }
   ],
   "source": [
    "df2_idx = df2.set_index('Names')\n",
    "df2_idx"
   ]
  },
  {
   "cell_type": "markdown",
   "metadata": {},
   "source": [
    "### The index has a name\n",
    "Notice that this DataFrame does not look exactly like our first one from the very top of this tutorial. Directly above the index is the bold-faced word **`Names`**. This is technically the **name** of the index. Our original DataFrame had no name for its index. You can ignore this small detail for now. Subset selections will happen in the same fashion."
   ]
  },
  {
   "cell_type": "markdown",
   "metadata": {},
   "source": [
    "# DataFrame column selection with dot notation\n",
    "Pandas allows you to select a single column as a Series by using **dot notation**. This is also referred to as **attribute access**. You simply place the name of the column without quotes following a dot and the DataFrame like this:"
   ]
  },
  {
   "cell_type": "code",
   "execution_count": 50,
   "metadata": {},
   "outputs": [
    {
     "data": {
      "text/plain": [
       "Jane         NY\n",
       "Niko         TX\n",
       "Aaron        FL\n",
       "Penelope     AL\n",
       "Dean         AK\n",
       "Christina    TX\n",
       "Cornelia     TX\n",
       "Name: state, dtype: object"
      ]
     },
     "execution_count": 50,
     "metadata": {},
     "output_type": "execute_result"
    }
   ],
   "source": [
    "df.state"
   ]
  },
  {
   "cell_type": "code",
   "execution_count": 51,
   "metadata": {},
   "outputs": [
    {
     "data": {
      "text/plain": [
       "Jane         30\n",
       "Niko          2\n",
       "Aaron        12\n",
       "Penelope      4\n",
       "Dean         32\n",
       "Christina    33\n",
       "Cornelia     69\n",
       "Name: age, dtype: int64"
      ]
     },
     "execution_count": 51,
     "metadata": {},
     "output_type": "execute_result"
    }
   ],
   "source": [
    "df.age"
   ]
  },
  {
   "cell_type": "markdown",
   "metadata": {},
   "source": [
    "# Pros and cons when selecting columns by attribute access\n",
    "The best benefit of selecting columns like this is that you get help when chaining methods after selection. For instance, if you place another dot after the column name and press **tab**, a list of all the Series methods will appear in a pop-up menu. It will look like this:\n",
    "\n",
    "![](../images/01_pop.png)\n",
    "\n",
    "This help disappears when you use just the indexing operator:\n",
    "\n",
    "![](../images/01_pop2.png)\n",
    "\n",
    "The biggest drawback is that you cannot select columns that have spaces or other characters that are not valid as Python identifiers (variable names)."
   ]
  },
  {
   "cell_type": "markdown",
   "metadata": {},
   "source": [
    "# Selecting the same column twice?\n",
    "This is rather peculiar, but you can actually select the same column more than once:"
   ]
  },
  {
   "cell_type": "code",
   "execution_count": null,
   "metadata": {},
   "outputs": [],
   "source": [
    "df[['age', 'age', 'age']]"
   ]
  },
  {
   "cell_type": "markdown",
   "metadata": {},
   "source": [
    "# Summary of Part 1\n",
    "We covered an incredible amount of ground. Let's summarize all the main points:\n",
    "\n",
    "* Before learning pandas, ensure you have the fundamentals of Python\n",
    "* Always refer to the documentation when learning new pandas operations\n",
    "* The DataFrame and the Series are the containers of data\n",
    "* A DataFrame is two-dimensional, tabular data\n",
    "* A Series is a single dimension of data\n",
    "* The three components of a DataFrame are the **index**, the **columns** and the **data** (or **values**)\n",
    "* Each row and column of the DataFrame is referenced by both a **label** and an **integer location**\n",
    "* There are three primary ways to select subsets from a DataFrame - **`[]`**, **`.loc`** and **`.iloc`**\n",
    "* I use the term **just the indexing operator** to refer to **`[]`** immediately following a DataFrame/Series\n",
    "* Just the indexing operator's primary purpose is to select a column or columns from a DataFrame\n",
    "* Using a single column name to just the indexing operator returns a single column of data as a Series\n",
    "* Passing multiple columns in a list to just the indexing operator returns a DataFrame\n",
    "* A Series has two components, the **index** and the **data** (**values**). It has no columns\n",
    "* **`.loc`** makes selections **only by label**\n",
    "* **`.loc`** can simultaneously select rows and columns\n",
    "* **`.loc`** can make selections with either a single label, a list of labels, or a slice of labels\n",
    "* **`.loc`** makes row selections first followed by column selections: **`df.loc[row_selection, col_selection]`**\n",
    "* **`.iloc`** is analogous to **.`loc`** but uses only **integer location** to refer to rows or columns.\n",
    "* **`.ix`** is deprecated and should never be used\n",
    "* **`.loc`** and **`.iloc`** work the same for Series except they only select based on the index as their are no columns\n",
    "* Pandas combines the power of python lists (selection via integer location) and dictionaries (selection by label)\n",
    "* You can use just the indexing operator to select rows from a DataFrame, but I recommend against this and instead sticking with the explicit **`.loc`** and **`.iloc`**\n",
    "* Normally data is imported without setting an index. Use the **`set_index`** method to use a column as an index.\n",
    "* You can select a single column as a Series from a DataFrame with dot notation"
   ]
  },
  {
   "cell_type": "markdown",
   "metadata": {},
   "source": [
    "# Way more to the story\n",
    "\n",
    "This is only part 1 of the series, so there is much more to cover on how to select subsets of data in pandas. Some of the explanations in this part will be expanded to include other possibilities."
   ]
  },
  {
   "cell_type": "markdown",
   "metadata": {},
   "source": [
    "# Exercises\n",
    "This best way to learn pandas is to practice on your own. The following exercise will help cement your understanding of the material that was just covered. All these exercises will use the the Chicago food inspections dataset. The dataset was found [here at data.world](https://data.world/cityofchicago/food-inspections-map).\n",
    "\n",
    "### Read in the data with the following command before completing the exercises"
   ]
  },
  {
   "cell_type": "code",
   "execution_count": 5,
   "metadata": {},
   "outputs": [
    {
     "data": {
      "text/html": [
       "<div>\n",
       "<style scoped>\n",
       "    .dataframe tbody tr th:only-of-type {\n",
       "        vertical-align: middle;\n",
       "    }\n",
       "\n",
       "    .dataframe tbody tr th {\n",
       "        vertical-align: top;\n",
       "    }\n",
       "\n",
       "    .dataframe thead th {\n",
       "        text-align: right;\n",
       "    }\n",
       "</style>\n",
       "<table border=\"1\" class=\"dataframe\">\n",
       "  <thead>\n",
       "    <tr style=\"text-align: right;\">\n",
       "      <th></th>\n",
       "      <th>DBA Name</th>\n",
       "      <th>AKA Name</th>\n",
       "      <th>License #</th>\n",
       "      <th>Facility Type</th>\n",
       "      <th>Risk</th>\n",
       "      <th>Address</th>\n",
       "      <th>City</th>\n",
       "      <th>State</th>\n",
       "      <th>Zip</th>\n",
       "      <th>Inspection Date</th>\n",
       "      <th>Inspection Type</th>\n",
       "      <th>Results</th>\n",
       "      <th>Violations</th>\n",
       "      <th>Latitude</th>\n",
       "      <th>Longitude</th>\n",
       "      <th>Location</th>\n",
       "    </tr>\n",
       "  </thead>\n",
       "  <tbody>\n",
       "    <tr>\n",
       "      <th>0</th>\n",
       "      <td>DANY'S TACOS</td>\n",
       "      <td>DANY'S TACOS</td>\n",
       "      <td>2511723.0</td>\n",
       "      <td>Restaurant</td>\n",
       "      <td>Risk 1 (High)</td>\n",
       "      <td>2857 S ST LOUIS AVE</td>\n",
       "      <td>CHICAGO</td>\n",
       "      <td>IL</td>\n",
       "      <td>60623.0</td>\n",
       "      <td>03/27/2017</td>\n",
       "      <td>License</td>\n",
       "      <td>Fail</td>\n",
       "      <td>16. FOOD PROTECTED DURING STORAGE, PREPARATION...</td>\n",
       "      <td>41.839080</td>\n",
       "      <td>-87.712058</td>\n",
       "      <td>(41.83908026995743, -87.71205826608029)</td>\n",
       "    </tr>\n",
       "    <tr>\n",
       "      <th>1</th>\n",
       "      <td>BILLY FOOD MARKET INC</td>\n",
       "      <td>BILLY FOOD MARKET</td>\n",
       "      <td>2517614.0</td>\n",
       "      <td>NaN</td>\n",
       "      <td>Risk 3 (Low)</td>\n",
       "      <td>3906 W ROOSEVELT RD</td>\n",
       "      <td>CHICAGO</td>\n",
       "      <td>IL</td>\n",
       "      <td>60624.0</td>\n",
       "      <td>03/27/2017</td>\n",
       "      <td>License</td>\n",
       "      <td>Not Ready</td>\n",
       "      <td>NaN</td>\n",
       "      <td>41.866312</td>\n",
       "      <td>-87.723032</td>\n",
       "      <td>(41.86631164119278, -87.72303226414533)</td>\n",
       "    </tr>\n",
       "    <tr>\n",
       "      <th>2</th>\n",
       "      <td>TAQUERIA HACIENDA TAPATIA</td>\n",
       "      <td>TAQUERIA HACIENDA TAPATIA</td>\n",
       "      <td>2517707.0</td>\n",
       "      <td>Restaurant</td>\n",
       "      <td>Risk 1 (High)</td>\n",
       "      <td>4125 W 26TH ST</td>\n",
       "      <td>CHICAGO</td>\n",
       "      <td>IL</td>\n",
       "      <td>60623.0</td>\n",
       "      <td>03/27/2017</td>\n",
       "      <td>License Re-Inspection</td>\n",
       "      <td>Pass</td>\n",
       "      <td>2. FACILITIES TO MAINTAIN PROPER TEMPERATURE -...</td>\n",
       "      <td>41.844095</td>\n",
       "      <td>-87.728176</td>\n",
       "      <td>(41.844095184180716, -87.7281761467924)</td>\n",
       "    </tr>\n",
       "    <tr>\n",
       "      <th>3</th>\n",
       "      <td>WILD GOOSE BAR &amp; GRILL</td>\n",
       "      <td>WILD GOOSE BAR &amp; GRILL</td>\n",
       "      <td>12475.0</td>\n",
       "      <td>Restaurant</td>\n",
       "      <td>Risk 1 (High)</td>\n",
       "      <td>4265 N LINCOLN AVE</td>\n",
       "      <td>CHICAGO</td>\n",
       "      <td>IL</td>\n",
       "      <td>60618.0</td>\n",
       "      <td>03/27/2017</td>\n",
       "      <td>Canvass</td>\n",
       "      <td>Fail</td>\n",
       "      <td>16. FOOD PROTECTED DURING STORAGE, PREPARATION...</td>\n",
       "      <td>41.959582</td>\n",
       "      <td>-87.682398</td>\n",
       "      <td>(41.95958202440171, -87.68239844007711)</td>\n",
       "    </tr>\n",
       "    <tr>\n",
       "      <th>4</th>\n",
       "      <td>PUBLICAN TAVERN K1</td>\n",
       "      <td>PUBLICAN TAVERN K1 (T3 MAIN)</td>\n",
       "      <td>34173.0</td>\n",
       "      <td>Restaurant</td>\n",
       "      <td>Risk 1 (High)</td>\n",
       "      <td>11601 W TOUHY AVE</td>\n",
       "      <td>CHICAGO</td>\n",
       "      <td>IL</td>\n",
       "      <td>60666.0</td>\n",
       "      <td>03/27/2017</td>\n",
       "      <td>Canvass</td>\n",
       "      <td>Fail</td>\n",
       "      <td>18. NO EVIDENCE OF RODENT OR INSECT OUTER OPEN...</td>\n",
       "      <td>42.008536</td>\n",
       "      <td>-87.914428</td>\n",
       "      <td>(42.008536400868735, -87.91442843927047)</td>\n",
       "    </tr>\n",
       "  </tbody>\n",
       "</table>\n",
       "</div>"
      ],
      "text/plain": [
       "                    DBA Name                      AKA Name  License #  \\\n",
       "0               DANY'S TACOS                  DANY'S TACOS  2511723.0   \n",
       "1      BILLY FOOD MARKET INC             BILLY FOOD MARKET  2517614.0   \n",
       "2  TAQUERIA HACIENDA TAPATIA     TAQUERIA HACIENDA TAPATIA  2517707.0   \n",
       "3     WILD GOOSE BAR & GRILL        WILD GOOSE BAR & GRILL    12475.0   \n",
       "4         PUBLICAN TAVERN K1  PUBLICAN TAVERN K1 (T3 MAIN)    34173.0   \n",
       "\n",
       "  Facility Type           Risk               Address     City State      Zip  \\\n",
       "0    Restaurant  Risk 1 (High)  2857 S ST LOUIS AVE   CHICAGO    IL  60623.0   \n",
       "1           NaN   Risk 3 (Low)  3906 W ROOSEVELT RD   CHICAGO    IL  60624.0   \n",
       "2    Restaurant  Risk 1 (High)       4125 W 26TH ST   CHICAGO    IL  60623.0   \n",
       "3    Restaurant  Risk 1 (High)   4265 N LINCOLN AVE   CHICAGO    IL  60618.0   \n",
       "4    Restaurant  Risk 1 (High)    11601 W TOUHY AVE   CHICAGO    IL  60666.0   \n",
       "\n",
       "  Inspection Date        Inspection Type    Results  \\\n",
       "0      03/27/2017                License       Fail   \n",
       "1      03/27/2017                License  Not Ready   \n",
       "2      03/27/2017  License Re-Inspection       Pass   \n",
       "3      03/27/2017                Canvass       Fail   \n",
       "4      03/27/2017                Canvass       Fail   \n",
       "\n",
       "                                          Violations   Latitude  Longitude  \\\n",
       "0  16. FOOD PROTECTED DURING STORAGE, PREPARATION...  41.839080 -87.712058   \n",
       "1                                                NaN  41.866312 -87.723032   \n",
       "2  2. FACILITIES TO MAINTAIN PROPER TEMPERATURE -...  41.844095 -87.728176   \n",
       "3  16. FOOD PROTECTED DURING STORAGE, PREPARATION...  41.959582 -87.682398   \n",
       "4  18. NO EVIDENCE OF RODENT OR INSECT OUTER OPEN...  42.008536 -87.914428   \n",
       "\n",
       "                                   Location  \n",
       "0   (41.83908026995743, -87.71205826608029)  \n",
       "1   (41.86631164119278, -87.72303226414533)  \n",
       "2   (41.844095184180716, -87.7281761467924)  \n",
       "3   (41.95958202440171, -87.68239844007711)  \n",
       "4  (42.008536400868735, -87.91442843927047)  "
      ]
     },
     "execution_count": 5,
     "metadata": {},
     "output_type": "execute_result"
    }
   ],
   "source": [
    "df = pd.read_csv('data/Food_Inspections_-_Map.csv')\n",
    "df.head()"
   ]
  },
  {
   "cell_type": "markdown",
   "metadata": {},
   "source": [
    "### Exercise 1\n",
    "<span  style=\"color:green; font-size:16px\">The current DataFrame has a simple `RangeIndex`. Let make the **`DBA Name`** column the index to make it more meaningful. Save the result to variable **`df`** and output the first five rows with the **`head`** method.</span>"
   ]
  },
  {
   "cell_type": "code",
   "execution_count": 6,
   "metadata": {},
   "outputs": [
    {
     "data": {
      "text/html": [
       "<div>\n",
       "<style scoped>\n",
       "    .dataframe tbody tr th:only-of-type {\n",
       "        vertical-align: middle;\n",
       "    }\n",
       "\n",
       "    .dataframe tbody tr th {\n",
       "        vertical-align: top;\n",
       "    }\n",
       "\n",
       "    .dataframe thead th {\n",
       "        text-align: right;\n",
       "    }\n",
       "</style>\n",
       "<table border=\"1\" class=\"dataframe\">\n",
       "  <thead>\n",
       "    <tr style=\"text-align: right;\">\n",
       "      <th></th>\n",
       "      <th>AKA Name</th>\n",
       "      <th>License #</th>\n",
       "      <th>Facility Type</th>\n",
       "      <th>Risk</th>\n",
       "      <th>Address</th>\n",
       "      <th>City</th>\n",
       "      <th>State</th>\n",
       "      <th>Zip</th>\n",
       "      <th>Inspection Date</th>\n",
       "      <th>Inspection Type</th>\n",
       "      <th>Results</th>\n",
       "      <th>Violations</th>\n",
       "      <th>Latitude</th>\n",
       "      <th>Longitude</th>\n",
       "      <th>Location</th>\n",
       "    </tr>\n",
       "    <tr>\n",
       "      <th>DBA Name</th>\n",
       "      <th></th>\n",
       "      <th></th>\n",
       "      <th></th>\n",
       "      <th></th>\n",
       "      <th></th>\n",
       "      <th></th>\n",
       "      <th></th>\n",
       "      <th></th>\n",
       "      <th></th>\n",
       "      <th></th>\n",
       "      <th></th>\n",
       "      <th></th>\n",
       "      <th></th>\n",
       "      <th></th>\n",
       "      <th></th>\n",
       "    </tr>\n",
       "  </thead>\n",
       "  <tbody>\n",
       "    <tr>\n",
       "      <th>DANY'S TACOS</th>\n",
       "      <td>DANY'S TACOS</td>\n",
       "      <td>2511723.0</td>\n",
       "      <td>Restaurant</td>\n",
       "      <td>Risk 1 (High)</td>\n",
       "      <td>2857 S ST LOUIS AVE</td>\n",
       "      <td>CHICAGO</td>\n",
       "      <td>IL</td>\n",
       "      <td>60623.0</td>\n",
       "      <td>03/27/2017</td>\n",
       "      <td>License</td>\n",
       "      <td>Fail</td>\n",
       "      <td>16. FOOD PROTECTED DURING STORAGE, PREPARATION...</td>\n",
       "      <td>41.839080</td>\n",
       "      <td>-87.712058</td>\n",
       "      <td>(41.83908026995743, -87.71205826608029)</td>\n",
       "    </tr>\n",
       "    <tr>\n",
       "      <th>BILLY FOOD MARKET INC</th>\n",
       "      <td>BILLY FOOD MARKET</td>\n",
       "      <td>2517614.0</td>\n",
       "      <td>NaN</td>\n",
       "      <td>Risk 3 (Low)</td>\n",
       "      <td>3906 W ROOSEVELT RD</td>\n",
       "      <td>CHICAGO</td>\n",
       "      <td>IL</td>\n",
       "      <td>60624.0</td>\n",
       "      <td>03/27/2017</td>\n",
       "      <td>License</td>\n",
       "      <td>Not Ready</td>\n",
       "      <td>NaN</td>\n",
       "      <td>41.866312</td>\n",
       "      <td>-87.723032</td>\n",
       "      <td>(41.86631164119278, -87.72303226414533)</td>\n",
       "    </tr>\n",
       "    <tr>\n",
       "      <th>TAQUERIA HACIENDA TAPATIA</th>\n",
       "      <td>TAQUERIA HACIENDA TAPATIA</td>\n",
       "      <td>2517707.0</td>\n",
       "      <td>Restaurant</td>\n",
       "      <td>Risk 1 (High)</td>\n",
       "      <td>4125 W 26TH ST</td>\n",
       "      <td>CHICAGO</td>\n",
       "      <td>IL</td>\n",
       "      <td>60623.0</td>\n",
       "      <td>03/27/2017</td>\n",
       "      <td>License Re-Inspection</td>\n",
       "      <td>Pass</td>\n",
       "      <td>2. FACILITIES TO MAINTAIN PROPER TEMPERATURE -...</td>\n",
       "      <td>41.844095</td>\n",
       "      <td>-87.728176</td>\n",
       "      <td>(41.844095184180716, -87.7281761467924)</td>\n",
       "    </tr>\n",
       "    <tr>\n",
       "      <th>WILD GOOSE BAR &amp; GRILL</th>\n",
       "      <td>WILD GOOSE BAR &amp; GRILL</td>\n",
       "      <td>12475.0</td>\n",
       "      <td>Restaurant</td>\n",
       "      <td>Risk 1 (High)</td>\n",
       "      <td>4265 N LINCOLN AVE</td>\n",
       "      <td>CHICAGO</td>\n",
       "      <td>IL</td>\n",
       "      <td>60618.0</td>\n",
       "      <td>03/27/2017</td>\n",
       "      <td>Canvass</td>\n",
       "      <td>Fail</td>\n",
       "      <td>16. FOOD PROTECTED DURING STORAGE, PREPARATION...</td>\n",
       "      <td>41.959582</td>\n",
       "      <td>-87.682398</td>\n",
       "      <td>(41.95958202440171, -87.68239844007711)</td>\n",
       "    </tr>\n",
       "    <tr>\n",
       "      <th>PUBLICAN TAVERN K1</th>\n",
       "      <td>PUBLICAN TAVERN K1 (T3 MAIN)</td>\n",
       "      <td>34173.0</td>\n",
       "      <td>Restaurant</td>\n",
       "      <td>Risk 1 (High)</td>\n",
       "      <td>11601 W TOUHY AVE</td>\n",
       "      <td>CHICAGO</td>\n",
       "      <td>IL</td>\n",
       "      <td>60666.0</td>\n",
       "      <td>03/27/2017</td>\n",
       "      <td>Canvass</td>\n",
       "      <td>Fail</td>\n",
       "      <td>18. NO EVIDENCE OF RODENT OR INSECT OUTER OPEN...</td>\n",
       "      <td>42.008536</td>\n",
       "      <td>-87.914428</td>\n",
       "      <td>(42.008536400868735, -87.91442843927047)</td>\n",
       "    </tr>\n",
       "  </tbody>\n",
       "</table>\n",
       "</div>"
      ],
      "text/plain": [
       "                                               AKA Name  License #  \\\n",
       "DBA Name                                                             \n",
       "DANY'S TACOS                               DANY'S TACOS  2511723.0   \n",
       "BILLY FOOD MARKET INC                 BILLY FOOD MARKET  2517614.0   \n",
       "TAQUERIA HACIENDA TAPATIA     TAQUERIA HACIENDA TAPATIA  2517707.0   \n",
       "WILD GOOSE BAR & GRILL           WILD GOOSE BAR & GRILL    12475.0   \n",
       "PUBLICAN TAVERN K1         PUBLICAN TAVERN K1 (T3 MAIN)    34173.0   \n",
       "\n",
       "                          Facility Type           Risk               Address  \\\n",
       "DBA Name                                                                       \n",
       "DANY'S TACOS                 Restaurant  Risk 1 (High)  2857 S ST LOUIS AVE    \n",
       "BILLY FOOD MARKET INC               NaN   Risk 3 (Low)  3906 W ROOSEVELT RD    \n",
       "TAQUERIA HACIENDA TAPATIA    Restaurant  Risk 1 (High)       4125 W 26TH ST    \n",
       "WILD GOOSE BAR & GRILL       Restaurant  Risk 1 (High)   4265 N LINCOLN AVE    \n",
       "PUBLICAN TAVERN K1           Restaurant  Risk 1 (High)    11601 W TOUHY AVE    \n",
       "\n",
       "                              City State      Zip Inspection Date  \\\n",
       "DBA Name                                                            \n",
       "DANY'S TACOS               CHICAGO    IL  60623.0      03/27/2017   \n",
       "BILLY FOOD MARKET INC      CHICAGO    IL  60624.0      03/27/2017   \n",
       "TAQUERIA HACIENDA TAPATIA  CHICAGO    IL  60623.0      03/27/2017   \n",
       "WILD GOOSE BAR & GRILL     CHICAGO    IL  60618.0      03/27/2017   \n",
       "PUBLICAN TAVERN K1         CHICAGO    IL  60666.0      03/27/2017   \n",
       "\n",
       "                                 Inspection Type    Results  \\\n",
       "DBA Name                                                      \n",
       "DANY'S TACOS                             License       Fail   \n",
       "BILLY FOOD MARKET INC                    License  Not Ready   \n",
       "TAQUERIA HACIENDA TAPATIA  License Re-Inspection       Pass   \n",
       "WILD GOOSE BAR & GRILL                   Canvass       Fail   \n",
       "PUBLICAN TAVERN K1                       Canvass       Fail   \n",
       "\n",
       "                                                                  Violations  \\\n",
       "DBA Name                                                                       \n",
       "DANY'S TACOS               16. FOOD PROTECTED DURING STORAGE, PREPARATION...   \n",
       "BILLY FOOD MARKET INC                                                    NaN   \n",
       "TAQUERIA HACIENDA TAPATIA  2. FACILITIES TO MAINTAIN PROPER TEMPERATURE -...   \n",
       "WILD GOOSE BAR & GRILL     16. FOOD PROTECTED DURING STORAGE, PREPARATION...   \n",
       "PUBLICAN TAVERN K1         18. NO EVIDENCE OF RODENT OR INSECT OUTER OPEN...   \n",
       "\n",
       "                            Latitude  Longitude  \\\n",
       "DBA Name                                          \n",
       "DANY'S TACOS               41.839080 -87.712058   \n",
       "BILLY FOOD MARKET INC      41.866312 -87.723032   \n",
       "TAQUERIA HACIENDA TAPATIA  41.844095 -87.728176   \n",
       "WILD GOOSE BAR & GRILL     41.959582 -87.682398   \n",
       "PUBLICAN TAVERN K1         42.008536 -87.914428   \n",
       "\n",
       "                                                           Location  \n",
       "DBA Name                                                             \n",
       "DANY'S TACOS                (41.83908026995743, -87.71205826608029)  \n",
       "BILLY FOOD MARKET INC       (41.86631164119278, -87.72303226414533)  \n",
       "TAQUERIA HACIENDA TAPATIA   (41.844095184180716, -87.7281761467924)  \n",
       "WILD GOOSE BAR & GRILL      (41.95958202440171, -87.68239844007711)  \n",
       "PUBLICAN TAVERN K1         (42.008536400868735, -87.91442843927047)  "
      ]
     },
     "execution_count": 6,
     "metadata": {},
     "output_type": "execute_result"
    }
   ],
   "source": [
    "df = df.set_index('DBA Name')\n",
    "df.head()"
   ]
  },
  {
   "cell_type": "markdown",
   "metadata": {},
   "source": [
    "### Exercise 2\n",
    "<span  style=\"color:green; font-size:16px\">Select the **`Risk`** column as a Series with just the indexing operator. Also select it with attribute access.</span>"
   ]
  },
  {
   "cell_type": "code",
   "execution_count": 7,
   "metadata": {},
   "outputs": [
    {
     "data": {
      "text/plain": [
       "DBA Name\n",
       "DANY'S TACOS                 Risk 1 (High)\n",
       "BILLY FOOD MARKET INC         Risk 3 (Low)\n",
       "TAQUERIA HACIENDA TAPATIA    Risk 1 (High)\n",
       "WILD GOOSE BAR & GRILL       Risk 1 (High)\n",
       "PUBLICAN TAVERN K1           Risk 1 (High)\n",
       "Name: Risk, dtype: object"
      ]
     },
     "execution_count": 7,
     "metadata": {},
     "output_type": "execute_result"
    }
   ],
   "source": [
    "df['Risk'].head()\n",
    "df.Risk.head()"
   ]
  },
  {
   "cell_type": "markdown",
   "metadata": {},
   "source": [
    "### Exercise 3\n",
    "<span  style=\"color:green; font-size:16px\">Select the **`Risk`** and **`Results`** columns</span>"
   ]
  },
  {
   "cell_type": "code",
   "execution_count": 8,
   "metadata": {},
   "outputs": [
    {
     "data": {
      "text/html": [
       "<div>\n",
       "<style scoped>\n",
       "    .dataframe tbody tr th:only-of-type {\n",
       "        vertical-align: middle;\n",
       "    }\n",
       "\n",
       "    .dataframe tbody tr th {\n",
       "        vertical-align: top;\n",
       "    }\n",
       "\n",
       "    .dataframe thead th {\n",
       "        text-align: right;\n",
       "    }\n",
       "</style>\n",
       "<table border=\"1\" class=\"dataframe\">\n",
       "  <thead>\n",
       "    <tr style=\"text-align: right;\">\n",
       "      <th></th>\n",
       "      <th>Risk</th>\n",
       "      <th>Results</th>\n",
       "    </tr>\n",
       "    <tr>\n",
       "      <th>DBA Name</th>\n",
       "      <th></th>\n",
       "      <th></th>\n",
       "    </tr>\n",
       "  </thead>\n",
       "  <tbody>\n",
       "    <tr>\n",
       "      <th>DANY'S TACOS</th>\n",
       "      <td>Risk 1 (High)</td>\n",
       "      <td>Fail</td>\n",
       "    </tr>\n",
       "    <tr>\n",
       "      <th>BILLY FOOD MARKET INC</th>\n",
       "      <td>Risk 3 (Low)</td>\n",
       "      <td>Not Ready</td>\n",
       "    </tr>\n",
       "    <tr>\n",
       "      <th>TAQUERIA HACIENDA TAPATIA</th>\n",
       "      <td>Risk 1 (High)</td>\n",
       "      <td>Pass</td>\n",
       "    </tr>\n",
       "    <tr>\n",
       "      <th>WILD GOOSE BAR &amp; GRILL</th>\n",
       "      <td>Risk 1 (High)</td>\n",
       "      <td>Fail</td>\n",
       "    </tr>\n",
       "    <tr>\n",
       "      <th>PUBLICAN TAVERN K1</th>\n",
       "      <td>Risk 1 (High)</td>\n",
       "      <td>Fail</td>\n",
       "    </tr>\n",
       "    <tr>\n",
       "      <th>LABRIOLA BAKERY AND CAFE</th>\n",
       "      <td>Risk 2 (Medium)</td>\n",
       "      <td>Not Ready</td>\n",
       "    </tr>\n",
       "    <tr>\n",
       "      <th>PARK  PLAZA RETIREMENT CENTER</th>\n",
       "      <td>Risk 1 (High)</td>\n",
       "      <td>Fail</td>\n",
       "    </tr>\n",
       "    <tr>\n",
       "      <th>SULLIVAN'S STEAKHOUSE</th>\n",
       "      <td>Risk 1 (High)</td>\n",
       "      <td>Fail</td>\n",
       "    </tr>\n",
       "    <tr>\n",
       "      <th>THRESHOLD SCHOOL</th>\n",
       "      <td>Risk 1 (High)</td>\n",
       "      <td>Pass</td>\n",
       "    </tr>\n",
       "    <tr>\n",
       "      <th>EDIBLE ARRANGEMENTS OF CHICAGO-HYDE PARK</th>\n",
       "      <td>Risk 1 (High)</td>\n",
       "      <td>Pass w/ Conditions</td>\n",
       "    </tr>\n",
       "    <tr>\n",
       "      <th>ONE NORTH</th>\n",
       "      <td>Risk 1 (High)</td>\n",
       "      <td>Fail</td>\n",
       "    </tr>\n",
       "    <tr>\n",
       "      <th>FRONT YARD JERK GRILLE</th>\n",
       "      <td>Risk 1 (High)</td>\n",
       "      <td>Pass</td>\n",
       "    </tr>\n",
       "    <tr>\n",
       "      <th>VILLA PALERMO INC</th>\n",
       "      <td>Risk 1 (High)</td>\n",
       "      <td>Pass w/ Conditions</td>\n",
       "    </tr>\n",
       "    <tr>\n",
       "      <th>ST. BENEDICT ELEMENTARY SCHOOL</th>\n",
       "      <td>Risk 1 (High)</td>\n",
       "      <td>Pass</td>\n",
       "    </tr>\n",
       "    <tr>\n",
       "      <th>BADERBRAU BREWING COMPANY</th>\n",
       "      <td>Risk 2 (Medium)</td>\n",
       "      <td>Pass</td>\n",
       "    </tr>\n",
       "    <tr>\n",
       "      <th>ST. BENEDICT HIGH SCHOOL</th>\n",
       "      <td>Risk 1 (High)</td>\n",
       "      <td>Pass</td>\n",
       "    </tr>\n",
       "    <tr>\n",
       "      <th>LAGRANJA RESTAURANT INC.</th>\n",
       "      <td>Risk 1 (High)</td>\n",
       "      <td>Fail</td>\n",
       "    </tr>\n",
       "    <tr>\n",
       "      <th>PHO NUMBER 1- VIETNAMESE CUISINE LLC</th>\n",
       "      <td>Risk 1 (High)</td>\n",
       "      <td>Pass</td>\n",
       "    </tr>\n",
       "    <tr>\n",
       "      <th>PARADISE SUPERMARKET INC</th>\n",
       "      <td>Risk 2 (Medium)</td>\n",
       "      <td>Out of Business</td>\n",
       "    </tr>\n",
       "    <tr>\n",
       "      <th>BISTRO CAMPAGNE</th>\n",
       "      <td>Risk 1 (High)</td>\n",
       "      <td>Fail</td>\n",
       "    </tr>\n",
       "    <tr>\n",
       "      <th>ILLINOIS BAR &amp; GRILL</th>\n",
       "      <td>Risk 1 (High)</td>\n",
       "      <td>Pass</td>\n",
       "    </tr>\n",
       "    <tr>\n",
       "      <th>PARADISE GROCERY INC.</th>\n",
       "      <td>Risk 2 (Medium)</td>\n",
       "      <td>Pass</td>\n",
       "    </tr>\n",
       "    <tr>\n",
       "      <th>CHIPOTLE MEXICAN GRILL#2768</th>\n",
       "      <td>Risk 1 (High)</td>\n",
       "      <td>Pass w/ Conditions</td>\n",
       "    </tr>\n",
       "    <tr>\n",
       "      <th>CARDONA'S</th>\n",
       "      <td>Risk 1 (High)</td>\n",
       "      <td>Pass</td>\n",
       "    </tr>\n",
       "    <tr>\n",
       "      <th>KINGS  GYROS #2</th>\n",
       "      <td>Risk 1 (High)</td>\n",
       "      <td>Fail</td>\n",
       "    </tr>\n",
       "    <tr>\n",
       "      <th>CATALYST MARIA</th>\n",
       "      <td>Risk 1 (High)</td>\n",
       "      <td>Pass</td>\n",
       "    </tr>\n",
       "    <tr>\n",
       "      <th>Canter Middle</th>\n",
       "      <td>Risk 2 (Medium)</td>\n",
       "      <td>Fail</td>\n",
       "    </tr>\n",
       "    <tr>\n",
       "      <th>BRU COFFEE HOUSE</th>\n",
       "      <td>Risk 2 (Medium)</td>\n",
       "      <td>Pass w/ Conditions</td>\n",
       "    </tr>\n",
       "    <tr>\n",
       "      <th>J J MINI STORE</th>\n",
       "      <td>Risk 1 (High)</td>\n",
       "      <td>Pass</td>\n",
       "    </tr>\n",
       "    <tr>\n",
       "      <th>LITTLE WOK</th>\n",
       "      <td>Risk 1 (High)</td>\n",
       "      <td>Pass w/ Conditions</td>\n",
       "    </tr>\n",
       "    <tr>\n",
       "      <th>...</th>\n",
       "      <td>...</td>\n",
       "      <td>...</td>\n",
       "    </tr>\n",
       "    <tr>\n",
       "      <th>WALGREENS #1417</th>\n",
       "      <td>Risk 3 (Low)</td>\n",
       "      <td>Pass</td>\n",
       "    </tr>\n",
       "    <tr>\n",
       "      <th>THE DOGHOUSE</th>\n",
       "      <td>Risk 1 (High)</td>\n",
       "      <td>Pass</td>\n",
       "    </tr>\n",
       "    <tr>\n",
       "      <th>NOAH FOOD GROUP, INC</th>\n",
       "      <td>Risk 3 (Low)</td>\n",
       "      <td>Pass w/ Conditions</td>\n",
       "    </tr>\n",
       "    <tr>\n",
       "      <th>CVS PHARMACY #2935</th>\n",
       "      <td>Risk 3 (Low)</td>\n",
       "      <td>Pass</td>\n",
       "    </tr>\n",
       "    <tr>\n",
       "      <th>EL MILAGRO</th>\n",
       "      <td>Risk 1 (High)</td>\n",
       "      <td>Pass</td>\n",
       "    </tr>\n",
       "    <tr>\n",
       "      <th>THRESHOLD SCHOOL</th>\n",
       "      <td>Risk 1 (High)</td>\n",
       "      <td>Pass</td>\n",
       "    </tr>\n",
       "    <tr>\n",
       "      <th>EINSTEIN BROS. BAGELS #3505</th>\n",
       "      <td>Risk 1 (High)</td>\n",
       "      <td>Pass</td>\n",
       "    </tr>\n",
       "    <tr>\n",
       "      <th>LOVEBUGS, TODDLER PROGRAMS AND PRESCHOOL, LLC</th>\n",
       "      <td>Risk 1 (High)</td>\n",
       "      <td>Pass</td>\n",
       "    </tr>\n",
       "    <tr>\n",
       "      <th>REGGIO'S PIZZA EXPRESS</th>\n",
       "      <td>Risk 1 (High)</td>\n",
       "      <td>Pass</td>\n",
       "    </tr>\n",
       "    <tr>\n",
       "      <th>GOLDEN CROWN RESTAURANT</th>\n",
       "      <td>Risk 1 (High)</td>\n",
       "      <td>Fail</td>\n",
       "    </tr>\n",
       "    <tr>\n",
       "      <th>SOUTH SIDE FUEL CTR/DUNKIN DOUGHNUTS</th>\n",
       "      <td>Risk 2 (Medium)</td>\n",
       "      <td>Pass w/ Conditions</td>\n",
       "    </tr>\n",
       "    <tr>\n",
       "      <th>LOVEBUGS, TODDLER PROGRAMS AND PRESCHOOL, LLC</th>\n",
       "      <td>Risk 1 (High)</td>\n",
       "      <td>Pass</td>\n",
       "    </tr>\n",
       "    <tr>\n",
       "      <th>CITGO</th>\n",
       "      <td>Risk 3 (Low)</td>\n",
       "      <td>Fail</td>\n",
       "    </tr>\n",
       "    <tr>\n",
       "      <th>Tots Express Learning Center</th>\n",
       "      <td>Risk 1 (High)</td>\n",
       "      <td>Pass</td>\n",
       "    </tr>\n",
       "    <tr>\n",
       "      <th>ACE'S SOUL FOOD CAFE, INC.</th>\n",
       "      <td>Risk 1 (High)</td>\n",
       "      <td>Pass</td>\n",
       "    </tr>\n",
       "    <tr>\n",
       "      <th>EL TACONAZO RESTAURANT</th>\n",
       "      <td>Risk 1 (High)</td>\n",
       "      <td>Pass</td>\n",
       "    </tr>\n",
       "    <tr>\n",
       "      <th>7-ELEVEN #32889B</th>\n",
       "      <td>Risk 1 (High)</td>\n",
       "      <td>Pass</td>\n",
       "    </tr>\n",
       "    <tr>\n",
       "      <th>THE LEARNING TREE II</th>\n",
       "      <td>Risk 1 (High)</td>\n",
       "      <td>Pass</td>\n",
       "    </tr>\n",
       "    <tr>\n",
       "      <th>MONTICELLO FOOD MART, INC</th>\n",
       "      <td>Risk 2 (Medium)</td>\n",
       "      <td>Fail</td>\n",
       "    </tr>\n",
       "    <tr>\n",
       "      <th>PAKEEZA</th>\n",
       "      <td>Risk 1 (High)</td>\n",
       "      <td>Pass</td>\n",
       "    </tr>\n",
       "    <tr>\n",
       "      <th>SUPER DOG'S SUBMARINES INC</th>\n",
       "      <td>Risk 2 (Medium)</td>\n",
       "      <td>Fail</td>\n",
       "    </tr>\n",
       "    <tr>\n",
       "      <th>State Street Pizza Company</th>\n",
       "      <td>Risk 1 (High)</td>\n",
       "      <td>Pass</td>\n",
       "    </tr>\n",
       "    <tr>\n",
       "      <th>FAIRPLAY FINER FOOD</th>\n",
       "      <td>Risk 1 (High)</td>\n",
       "      <td>Pass</td>\n",
       "    </tr>\n",
       "    <tr>\n",
       "      <th>WHIPPLE STORE</th>\n",
       "      <td>Risk 3 (Low)</td>\n",
       "      <td>Fail</td>\n",
       "    </tr>\n",
       "    <tr>\n",
       "      <th>WOLCOTT'S</th>\n",
       "      <td>Risk 1 (High)</td>\n",
       "      <td>Pass</td>\n",
       "    </tr>\n",
       "    <tr>\n",
       "      <th>WOLCOTT'S</th>\n",
       "      <td>Risk 1 (High)</td>\n",
       "      <td>Pass</td>\n",
       "    </tr>\n",
       "    <tr>\n",
       "      <th>DUNKIN DONUTS/BASKIN-ROBBINS</th>\n",
       "      <td>Risk 2 (Medium)</td>\n",
       "      <td>Pass</td>\n",
       "    </tr>\n",
       "    <tr>\n",
       "      <th>Cafe 608</th>\n",
       "      <td>Risk 1 (High)</td>\n",
       "      <td>Pass</td>\n",
       "    </tr>\n",
       "    <tr>\n",
       "      <th>mr.daniel's</th>\n",
       "      <td>Risk 1 (High)</td>\n",
       "      <td>Pass</td>\n",
       "    </tr>\n",
       "    <tr>\n",
       "      <th>TEMPO CAFE</th>\n",
       "      <td>Risk 1 (High)</td>\n",
       "      <td>Fail</td>\n",
       "    </tr>\n",
       "  </tbody>\n",
       "</table>\n",
       "<p>146077 rows × 2 columns</p>\n",
       "</div>"
      ],
      "text/plain": [
       "                                                          Risk  \\\n",
       "DBA Name                                                         \n",
       "DANY'S TACOS                                     Risk 1 (High)   \n",
       "BILLY FOOD MARKET INC                             Risk 3 (Low)   \n",
       "TAQUERIA HACIENDA TAPATIA                        Risk 1 (High)   \n",
       "WILD GOOSE BAR & GRILL                           Risk 1 (High)   \n",
       "PUBLICAN TAVERN K1                               Risk 1 (High)   \n",
       "LABRIOLA BAKERY AND CAFE                       Risk 2 (Medium)   \n",
       "PARK  PLAZA RETIREMENT CENTER                    Risk 1 (High)   \n",
       "SULLIVAN'S STEAKHOUSE                            Risk 1 (High)   \n",
       "THRESHOLD SCHOOL                                 Risk 1 (High)   \n",
       "EDIBLE ARRANGEMENTS OF CHICAGO-HYDE PARK         Risk 1 (High)   \n",
       "ONE NORTH                                        Risk 1 (High)   \n",
       "FRONT YARD JERK GRILLE                           Risk 1 (High)   \n",
       "VILLA PALERMO INC                                Risk 1 (High)   \n",
       "ST. BENEDICT ELEMENTARY SCHOOL                   Risk 1 (High)   \n",
       "BADERBRAU BREWING COMPANY                      Risk 2 (Medium)   \n",
       "ST. BENEDICT HIGH SCHOOL                         Risk 1 (High)   \n",
       "LAGRANJA RESTAURANT INC.                         Risk 1 (High)   \n",
       "PHO NUMBER 1- VIETNAMESE CUISINE LLC             Risk 1 (High)   \n",
       "PARADISE SUPERMARKET INC                       Risk 2 (Medium)   \n",
       "BISTRO CAMPAGNE                                  Risk 1 (High)   \n",
       "ILLINOIS BAR & GRILL                             Risk 1 (High)   \n",
       "PARADISE GROCERY INC.                          Risk 2 (Medium)   \n",
       "CHIPOTLE MEXICAN GRILL#2768                      Risk 1 (High)   \n",
       "CARDONA'S                                        Risk 1 (High)   \n",
       "KINGS  GYROS #2                                  Risk 1 (High)   \n",
       "CATALYST MARIA                                   Risk 1 (High)   \n",
       "Canter Middle                                  Risk 2 (Medium)   \n",
       "BRU COFFEE HOUSE                               Risk 2 (Medium)   \n",
       "J J MINI STORE                                   Risk 1 (High)   \n",
       "LITTLE WOK                                       Risk 1 (High)   \n",
       "...                                                        ...   \n",
       "WALGREENS #1417                                   Risk 3 (Low)   \n",
       "THE DOGHOUSE                                     Risk 1 (High)   \n",
       "NOAH FOOD GROUP, INC                              Risk 3 (Low)   \n",
       "CVS PHARMACY #2935                                Risk 3 (Low)   \n",
       "EL MILAGRO                                       Risk 1 (High)   \n",
       "THRESHOLD SCHOOL                                 Risk 1 (High)   \n",
       "EINSTEIN BROS. BAGELS #3505                      Risk 1 (High)   \n",
       "LOVEBUGS, TODDLER PROGRAMS AND PRESCHOOL, LLC    Risk 1 (High)   \n",
       "REGGIO'S PIZZA EXPRESS                           Risk 1 (High)   \n",
       "GOLDEN CROWN RESTAURANT                          Risk 1 (High)   \n",
       "SOUTH SIDE FUEL CTR/DUNKIN DOUGHNUTS           Risk 2 (Medium)   \n",
       "LOVEBUGS, TODDLER PROGRAMS AND PRESCHOOL, LLC    Risk 1 (High)   \n",
       "CITGO                                             Risk 3 (Low)   \n",
       "Tots Express Learning Center                     Risk 1 (High)   \n",
       "ACE'S SOUL FOOD CAFE, INC.                       Risk 1 (High)   \n",
       "EL TACONAZO RESTAURANT                           Risk 1 (High)   \n",
       "7-ELEVEN #32889B                                 Risk 1 (High)   \n",
       "THE LEARNING TREE II                             Risk 1 (High)   \n",
       "MONTICELLO FOOD MART, INC                      Risk 2 (Medium)   \n",
       "PAKEEZA                                          Risk 1 (High)   \n",
       "SUPER DOG'S SUBMARINES INC                     Risk 2 (Medium)   \n",
       "State Street Pizza Company                       Risk 1 (High)   \n",
       "FAIRPLAY FINER FOOD                              Risk 1 (High)   \n",
       "WHIPPLE STORE                                     Risk 3 (Low)   \n",
       "WOLCOTT'S                                        Risk 1 (High)   \n",
       "WOLCOTT'S                                        Risk 1 (High)   \n",
       "DUNKIN DONUTS/BASKIN-ROBBINS                   Risk 2 (Medium)   \n",
       "Cafe 608                                         Risk 1 (High)   \n",
       "mr.daniel's                                      Risk 1 (High)   \n",
       "TEMPO CAFE                                       Risk 1 (High)   \n",
       "\n",
       "                                                          Results  \n",
       "DBA Name                                                           \n",
       "DANY'S TACOS                                                 Fail  \n",
       "BILLY FOOD MARKET INC                                   Not Ready  \n",
       "TAQUERIA HACIENDA TAPATIA                                    Pass  \n",
       "WILD GOOSE BAR & GRILL                                       Fail  \n",
       "PUBLICAN TAVERN K1                                           Fail  \n",
       "LABRIOLA BAKERY AND CAFE                                Not Ready  \n",
       "PARK  PLAZA RETIREMENT CENTER                                Fail  \n",
       "SULLIVAN'S STEAKHOUSE                                        Fail  \n",
       "THRESHOLD SCHOOL                                             Pass  \n",
       "EDIBLE ARRANGEMENTS OF CHICAGO-HYDE PARK       Pass w/ Conditions  \n",
       "ONE NORTH                                                    Fail  \n",
       "FRONT YARD JERK GRILLE                                       Pass  \n",
       "VILLA PALERMO INC                              Pass w/ Conditions  \n",
       "ST. BENEDICT ELEMENTARY SCHOOL                               Pass  \n",
       "BADERBRAU BREWING COMPANY                                    Pass  \n",
       "ST. BENEDICT HIGH SCHOOL                                     Pass  \n",
       "LAGRANJA RESTAURANT INC.                                     Fail  \n",
       "PHO NUMBER 1- VIETNAMESE CUISINE LLC                         Pass  \n",
       "PARADISE SUPERMARKET INC                          Out of Business  \n",
       "BISTRO CAMPAGNE                                              Fail  \n",
       "ILLINOIS BAR & GRILL                                         Pass  \n",
       "PARADISE GROCERY INC.                                        Pass  \n",
       "CHIPOTLE MEXICAN GRILL#2768                    Pass w/ Conditions  \n",
       "CARDONA'S                                                    Pass  \n",
       "KINGS  GYROS #2                                              Fail  \n",
       "CATALYST MARIA                                               Pass  \n",
       "Canter Middle                                                Fail  \n",
       "BRU COFFEE HOUSE                               Pass w/ Conditions  \n",
       "J J MINI STORE                                               Pass  \n",
       "LITTLE WOK                                     Pass w/ Conditions  \n",
       "...                                                           ...  \n",
       "WALGREENS #1417                                              Pass  \n",
       "THE DOGHOUSE                                                 Pass  \n",
       "NOAH FOOD GROUP, INC                           Pass w/ Conditions  \n",
       "CVS PHARMACY #2935                                           Pass  \n",
       "EL MILAGRO                                                   Pass  \n",
       "THRESHOLD SCHOOL                                             Pass  \n",
       "EINSTEIN BROS. BAGELS #3505                                  Pass  \n",
       "LOVEBUGS, TODDLER PROGRAMS AND PRESCHOOL, LLC                Pass  \n",
       "REGGIO'S PIZZA EXPRESS                                       Pass  \n",
       "GOLDEN CROWN RESTAURANT                                      Fail  \n",
       "SOUTH SIDE FUEL CTR/DUNKIN DOUGHNUTS           Pass w/ Conditions  \n",
       "LOVEBUGS, TODDLER PROGRAMS AND PRESCHOOL, LLC                Pass  \n",
       "CITGO                                                        Fail  \n",
       "Tots Express Learning Center                                 Pass  \n",
       "ACE'S SOUL FOOD CAFE, INC.                                   Pass  \n",
       "EL TACONAZO RESTAURANT                                       Pass  \n",
       "7-ELEVEN #32889B                                             Pass  \n",
       "THE LEARNING TREE II                                         Pass  \n",
       "MONTICELLO FOOD MART, INC                                    Fail  \n",
       "PAKEEZA                                                      Pass  \n",
       "SUPER DOG'S SUBMARINES INC                                   Fail  \n",
       "State Street Pizza Company                                   Pass  \n",
       "FAIRPLAY FINER FOOD                                          Pass  \n",
       "WHIPPLE STORE                                                Fail  \n",
       "WOLCOTT'S                                                    Pass  \n",
       "WOLCOTT'S                                                    Pass  \n",
       "DUNKIN DONUTS/BASKIN-ROBBINS                                 Pass  \n",
       "Cafe 608                                                     Pass  \n",
       "mr.daniel's                                                  Pass  \n",
       "TEMPO CAFE                                                   Fail  \n",
       "\n",
       "[146077 rows x 2 columns]"
      ]
     },
     "execution_count": 8,
     "metadata": {},
     "output_type": "execute_result"
    }
   ],
   "source": [
    "df[['Risk', 'Results']]"
   ]
  },
  {
   "cell_type": "markdown",
   "metadata": {},
   "source": [
    "### Exercise 4\n",
    "<span  style=\"color:green; font-size:16px\">Select a single column as a DataFrame</span>"
   ]
  },
  {
   "cell_type": "code",
   "execution_count": 9,
   "metadata": {},
   "outputs": [
    {
     "data": {
      "text/html": [
       "<div>\n",
       "<style scoped>\n",
       "    .dataframe tbody tr th:only-of-type {\n",
       "        vertical-align: middle;\n",
       "    }\n",
       "\n",
       "    .dataframe tbody tr th {\n",
       "        vertical-align: top;\n",
       "    }\n",
       "\n",
       "    .dataframe thead th {\n",
       "        text-align: right;\n",
       "    }\n",
       "</style>\n",
       "<table border=\"1\" class=\"dataframe\">\n",
       "  <thead>\n",
       "    <tr style=\"text-align: right;\">\n",
       "      <th></th>\n",
       "      <th>Facility Type</th>\n",
       "    </tr>\n",
       "    <tr>\n",
       "      <th>DBA Name</th>\n",
       "      <th></th>\n",
       "    </tr>\n",
       "  </thead>\n",
       "  <tbody>\n",
       "    <tr>\n",
       "      <th>DANY'S TACOS</th>\n",
       "      <td>Restaurant</td>\n",
       "    </tr>\n",
       "    <tr>\n",
       "      <th>BILLY FOOD MARKET INC</th>\n",
       "      <td>NaN</td>\n",
       "    </tr>\n",
       "    <tr>\n",
       "      <th>TAQUERIA HACIENDA TAPATIA</th>\n",
       "      <td>Restaurant</td>\n",
       "    </tr>\n",
       "    <tr>\n",
       "      <th>WILD GOOSE BAR &amp; GRILL</th>\n",
       "      <td>Restaurant</td>\n",
       "    </tr>\n",
       "    <tr>\n",
       "      <th>PUBLICAN TAVERN K1</th>\n",
       "      <td>Restaurant</td>\n",
       "    </tr>\n",
       "    <tr>\n",
       "      <th>LABRIOLA BAKERY AND CAFE</th>\n",
       "      <td>Bakery</td>\n",
       "    </tr>\n",
       "    <tr>\n",
       "      <th>PARK  PLAZA RETIREMENT CENTER</th>\n",
       "      <td>Restaurant</td>\n",
       "    </tr>\n",
       "    <tr>\n",
       "      <th>SULLIVAN'S STEAKHOUSE</th>\n",
       "      <td>Restaurant</td>\n",
       "    </tr>\n",
       "    <tr>\n",
       "      <th>THRESHOLD SCHOOL</th>\n",
       "      <td>School</td>\n",
       "    </tr>\n",
       "    <tr>\n",
       "      <th>EDIBLE ARRANGEMENTS OF CHICAGO-HYDE PARK</th>\n",
       "      <td>Restaurant</td>\n",
       "    </tr>\n",
       "    <tr>\n",
       "      <th>ONE NORTH</th>\n",
       "      <td>Restaurant</td>\n",
       "    </tr>\n",
       "    <tr>\n",
       "      <th>FRONT YARD JERK GRILLE</th>\n",
       "      <td>Restaurant</td>\n",
       "    </tr>\n",
       "    <tr>\n",
       "      <th>VILLA PALERMO INC</th>\n",
       "      <td>Restaurant</td>\n",
       "    </tr>\n",
       "    <tr>\n",
       "      <th>ST. BENEDICT ELEMENTARY SCHOOL</th>\n",
       "      <td>School</td>\n",
       "    </tr>\n",
       "    <tr>\n",
       "      <th>BADERBRAU BREWING COMPANY</th>\n",
       "      <td>Restaurant</td>\n",
       "    </tr>\n",
       "    <tr>\n",
       "      <th>ST. BENEDICT HIGH SCHOOL</th>\n",
       "      <td>School</td>\n",
       "    </tr>\n",
       "    <tr>\n",
       "      <th>LAGRANJA RESTAURANT INC.</th>\n",
       "      <td>Restaurant</td>\n",
       "    </tr>\n",
       "    <tr>\n",
       "      <th>PHO NUMBER 1- VIETNAMESE CUISINE LLC</th>\n",
       "      <td>Restaurant</td>\n",
       "    </tr>\n",
       "    <tr>\n",
       "      <th>PARADISE SUPERMARKET INC</th>\n",
       "      <td>Grocery Store</td>\n",
       "    </tr>\n",
       "    <tr>\n",
       "      <th>BISTRO CAMPAGNE</th>\n",
       "      <td>Restaurant</td>\n",
       "    </tr>\n",
       "    <tr>\n",
       "      <th>ILLINOIS BAR &amp; GRILL</th>\n",
       "      <td>Restaurant</td>\n",
       "    </tr>\n",
       "    <tr>\n",
       "      <th>PARADISE GROCERY INC.</th>\n",
       "      <td>Grocery Store</td>\n",
       "    </tr>\n",
       "    <tr>\n",
       "      <th>CHIPOTLE MEXICAN GRILL#2768</th>\n",
       "      <td>Restaurant</td>\n",
       "    </tr>\n",
       "    <tr>\n",
       "      <th>CARDONA'S</th>\n",
       "      <td>Restaurant</td>\n",
       "    </tr>\n",
       "    <tr>\n",
       "      <th>KINGS  GYROS #2</th>\n",
       "      <td>Restaurant</td>\n",
       "    </tr>\n",
       "    <tr>\n",
       "      <th>CATALYST MARIA</th>\n",
       "      <td>School</td>\n",
       "    </tr>\n",
       "    <tr>\n",
       "      <th>Canter Middle</th>\n",
       "      <td>School</td>\n",
       "    </tr>\n",
       "    <tr>\n",
       "      <th>BRU COFFEE HOUSE</th>\n",
       "      <td>Restaurant</td>\n",
       "    </tr>\n",
       "    <tr>\n",
       "      <th>J J MINI STORE</th>\n",
       "      <td>GROCERY/RESTAURANT</td>\n",
       "    </tr>\n",
       "    <tr>\n",
       "      <th>LITTLE WOK</th>\n",
       "      <td>Restaurant</td>\n",
       "    </tr>\n",
       "    <tr>\n",
       "      <th>...</th>\n",
       "      <td>...</td>\n",
       "    </tr>\n",
       "    <tr>\n",
       "      <th>WALGREENS #1417</th>\n",
       "      <td>Grocery Store</td>\n",
       "    </tr>\n",
       "    <tr>\n",
       "      <th>THE DOGHOUSE</th>\n",
       "      <td>NaN</td>\n",
       "    </tr>\n",
       "    <tr>\n",
       "      <th>NOAH FOOD GROUP, INC</th>\n",
       "      <td>Grocery Store</td>\n",
       "    </tr>\n",
       "    <tr>\n",
       "      <th>CVS PHARMACY #2935</th>\n",
       "      <td>Grocery Store</td>\n",
       "    </tr>\n",
       "    <tr>\n",
       "      <th>EL MILAGRO</th>\n",
       "      <td>Restaurant</td>\n",
       "    </tr>\n",
       "    <tr>\n",
       "      <th>THRESHOLD SCHOOL</th>\n",
       "      <td>School</td>\n",
       "    </tr>\n",
       "    <tr>\n",
       "      <th>EINSTEIN BROS. BAGELS #3505</th>\n",
       "      <td>Restaurant</td>\n",
       "    </tr>\n",
       "    <tr>\n",
       "      <th>LOVEBUGS, TODDLER PROGRAMS AND PRESCHOOL, LLC</th>\n",
       "      <td>NaN</td>\n",
       "    </tr>\n",
       "    <tr>\n",
       "      <th>REGGIO'S PIZZA EXPRESS</th>\n",
       "      <td>Restaurant</td>\n",
       "    </tr>\n",
       "    <tr>\n",
       "      <th>GOLDEN CROWN RESTAURANT</th>\n",
       "      <td>Restaurant</td>\n",
       "    </tr>\n",
       "    <tr>\n",
       "      <th>SOUTH SIDE FUEL CTR/DUNKIN DOUGHNUTS</th>\n",
       "      <td>GAS STATION/RESTAURANT</td>\n",
       "    </tr>\n",
       "    <tr>\n",
       "      <th>LOVEBUGS, TODDLER PROGRAMS AND PRESCHOOL, LLC</th>\n",
       "      <td>Daycare (2 - 6 Years)</td>\n",
       "    </tr>\n",
       "    <tr>\n",
       "      <th>CITGO</th>\n",
       "      <td>Grocery Store</td>\n",
       "    </tr>\n",
       "    <tr>\n",
       "      <th>Tots Express Learning Center</th>\n",
       "      <td>Daycare (2 - 6 Years)</td>\n",
       "    </tr>\n",
       "    <tr>\n",
       "      <th>ACE'S SOUL FOOD CAFE, INC.</th>\n",
       "      <td>Restaurant</td>\n",
       "    </tr>\n",
       "    <tr>\n",
       "      <th>EL TACONAZO RESTAURANT</th>\n",
       "      <td>Restaurant</td>\n",
       "    </tr>\n",
       "    <tr>\n",
       "      <th>7-ELEVEN #32889B</th>\n",
       "      <td>Grocery Store</td>\n",
       "    </tr>\n",
       "    <tr>\n",
       "      <th>THE LEARNING TREE II</th>\n",
       "      <td>Daycare Above and Under 2 Years</td>\n",
       "    </tr>\n",
       "    <tr>\n",
       "      <th>MONTICELLO FOOD MART, INC</th>\n",
       "      <td>Grocery Store</td>\n",
       "    </tr>\n",
       "    <tr>\n",
       "      <th>PAKEEZA</th>\n",
       "      <td>Restaurant</td>\n",
       "    </tr>\n",
       "    <tr>\n",
       "      <th>SUPER DOG'S SUBMARINES INC</th>\n",
       "      <td>Restaurant</td>\n",
       "    </tr>\n",
       "    <tr>\n",
       "      <th>State Street Pizza Company</th>\n",
       "      <td>Restaurant</td>\n",
       "    </tr>\n",
       "    <tr>\n",
       "      <th>FAIRPLAY FINER FOOD</th>\n",
       "      <td>Grocery Store</td>\n",
       "    </tr>\n",
       "    <tr>\n",
       "      <th>WHIPPLE STORE</th>\n",
       "      <td>Grocery Store</td>\n",
       "    </tr>\n",
       "    <tr>\n",
       "      <th>WOLCOTT'S</th>\n",
       "      <td>Restaurant</td>\n",
       "    </tr>\n",
       "    <tr>\n",
       "      <th>WOLCOTT'S</th>\n",
       "      <td>Restaurant</td>\n",
       "    </tr>\n",
       "    <tr>\n",
       "      <th>DUNKIN DONUTS/BASKIN-ROBBINS</th>\n",
       "      <td>Restaurant</td>\n",
       "    </tr>\n",
       "    <tr>\n",
       "      <th>Cafe 608</th>\n",
       "      <td>Restaurant</td>\n",
       "    </tr>\n",
       "    <tr>\n",
       "      <th>mr.daniel's</th>\n",
       "      <td>Restaurant</td>\n",
       "    </tr>\n",
       "    <tr>\n",
       "      <th>TEMPO CAFE</th>\n",
       "      <td>Restaurant</td>\n",
       "    </tr>\n",
       "  </tbody>\n",
       "</table>\n",
       "<p>146077 rows × 1 columns</p>\n",
       "</div>"
      ],
      "text/plain": [
       "                                                                 Facility Type\n",
       "DBA Name                                                                      \n",
       "DANY'S TACOS                                                        Restaurant\n",
       "BILLY FOOD MARKET INC                                                      NaN\n",
       "TAQUERIA HACIENDA TAPATIA                                           Restaurant\n",
       "WILD GOOSE BAR & GRILL                                              Restaurant\n",
       "PUBLICAN TAVERN K1                                                  Restaurant\n",
       "LABRIOLA BAKERY AND CAFE                                                Bakery\n",
       "PARK  PLAZA RETIREMENT CENTER                                       Restaurant\n",
       "SULLIVAN'S STEAKHOUSE                                               Restaurant\n",
       "THRESHOLD SCHOOL                                                        School\n",
       "EDIBLE ARRANGEMENTS OF CHICAGO-HYDE PARK                            Restaurant\n",
       "ONE NORTH                                                           Restaurant\n",
       "FRONT YARD JERK GRILLE                                              Restaurant\n",
       "VILLA PALERMO INC                                                   Restaurant\n",
       "ST. BENEDICT ELEMENTARY SCHOOL                                          School\n",
       "BADERBRAU BREWING COMPANY                                           Restaurant\n",
       "ST. BENEDICT HIGH SCHOOL                                                School\n",
       "LAGRANJA RESTAURANT INC.                                            Restaurant\n",
       "PHO NUMBER 1- VIETNAMESE CUISINE LLC                                Restaurant\n",
       "PARADISE SUPERMARKET INC                                         Grocery Store\n",
       "BISTRO CAMPAGNE                                                     Restaurant\n",
       "ILLINOIS BAR & GRILL                                                Restaurant\n",
       "PARADISE GROCERY INC.                                            Grocery Store\n",
       "CHIPOTLE MEXICAN GRILL#2768                                         Restaurant\n",
       "CARDONA'S                                                           Restaurant\n",
       "KINGS  GYROS #2                                                     Restaurant\n",
       "CATALYST MARIA                                                          School\n",
       "Canter Middle                                                           School\n",
       "BRU COFFEE HOUSE                                                    Restaurant\n",
       "J J MINI STORE                                              GROCERY/RESTAURANT\n",
       "LITTLE WOK                                                          Restaurant\n",
       "...                                                                        ...\n",
       "WALGREENS #1417                                                  Grocery Store\n",
       "THE DOGHOUSE                                                               NaN\n",
       "NOAH FOOD GROUP, INC                                             Grocery Store\n",
       "CVS PHARMACY #2935                                               Grocery Store\n",
       "EL MILAGRO                                                          Restaurant\n",
       "THRESHOLD SCHOOL                                                        School\n",
       "EINSTEIN BROS. BAGELS #3505                                         Restaurant\n",
       "LOVEBUGS, TODDLER PROGRAMS AND PRESCHOOL, LLC                              NaN\n",
       "REGGIO'S PIZZA EXPRESS                                              Restaurant\n",
       "GOLDEN CROWN RESTAURANT                                             Restaurant\n",
       "SOUTH SIDE FUEL CTR/DUNKIN DOUGHNUTS                    GAS STATION/RESTAURANT\n",
       "LOVEBUGS, TODDLER PROGRAMS AND PRESCHOOL, LLC            Daycare (2 - 6 Years)\n",
       "CITGO                                                            Grocery Store\n",
       "Tots Express Learning Center                             Daycare (2 - 6 Years)\n",
       "ACE'S SOUL FOOD CAFE, INC.                                          Restaurant\n",
       "EL TACONAZO RESTAURANT                                              Restaurant\n",
       "7-ELEVEN #32889B                                                 Grocery Store\n",
       "THE LEARNING TREE II                           Daycare Above and Under 2 Years\n",
       "MONTICELLO FOOD MART, INC                                        Grocery Store\n",
       "PAKEEZA                                                             Restaurant\n",
       "SUPER DOG'S SUBMARINES INC                                          Restaurant\n",
       "State Street Pizza Company                                          Restaurant\n",
       "FAIRPLAY FINER FOOD                                              Grocery Store\n",
       "WHIPPLE STORE                                                    Grocery Store\n",
       "WOLCOTT'S                                                           Restaurant\n",
       "WOLCOTT'S                                                           Restaurant\n",
       "DUNKIN DONUTS/BASKIN-ROBBINS                                        Restaurant\n",
       "Cafe 608                                                            Restaurant\n",
       "mr.daniel's                                                         Restaurant\n",
       "TEMPO CAFE                                                          Restaurant\n",
       "\n",
       "[146077 rows x 1 columns]"
      ]
     },
     "execution_count": 9,
     "metadata": {},
     "output_type": "execute_result"
    }
   ],
   "source": [
    "df[['Facility Type']]"
   ]
  },
  {
   "cell_type": "markdown",
   "metadata": {},
   "source": [
    "### Exercise 5\n",
    "<span  style=\"color:green; font-size:16px\">Select the row for the restaurant **`WILD GOOSE BAR & GRILL`**.  What object is returned?</span>"
   ]
  },
  {
   "cell_type": "code",
   "execution_count": 10,
   "metadata": {},
   "outputs": [
    {
     "data": {
      "text/html": [
       "<div>\n",
       "<style scoped>\n",
       "    .dataframe tbody tr th:only-of-type {\n",
       "        vertical-align: middle;\n",
       "    }\n",
       "\n",
       "    .dataframe tbody tr th {\n",
       "        vertical-align: top;\n",
       "    }\n",
       "\n",
       "    .dataframe thead th {\n",
       "        text-align: right;\n",
       "    }\n",
       "</style>\n",
       "<table border=\"1\" class=\"dataframe\">\n",
       "  <thead>\n",
       "    <tr style=\"text-align: right;\">\n",
       "      <th></th>\n",
       "      <th>AKA Name</th>\n",
       "      <th>License #</th>\n",
       "      <th>Facility Type</th>\n",
       "      <th>Risk</th>\n",
       "      <th>Address</th>\n",
       "      <th>City</th>\n",
       "      <th>State</th>\n",
       "      <th>Zip</th>\n",
       "      <th>Inspection Date</th>\n",
       "      <th>Inspection Type</th>\n",
       "      <th>Results</th>\n",
       "      <th>Violations</th>\n",
       "      <th>Latitude</th>\n",
       "      <th>Longitude</th>\n",
       "      <th>Location</th>\n",
       "    </tr>\n",
       "    <tr>\n",
       "      <th>DBA Name</th>\n",
       "      <th></th>\n",
       "      <th></th>\n",
       "      <th></th>\n",
       "      <th></th>\n",
       "      <th></th>\n",
       "      <th></th>\n",
       "      <th></th>\n",
       "      <th></th>\n",
       "      <th></th>\n",
       "      <th></th>\n",
       "      <th></th>\n",
       "      <th></th>\n",
       "      <th></th>\n",
       "      <th></th>\n",
       "      <th></th>\n",
       "    </tr>\n",
       "  </thead>\n",
       "  <tbody>\n",
       "    <tr>\n",
       "      <th>WILD GOOSE BAR &amp; GRILL</th>\n",
       "      <td>WILD GOOSE BAR &amp; GRILL</td>\n",
       "      <td>12475.0</td>\n",
       "      <td>Restaurant</td>\n",
       "      <td>Risk 1 (High)</td>\n",
       "      <td>4265 N LINCOLN AVE</td>\n",
       "      <td>CHICAGO</td>\n",
       "      <td>IL</td>\n",
       "      <td>60618.0</td>\n",
       "      <td>03/27/2017</td>\n",
       "      <td>Canvass</td>\n",
       "      <td>Fail</td>\n",
       "      <td>16. FOOD PROTECTED DURING STORAGE, PREPARATION...</td>\n",
       "      <td>41.959582</td>\n",
       "      <td>-87.682398</td>\n",
       "      <td>(41.95958202440171, -87.68239844007711)</td>\n",
       "    </tr>\n",
       "    <tr>\n",
       "      <th>WILD GOOSE BAR &amp; GRILL</th>\n",
       "      <td>WILD GOOSE BAR &amp; GRILL</td>\n",
       "      <td>12475.0</td>\n",
       "      <td>Restaurant</td>\n",
       "      <td>Risk 1 (High)</td>\n",
       "      <td>4265 N LINCOLN AVE</td>\n",
       "      <td>CHICAGO</td>\n",
       "      <td>IL</td>\n",
       "      <td>60618.0</td>\n",
       "      <td>05/23/2016</td>\n",
       "      <td>Canvass</td>\n",
       "      <td>Pass</td>\n",
       "      <td>34. FLOORS: CONSTRUCTED PER CODE, CLEANED, GOO...</td>\n",
       "      <td>41.959582</td>\n",
       "      <td>-87.682398</td>\n",
       "      <td>(41.95958202440171, -87.68239844007711)</td>\n",
       "    </tr>\n",
       "    <tr>\n",
       "      <th>WILD GOOSE BAR &amp; GRILL</th>\n",
       "      <td>WILD GOOSE BAR &amp; GRILL</td>\n",
       "      <td>12475.0</td>\n",
       "      <td>Restaurant</td>\n",
       "      <td>Risk 1 (High)</td>\n",
       "      <td>4265 N LINCOLN AVE</td>\n",
       "      <td>CHICAGO</td>\n",
       "      <td>IL</td>\n",
       "      <td>60618.0</td>\n",
       "      <td>10/07/2015</td>\n",
       "      <td>Canvass Re-Inspection</td>\n",
       "      <td>Pass</td>\n",
       "      <td>16. FOOD PROTECTED DURING STORAGE, PREPARATION...</td>\n",
       "      <td>41.959582</td>\n",
       "      <td>-87.682398</td>\n",
       "      <td>(41.95958202440171, -87.68239844007711)</td>\n",
       "    </tr>\n",
       "    <tr>\n",
       "      <th>WILD GOOSE BAR &amp; GRILL</th>\n",
       "      <td>WILD GOOSE BAR &amp; GRILL</td>\n",
       "      <td>12475.0</td>\n",
       "      <td>Restaurant</td>\n",
       "      <td>Risk 1 (High)</td>\n",
       "      <td>4265 N LINCOLN AVE</td>\n",
       "      <td>CHICAGO</td>\n",
       "      <td>IL</td>\n",
       "      <td>60618.0</td>\n",
       "      <td>09/30/2015</td>\n",
       "      <td>Canvass</td>\n",
       "      <td>Fail</td>\n",
       "      <td>29. PREVIOUS MINOR VIOLATION(S) CORRECTED 7-42...</td>\n",
       "      <td>41.959582</td>\n",
       "      <td>-87.682398</td>\n",
       "      <td>(41.95958202440171, -87.68239844007711)</td>\n",
       "    </tr>\n",
       "    <tr>\n",
       "      <th>WILD GOOSE BAR &amp; GRILL</th>\n",
       "      <td>WILD GOOSE BAR &amp; GRILL</td>\n",
       "      <td>12475.0</td>\n",
       "      <td>Restaurant</td>\n",
       "      <td>Risk 1 (High)</td>\n",
       "      <td>4265 N LINCOLN AVE</td>\n",
       "      <td>CHICAGO</td>\n",
       "      <td>IL</td>\n",
       "      <td>60618.0</td>\n",
       "      <td>08/27/2014</td>\n",
       "      <td>Canvass</td>\n",
       "      <td>Pass</td>\n",
       "      <td>41. PREMISES MAINTAINED FREE OF LITTER, UNNECE...</td>\n",
       "      <td>41.959582</td>\n",
       "      <td>-87.682398</td>\n",
       "      <td>(41.95958202440171, -87.68239844007711)</td>\n",
       "    </tr>\n",
       "    <tr>\n",
       "      <th>WILD GOOSE BAR &amp; GRILL</th>\n",
       "      <td>WILD GOOSE BAR &amp; GRILL</td>\n",
       "      <td>12475.0</td>\n",
       "      <td>Restaurant</td>\n",
       "      <td>Risk 1 (High)</td>\n",
       "      <td>4265 N LINCOLN AVE</td>\n",
       "      <td>CHICAGO</td>\n",
       "      <td>IL</td>\n",
       "      <td>60618.0</td>\n",
       "      <td>08/27/2013</td>\n",
       "      <td>Canvass</td>\n",
       "      <td>Pass</td>\n",
       "      <td>35. WALLS, CEILINGS, ATTACHED EQUIPMENT CONSTR...</td>\n",
       "      <td>41.959582</td>\n",
       "      <td>-87.682398</td>\n",
       "      <td>(41.95958202440171, -87.68239844007711)</td>\n",
       "    </tr>\n",
       "    <tr>\n",
       "      <th>WILD GOOSE BAR &amp; GRILL</th>\n",
       "      <td>WILD GOOSE BAR &amp; GRILL</td>\n",
       "      <td>12475.0</td>\n",
       "      <td>Restaurant</td>\n",
       "      <td>Risk 1 (High)</td>\n",
       "      <td>4265 N LINCOLN AVE</td>\n",
       "      <td>CHICAGO</td>\n",
       "      <td>IL</td>\n",
       "      <td>60618.0</td>\n",
       "      <td>07/30/2012</td>\n",
       "      <td>Canvass</td>\n",
       "      <td>Pass</td>\n",
       "      <td>30. FOOD IN ORIGINAL CONTAINER, PROPERLY LABEL...</td>\n",
       "      <td>41.959582</td>\n",
       "      <td>-87.682398</td>\n",
       "      <td>(41.95958202440171, -87.68239844007711)</td>\n",
       "    </tr>\n",
       "    <tr>\n",
       "      <th>WILD GOOSE BAR &amp; GRILL</th>\n",
       "      <td>WILD GOOSE BAR &amp; GRILL</td>\n",
       "      <td>12475.0</td>\n",
       "      <td>Restaurant</td>\n",
       "      <td>Risk 1 (High)</td>\n",
       "      <td>4265 N LINCOLN AVE</td>\n",
       "      <td>CHICAGO</td>\n",
       "      <td>IL</td>\n",
       "      <td>60618.0</td>\n",
       "      <td>07/07/2010</td>\n",
       "      <td>Canvass</td>\n",
       "      <td>Pass</td>\n",
       "      <td>33. FOOD AND NON-FOOD CONTACT EQUIPMENT UTENSI...</td>\n",
       "      <td>41.959582</td>\n",
       "      <td>-87.682398</td>\n",
       "      <td>(41.95958202440171, -87.68239844007711)</td>\n",
       "    </tr>\n",
       "  </tbody>\n",
       "</table>\n",
       "</div>"
      ],
      "text/plain": [
       "                                      AKA Name  License # Facility Type  \\\n",
       "DBA Name                                                                  \n",
       "WILD GOOSE BAR & GRILL  WILD GOOSE BAR & GRILL    12475.0    Restaurant   \n",
       "WILD GOOSE BAR & GRILL  WILD GOOSE BAR & GRILL    12475.0    Restaurant   \n",
       "WILD GOOSE BAR & GRILL  WILD GOOSE BAR & GRILL    12475.0    Restaurant   \n",
       "WILD GOOSE BAR & GRILL  WILD GOOSE BAR & GRILL    12475.0    Restaurant   \n",
       "WILD GOOSE BAR & GRILL  WILD GOOSE BAR & GRILL    12475.0    Restaurant   \n",
       "WILD GOOSE BAR & GRILL  WILD GOOSE BAR & GRILL    12475.0    Restaurant   \n",
       "WILD GOOSE BAR & GRILL  WILD GOOSE BAR & GRILL    12475.0    Restaurant   \n",
       "WILD GOOSE BAR & GRILL  WILD GOOSE BAR & GRILL    12475.0    Restaurant   \n",
       "\n",
       "                                 Risk              Address     City State  \\\n",
       "DBA Name                                                                    \n",
       "WILD GOOSE BAR & GRILL  Risk 1 (High)  4265 N LINCOLN AVE   CHICAGO    IL   \n",
       "WILD GOOSE BAR & GRILL  Risk 1 (High)  4265 N LINCOLN AVE   CHICAGO    IL   \n",
       "WILD GOOSE BAR & GRILL  Risk 1 (High)  4265 N LINCOLN AVE   CHICAGO    IL   \n",
       "WILD GOOSE BAR & GRILL  Risk 1 (High)  4265 N LINCOLN AVE   CHICAGO    IL   \n",
       "WILD GOOSE BAR & GRILL  Risk 1 (High)  4265 N LINCOLN AVE   CHICAGO    IL   \n",
       "WILD GOOSE BAR & GRILL  Risk 1 (High)  4265 N LINCOLN AVE   CHICAGO    IL   \n",
       "WILD GOOSE BAR & GRILL  Risk 1 (High)  4265 N LINCOLN AVE   CHICAGO    IL   \n",
       "WILD GOOSE BAR & GRILL  Risk 1 (High)  4265 N LINCOLN AVE   CHICAGO    IL   \n",
       "\n",
       "                            Zip Inspection Date        Inspection Type  \\\n",
       "DBA Name                                                                 \n",
       "WILD GOOSE BAR & GRILL  60618.0      03/27/2017                Canvass   \n",
       "WILD GOOSE BAR & GRILL  60618.0      05/23/2016                Canvass   \n",
       "WILD GOOSE BAR & GRILL  60618.0      10/07/2015  Canvass Re-Inspection   \n",
       "WILD GOOSE BAR & GRILL  60618.0      09/30/2015                Canvass   \n",
       "WILD GOOSE BAR & GRILL  60618.0      08/27/2014                Canvass   \n",
       "WILD GOOSE BAR & GRILL  60618.0      08/27/2013                Canvass   \n",
       "WILD GOOSE BAR & GRILL  60618.0      07/30/2012                Canvass   \n",
       "WILD GOOSE BAR & GRILL  60618.0      07/07/2010                Canvass   \n",
       "\n",
       "                       Results  \\\n",
       "DBA Name                         \n",
       "WILD GOOSE BAR & GRILL    Fail   \n",
       "WILD GOOSE BAR & GRILL    Pass   \n",
       "WILD GOOSE BAR & GRILL    Pass   \n",
       "WILD GOOSE BAR & GRILL    Fail   \n",
       "WILD GOOSE BAR & GRILL    Pass   \n",
       "WILD GOOSE BAR & GRILL    Pass   \n",
       "WILD GOOSE BAR & GRILL    Pass   \n",
       "WILD GOOSE BAR & GRILL    Pass   \n",
       "\n",
       "                                                               Violations  \\\n",
       "DBA Name                                                                    \n",
       "WILD GOOSE BAR & GRILL  16. FOOD PROTECTED DURING STORAGE, PREPARATION...   \n",
       "WILD GOOSE BAR & GRILL  34. FLOORS: CONSTRUCTED PER CODE, CLEANED, GOO...   \n",
       "WILD GOOSE BAR & GRILL  16. FOOD PROTECTED DURING STORAGE, PREPARATION...   \n",
       "WILD GOOSE BAR & GRILL  29. PREVIOUS MINOR VIOLATION(S) CORRECTED 7-42...   \n",
       "WILD GOOSE BAR & GRILL  41. PREMISES MAINTAINED FREE OF LITTER, UNNECE...   \n",
       "WILD GOOSE BAR & GRILL  35. WALLS, CEILINGS, ATTACHED EQUIPMENT CONSTR...   \n",
       "WILD GOOSE BAR & GRILL  30. FOOD IN ORIGINAL CONTAINER, PROPERLY LABEL...   \n",
       "WILD GOOSE BAR & GRILL  33. FOOD AND NON-FOOD CONTACT EQUIPMENT UTENSI...   \n",
       "\n",
       "                         Latitude  Longitude  \\\n",
       "DBA Name                                       \n",
       "WILD GOOSE BAR & GRILL  41.959582 -87.682398   \n",
       "WILD GOOSE BAR & GRILL  41.959582 -87.682398   \n",
       "WILD GOOSE BAR & GRILL  41.959582 -87.682398   \n",
       "WILD GOOSE BAR & GRILL  41.959582 -87.682398   \n",
       "WILD GOOSE BAR & GRILL  41.959582 -87.682398   \n",
       "WILD GOOSE BAR & GRILL  41.959582 -87.682398   \n",
       "WILD GOOSE BAR & GRILL  41.959582 -87.682398   \n",
       "WILD GOOSE BAR & GRILL  41.959582 -87.682398   \n",
       "\n",
       "                                                       Location  \n",
       "DBA Name                                                         \n",
       "WILD GOOSE BAR & GRILL  (41.95958202440171, -87.68239844007711)  \n",
       "WILD GOOSE BAR & GRILL  (41.95958202440171, -87.68239844007711)  \n",
       "WILD GOOSE BAR & GRILL  (41.95958202440171, -87.68239844007711)  \n",
       "WILD GOOSE BAR & GRILL  (41.95958202440171, -87.68239844007711)  \n",
       "WILD GOOSE BAR & GRILL  (41.95958202440171, -87.68239844007711)  \n",
       "WILD GOOSE BAR & GRILL  (41.95958202440171, -87.68239844007711)  \n",
       "WILD GOOSE BAR & GRILL  (41.95958202440171, -87.68239844007711)  \n",
       "WILD GOOSE BAR & GRILL  (41.95958202440171, -87.68239844007711)  "
      ]
     },
     "execution_count": 10,
     "metadata": {},
     "output_type": "execute_result"
    }
   ],
   "source": [
    "df.loc['WILD GOOSE BAR & GRILL']"
   ]
  },
  {
   "cell_type": "markdown",
   "metadata": {},
   "source": [
    "### Exercise 6\n",
    "<span  style=\"color:green; font-size:16px\">Select the rows for the restaurants **`WILD GOOSE BAR & GRILL`** and **`TAQUERIA HACIENDA TAPATIA`** along with columns **`Risk`** and **`Results`**.</span>"
   ]
  },
  {
   "cell_type": "code",
   "execution_count": 11,
   "metadata": {},
   "outputs": [
    {
     "data": {
      "text/html": [
       "<div>\n",
       "<style scoped>\n",
       "    .dataframe tbody tr th:only-of-type {\n",
       "        vertical-align: middle;\n",
       "    }\n",
       "\n",
       "    .dataframe tbody tr th {\n",
       "        vertical-align: top;\n",
       "    }\n",
       "\n",
       "    .dataframe thead th {\n",
       "        text-align: right;\n",
       "    }\n",
       "</style>\n",
       "<table border=\"1\" class=\"dataframe\">\n",
       "  <thead>\n",
       "    <tr style=\"text-align: right;\">\n",
       "      <th></th>\n",
       "      <th>Risk</th>\n",
       "      <th>Results</th>\n",
       "    </tr>\n",
       "    <tr>\n",
       "      <th>DBA Name</th>\n",
       "      <th></th>\n",
       "      <th></th>\n",
       "    </tr>\n",
       "  </thead>\n",
       "  <tbody>\n",
       "    <tr>\n",
       "      <th>WILD GOOSE BAR &amp; GRILL</th>\n",
       "      <td>Risk 1 (High)</td>\n",
       "      <td>Fail</td>\n",
       "    </tr>\n",
       "    <tr>\n",
       "      <th>WILD GOOSE BAR &amp; GRILL</th>\n",
       "      <td>Risk 1 (High)</td>\n",
       "      <td>Pass</td>\n",
       "    </tr>\n",
       "    <tr>\n",
       "      <th>WILD GOOSE BAR &amp; GRILL</th>\n",
       "      <td>Risk 1 (High)</td>\n",
       "      <td>Pass</td>\n",
       "    </tr>\n",
       "    <tr>\n",
       "      <th>WILD GOOSE BAR &amp; GRILL</th>\n",
       "      <td>Risk 1 (High)</td>\n",
       "      <td>Fail</td>\n",
       "    </tr>\n",
       "    <tr>\n",
       "      <th>WILD GOOSE BAR &amp; GRILL</th>\n",
       "      <td>Risk 1 (High)</td>\n",
       "      <td>Pass</td>\n",
       "    </tr>\n",
       "    <tr>\n",
       "      <th>WILD GOOSE BAR &amp; GRILL</th>\n",
       "      <td>Risk 1 (High)</td>\n",
       "      <td>Pass</td>\n",
       "    </tr>\n",
       "    <tr>\n",
       "      <th>WILD GOOSE BAR &amp; GRILL</th>\n",
       "      <td>Risk 1 (High)</td>\n",
       "      <td>Pass</td>\n",
       "    </tr>\n",
       "    <tr>\n",
       "      <th>WILD GOOSE BAR &amp; GRILL</th>\n",
       "      <td>Risk 1 (High)</td>\n",
       "      <td>Pass</td>\n",
       "    </tr>\n",
       "    <tr>\n",
       "      <th>TAQUERIA HACIENDA TAPATIA</th>\n",
       "      <td>Risk 1 (High)</td>\n",
       "      <td>Pass</td>\n",
       "    </tr>\n",
       "    <tr>\n",
       "      <th>TAQUERIA HACIENDA TAPATIA</th>\n",
       "      <td>Risk 1 (High)</td>\n",
       "      <td>Fail</td>\n",
       "    </tr>\n",
       "  </tbody>\n",
       "</table>\n",
       "</div>"
      ],
      "text/plain": [
       "                                    Risk Results\n",
       "DBA Name                                        \n",
       "WILD GOOSE BAR & GRILL     Risk 1 (High)    Fail\n",
       "WILD GOOSE BAR & GRILL     Risk 1 (High)    Pass\n",
       "WILD GOOSE BAR & GRILL     Risk 1 (High)    Pass\n",
       "WILD GOOSE BAR & GRILL     Risk 1 (High)    Fail\n",
       "WILD GOOSE BAR & GRILL     Risk 1 (High)    Pass\n",
       "WILD GOOSE BAR & GRILL     Risk 1 (High)    Pass\n",
       "WILD GOOSE BAR & GRILL     Risk 1 (High)    Pass\n",
       "WILD GOOSE BAR & GRILL     Risk 1 (High)    Pass\n",
       "TAQUERIA HACIENDA TAPATIA  Risk 1 (High)    Pass\n",
       "TAQUERIA HACIENDA TAPATIA  Risk 1 (High)    Fail"
      ]
     },
     "execution_count": 11,
     "metadata": {},
     "output_type": "execute_result"
    }
   ],
   "source": [
    "df.loc[['WILD GOOSE BAR & GRILL', 'TAQUERIA HACIENDA TAPATIA'], ['Risk', 'Results']]"
   ]
  },
  {
   "cell_type": "markdown",
   "metadata": {},
   "source": [
    "### Exercise 7\n",
    "<span  style=\"color:green; font-size:16px\">What is the risk of restaurant **`SCRUB A DUB`**?</span>"
   ]
  },
  {
   "cell_type": "code",
   "execution_count": 12,
   "metadata": {},
   "outputs": [
    {
     "data": {
      "text/plain": [
       "'Risk 2 (Medium)'"
      ]
     },
     "execution_count": 12,
     "metadata": {},
     "output_type": "execute_result"
    }
   ],
   "source": [
    "df.loc['SCRUB A DUB', 'Risk']"
   ]
  },
  {
   "cell_type": "markdown",
   "metadata": {},
   "source": [
    "### Exercise 8\n",
    "<span  style=\"color:green; font-size:16px\">Select every 3,000th restaurant from **`THRESHOLD SCHOOL`** to **`SCRUB A DUB`** and the columns from **`Inspection Type`** on to the end of the DataFrame.</span>"
   ]
  },
  {
   "cell_type": "code",
   "execution_count": 27,
   "metadata": {},
   "outputs": [
    {
     "ename": "KeyError",
     "evalue": "\"Cannot get left slice bound for non-unique label: 'THRESHOLD SCHOOL'\"",
     "output_type": "error",
     "traceback": [
      "\u001b[0;31m---------------------------------------------------------------------------\u001b[0m",
      "\u001b[0;31mKeyError\u001b[0m                                  Traceback (most recent call last)",
      "\u001b[0;32m<ipython-input-27-b304541d9c09>\u001b[0m in \u001b[0;36m<module>\u001b[0;34m()\u001b[0m\n\u001b[0;32m----> 1\u001b[0;31m \u001b[0mdf\u001b[0m\u001b[0;34m.\u001b[0m\u001b[0mloc\u001b[0m\u001b[0;34m[\u001b[0m\u001b[0;34m'THRESHOLD SCHOOL'\u001b[0m\u001b[0;34m:\u001b[0m\u001b[0;34m'SCRUB A DUB'\u001b[0m\u001b[0;34m:\u001b[0m\u001b[0;36m3000\u001b[0m\u001b[0;34m,\u001b[0m\u001b[0;34m'Inspection Type'\u001b[0m\u001b[0;34m:\u001b[0m\u001b[0;34m]\u001b[0m\u001b[0;34m\u001b[0m\u001b[0m\n\u001b[0m",
      "\u001b[0;32m~/anaconda3/lib/python3.6/site-packages/pandas/core/indexing.py\u001b[0m in \u001b[0;36m__getitem__\u001b[0;34m(self, key)\u001b[0m\n\u001b[1;32m   1470\u001b[0m             \u001b[0;32mexcept\u001b[0m \u001b[0;34m(\u001b[0m\u001b[0mKeyError\u001b[0m\u001b[0;34m,\u001b[0m \u001b[0mIndexError\u001b[0m\u001b[0;34m)\u001b[0m\u001b[0;34m:\u001b[0m\u001b[0;34m\u001b[0m\u001b[0m\n\u001b[1;32m   1471\u001b[0m                 \u001b[0;32mpass\u001b[0m\u001b[0;34m\u001b[0m\u001b[0m\n\u001b[0;32m-> 1472\u001b[0;31m             \u001b[0;32mreturn\u001b[0m \u001b[0mself\u001b[0m\u001b[0;34m.\u001b[0m\u001b[0m_getitem_tuple\u001b[0m\u001b[0;34m(\u001b[0m\u001b[0mkey\u001b[0m\u001b[0;34m)\u001b[0m\u001b[0;34m\u001b[0m\u001b[0m\n\u001b[0m\u001b[1;32m   1473\u001b[0m         \u001b[0;32melse\u001b[0m\u001b[0;34m:\u001b[0m\u001b[0;34m\u001b[0m\u001b[0m\n\u001b[1;32m   1474\u001b[0m             \u001b[0;31m# we by definition only have the 0th axis\u001b[0m\u001b[0;34m\u001b[0m\u001b[0;34m\u001b[0m\u001b[0m\n",
      "\u001b[0;32m~/anaconda3/lib/python3.6/site-packages/pandas/core/indexing.py\u001b[0m in \u001b[0;36m_getitem_tuple\u001b[0;34m(self, tup)\u001b[0m\n\u001b[1;32m    888\u001b[0m                 \u001b[0;32mcontinue\u001b[0m\u001b[0;34m\u001b[0m\u001b[0m\n\u001b[1;32m    889\u001b[0m \u001b[0;34m\u001b[0m\u001b[0m\n\u001b[0;32m--> 890\u001b[0;31m             \u001b[0mretval\u001b[0m \u001b[0;34m=\u001b[0m \u001b[0mgetattr\u001b[0m\u001b[0;34m(\u001b[0m\u001b[0mretval\u001b[0m\u001b[0;34m,\u001b[0m \u001b[0mself\u001b[0m\u001b[0;34m.\u001b[0m\u001b[0mname\u001b[0m\u001b[0;34m)\u001b[0m\u001b[0;34m.\u001b[0m\u001b[0m_getitem_axis\u001b[0m\u001b[0;34m(\u001b[0m\u001b[0mkey\u001b[0m\u001b[0;34m,\u001b[0m \u001b[0maxis\u001b[0m\u001b[0;34m=\u001b[0m\u001b[0mi\u001b[0m\u001b[0;34m)\u001b[0m\u001b[0;34m\u001b[0m\u001b[0m\n\u001b[0m\u001b[1;32m    891\u001b[0m \u001b[0;34m\u001b[0m\u001b[0m\n\u001b[1;32m    892\u001b[0m         \u001b[0;32mreturn\u001b[0m \u001b[0mretval\u001b[0m\u001b[0;34m\u001b[0m\u001b[0m\n",
      "\u001b[0;32m~/anaconda3/lib/python3.6/site-packages/pandas/core/indexing.py\u001b[0m in \u001b[0;36m_getitem_axis\u001b[0;34m(self, key, axis)\u001b[0m\n\u001b[1;32m   1864\u001b[0m         \u001b[0;32mif\u001b[0m \u001b[0misinstance\u001b[0m\u001b[0;34m(\u001b[0m\u001b[0mkey\u001b[0m\u001b[0;34m,\u001b[0m \u001b[0mslice\u001b[0m\u001b[0;34m)\u001b[0m\u001b[0;34m:\u001b[0m\u001b[0;34m\u001b[0m\u001b[0m\n\u001b[1;32m   1865\u001b[0m             \u001b[0mself\u001b[0m\u001b[0;34m.\u001b[0m\u001b[0m_validate_key\u001b[0m\u001b[0;34m(\u001b[0m\u001b[0mkey\u001b[0m\u001b[0;34m,\u001b[0m \u001b[0maxis\u001b[0m\u001b[0;34m)\u001b[0m\u001b[0;34m\u001b[0m\u001b[0m\n\u001b[0;32m-> 1866\u001b[0;31m             \u001b[0;32mreturn\u001b[0m \u001b[0mself\u001b[0m\u001b[0;34m.\u001b[0m\u001b[0m_get_slice_axis\u001b[0m\u001b[0;34m(\u001b[0m\u001b[0mkey\u001b[0m\u001b[0;34m,\u001b[0m \u001b[0maxis\u001b[0m\u001b[0;34m=\u001b[0m\u001b[0maxis\u001b[0m\u001b[0;34m)\u001b[0m\u001b[0;34m\u001b[0m\u001b[0m\n\u001b[0m\u001b[1;32m   1867\u001b[0m         \u001b[0;32melif\u001b[0m \u001b[0mcom\u001b[0m\u001b[0;34m.\u001b[0m\u001b[0mis_bool_indexer\u001b[0m\u001b[0;34m(\u001b[0m\u001b[0mkey\u001b[0m\u001b[0;34m)\u001b[0m\u001b[0;34m:\u001b[0m\u001b[0;34m\u001b[0m\u001b[0m\n\u001b[1;32m   1868\u001b[0m             \u001b[0;32mreturn\u001b[0m \u001b[0mself\u001b[0m\u001b[0;34m.\u001b[0m\u001b[0m_getbool_axis\u001b[0m\u001b[0;34m(\u001b[0m\u001b[0mkey\u001b[0m\u001b[0;34m,\u001b[0m \u001b[0maxis\u001b[0m\u001b[0;34m=\u001b[0m\u001b[0maxis\u001b[0m\u001b[0;34m)\u001b[0m\u001b[0;34m\u001b[0m\u001b[0m\n",
      "\u001b[0;32m~/anaconda3/lib/python3.6/site-packages/pandas/core/indexing.py\u001b[0m in \u001b[0;36m_get_slice_axis\u001b[0;34m(self, slice_obj, axis)\u001b[0m\n\u001b[1;32m   1509\u001b[0m         \u001b[0mlabels\u001b[0m \u001b[0;34m=\u001b[0m \u001b[0mobj\u001b[0m\u001b[0;34m.\u001b[0m\u001b[0m_get_axis\u001b[0m\u001b[0;34m(\u001b[0m\u001b[0maxis\u001b[0m\u001b[0;34m)\u001b[0m\u001b[0;34m\u001b[0m\u001b[0m\n\u001b[1;32m   1510\u001b[0m         indexer = labels.slice_indexer(slice_obj.start, slice_obj.stop,\n\u001b[0;32m-> 1511\u001b[0;31m                                        slice_obj.step, kind=self.name)\n\u001b[0m\u001b[1;32m   1512\u001b[0m \u001b[0;34m\u001b[0m\u001b[0m\n\u001b[1;32m   1513\u001b[0m         \u001b[0;32mif\u001b[0m \u001b[0misinstance\u001b[0m\u001b[0;34m(\u001b[0m\u001b[0mindexer\u001b[0m\u001b[0;34m,\u001b[0m \u001b[0mslice\u001b[0m\u001b[0;34m)\u001b[0m\u001b[0;34m:\u001b[0m\u001b[0;34m\u001b[0m\u001b[0m\n",
      "\u001b[0;32m~/anaconda3/lib/python3.6/site-packages/pandas/core/indexes/base.py\u001b[0m in \u001b[0;36mslice_indexer\u001b[0;34m(self, start, end, step, kind)\u001b[0m\n\u001b[1;32m   4088\u001b[0m         \"\"\"\n\u001b[1;32m   4089\u001b[0m         start_slice, end_slice = self.slice_locs(start, end, step=step,\n\u001b[0;32m-> 4090\u001b[0;31m                                                  kind=kind)\n\u001b[0m\u001b[1;32m   4091\u001b[0m \u001b[0;34m\u001b[0m\u001b[0m\n\u001b[1;32m   4092\u001b[0m         \u001b[0;31m# return a slice\u001b[0m\u001b[0;34m\u001b[0m\u001b[0;34m\u001b[0m\u001b[0m\n",
      "\u001b[0;32m~/anaconda3/lib/python3.6/site-packages/pandas/core/indexes/base.py\u001b[0m in \u001b[0;36mslice_locs\u001b[0;34m(self, start, end, step, kind)\u001b[0m\n\u001b[1;32m   4289\u001b[0m         \u001b[0mstart_slice\u001b[0m \u001b[0;34m=\u001b[0m \u001b[0;32mNone\u001b[0m\u001b[0;34m\u001b[0m\u001b[0m\n\u001b[1;32m   4290\u001b[0m         \u001b[0;32mif\u001b[0m \u001b[0mstart\u001b[0m \u001b[0;32mis\u001b[0m \u001b[0;32mnot\u001b[0m \u001b[0;32mNone\u001b[0m\u001b[0;34m:\u001b[0m\u001b[0;34m\u001b[0m\u001b[0m\n\u001b[0;32m-> 4291\u001b[0;31m             \u001b[0mstart_slice\u001b[0m \u001b[0;34m=\u001b[0m \u001b[0mself\u001b[0m\u001b[0;34m.\u001b[0m\u001b[0mget_slice_bound\u001b[0m\u001b[0;34m(\u001b[0m\u001b[0mstart\u001b[0m\u001b[0;34m,\u001b[0m \u001b[0;34m'left'\u001b[0m\u001b[0;34m,\u001b[0m \u001b[0mkind\u001b[0m\u001b[0;34m)\u001b[0m\u001b[0;34m\u001b[0m\u001b[0m\n\u001b[0m\u001b[1;32m   4292\u001b[0m         \u001b[0;32mif\u001b[0m \u001b[0mstart_slice\u001b[0m \u001b[0;32mis\u001b[0m \u001b[0;32mNone\u001b[0m\u001b[0;34m:\u001b[0m\u001b[0;34m\u001b[0m\u001b[0m\n\u001b[1;32m   4293\u001b[0m             \u001b[0mstart_slice\u001b[0m \u001b[0;34m=\u001b[0m \u001b[0;36m0\u001b[0m\u001b[0;34m\u001b[0m\u001b[0m\n",
      "\u001b[0;32m~/anaconda3/lib/python3.6/site-packages/pandas/core/indexes/base.py\u001b[0m in \u001b[0;36mget_slice_bound\u001b[0;34m(self, label, side, kind)\u001b[0m\n\u001b[1;32m   4236\u001b[0m             \u001b[0;32mif\u001b[0m \u001b[0misinstance\u001b[0m\u001b[0;34m(\u001b[0m\u001b[0mslc\u001b[0m\u001b[0;34m,\u001b[0m \u001b[0mnp\u001b[0m\u001b[0;34m.\u001b[0m\u001b[0mndarray\u001b[0m\u001b[0;34m)\u001b[0m\u001b[0;34m:\u001b[0m\u001b[0;34m\u001b[0m\u001b[0m\n\u001b[1;32m   4237\u001b[0m                 raise KeyError(\"Cannot get %s slice bound for non-unique \"\n\u001b[0;32m-> 4238\u001b[0;31m                                \"label: %r\" % (side, original_label))\n\u001b[0m\u001b[1;32m   4239\u001b[0m \u001b[0;34m\u001b[0m\u001b[0m\n\u001b[1;32m   4240\u001b[0m         \u001b[0;32mif\u001b[0m \u001b[0misinstance\u001b[0m\u001b[0;34m(\u001b[0m\u001b[0mslc\u001b[0m\u001b[0;34m,\u001b[0m \u001b[0mslice\u001b[0m\u001b[0;34m)\u001b[0m\u001b[0;34m:\u001b[0m\u001b[0;34m\u001b[0m\u001b[0m\n",
      "\u001b[0;31mKeyError\u001b[0m: \"Cannot get left slice bound for non-unique label: 'THRESHOLD SCHOOL'\""
     ]
    }
   ],
   "source": [
    "df.loc['THRESHOLD SCHOOL':'SCRUB A DUB':3000,'Inspection Type':]"
   ]
  },
  {
   "cell_type": "markdown",
   "metadata": {},
   "source": [
    "### Exercise 9\n",
    "<span  style=\"color:green; font-size:16px\">Select all columns from the 500th restaurant to the 510th</span>"
   ]
  },
  {
   "cell_type": "code",
   "execution_count": 14,
   "metadata": {},
   "outputs": [
    {
     "data": {
      "text/html": [
       "<div>\n",
       "<style scoped>\n",
       "    .dataframe tbody tr th:only-of-type {\n",
       "        vertical-align: middle;\n",
       "    }\n",
       "\n",
       "    .dataframe tbody tr th {\n",
       "        vertical-align: top;\n",
       "    }\n",
       "\n",
       "    .dataframe thead th {\n",
       "        text-align: right;\n",
       "    }\n",
       "</style>\n",
       "<table border=\"1\" class=\"dataframe\">\n",
       "  <thead>\n",
       "    <tr style=\"text-align: right;\">\n",
       "      <th></th>\n",
       "      <th>AKA Name</th>\n",
       "      <th>License #</th>\n",
       "      <th>Facility Type</th>\n",
       "      <th>Risk</th>\n",
       "      <th>Address</th>\n",
       "      <th>City</th>\n",
       "      <th>State</th>\n",
       "      <th>Zip</th>\n",
       "      <th>Inspection Date</th>\n",
       "      <th>Inspection Type</th>\n",
       "      <th>Results</th>\n",
       "      <th>Violations</th>\n",
       "      <th>Latitude</th>\n",
       "      <th>Longitude</th>\n",
       "      <th>Location</th>\n",
       "    </tr>\n",
       "    <tr>\n",
       "      <th>DBA Name</th>\n",
       "      <th></th>\n",
       "      <th></th>\n",
       "      <th></th>\n",
       "      <th></th>\n",
       "      <th></th>\n",
       "      <th></th>\n",
       "      <th></th>\n",
       "      <th></th>\n",
       "      <th></th>\n",
       "      <th></th>\n",
       "      <th></th>\n",
       "      <th></th>\n",
       "      <th></th>\n",
       "      <th></th>\n",
       "      <th></th>\n",
       "    </tr>\n",
       "  </thead>\n",
       "  <tbody>\n",
       "    <tr>\n",
       "      <th>PENINSULA CHICAGO,LLC</th>\n",
       "      <td>MAIN KITCHEN</td>\n",
       "      <td>1091966.0</td>\n",
       "      <td>Restaurant</td>\n",
       "      <td>Risk 1 (High)</td>\n",
       "      <td>108 E SUPERIOR ST</td>\n",
       "      <td>CHICAGO</td>\n",
       "      <td>IL</td>\n",
       "      <td>60611.0</td>\n",
       "      <td>03/15/2017</td>\n",
       "      <td>Canvass</td>\n",
       "      <td>Fail</td>\n",
       "      <td>16. FOOD PROTECTED DURING STORAGE, PREPARATION...</td>\n",
       "      <td>41.895840</td>\n",
       "      <td>-87.624988</td>\n",
       "      <td>(41.89583963820686, -87.62498814131581)</td>\n",
       "    </tr>\n",
       "    <tr>\n",
       "      <th>VENEZUELAN BOWL GRILL LLC</th>\n",
       "      <td>VENEZUELAN BOWL GRILL</td>\n",
       "      <td>2424110.0</td>\n",
       "      <td>Restaurant</td>\n",
       "      <td>Risk 1 (High)</td>\n",
       "      <td>2436 N LINCOLN AVE</td>\n",
       "      <td>CHICAGO</td>\n",
       "      <td>IL</td>\n",
       "      <td>60614.0</td>\n",
       "      <td>03/15/2017</td>\n",
       "      <td>Canvass</td>\n",
       "      <td>Fail</td>\n",
       "      <td>14. PREVIOUS SERIOUS VIOLATION CORRECTED, 7-42...</td>\n",
       "      <td>41.926191</td>\n",
       "      <td>-87.650017</td>\n",
       "      <td>(41.926190902860434, -87.65001746088006)</td>\n",
       "    </tr>\n",
       "    <tr>\n",
       "      <th>JULIUS MEINL</th>\n",
       "      <td>JULIUS MEINL</td>\n",
       "      <td>2141409.0</td>\n",
       "      <td>Bakery</td>\n",
       "      <td>Risk 1 (High)</td>\n",
       "      <td>4115 N RAVENSWOOD AVE</td>\n",
       "      <td>CHICAGO</td>\n",
       "      <td>IL</td>\n",
       "      <td>60613.0</td>\n",
       "      <td>03/15/2017</td>\n",
       "      <td>Canvass</td>\n",
       "      <td>Pass</td>\n",
       "      <td>32. FOOD AND NON-FOOD CONTACT SURFACES PROPERL...</td>\n",
       "      <td>41.956554</td>\n",
       "      <td>-87.673709</td>\n",
       "      <td>(41.956553643574246, -87.67370925557856)</td>\n",
       "    </tr>\n",
       "    <tr>\n",
       "      <th>MEZQUITE EXPRESS # 2</th>\n",
       "      <td>MEZQUITE EXPRESS # 2</td>\n",
       "      <td>2517585.0</td>\n",
       "      <td>Restaurant</td>\n",
       "      <td>Risk 1 (High)</td>\n",
       "      <td>5160 S PULASKI RD</td>\n",
       "      <td>CHICAGO</td>\n",
       "      <td>IL</td>\n",
       "      <td>60632.0</td>\n",
       "      <td>03/15/2017</td>\n",
       "      <td>License</td>\n",
       "      <td>Pass</td>\n",
       "      <td>37. TOILET ROOM DOORS SELF CLOSING: DRESSING R...</td>\n",
       "      <td>41.798750</td>\n",
       "      <td>-87.723466</td>\n",
       "      <td>(41.79875025743268, -87.72346641018879)</td>\n",
       "    </tr>\n",
       "    <tr>\n",
       "      <th>PORTILLO'S HOT DOGS</th>\n",
       "      <td>PORTILLO'S HOT DOGS</td>\n",
       "      <td>39472.0</td>\n",
       "      <td>Restaurant</td>\n",
       "      <td>Risk 1 (High)</td>\n",
       "      <td>100 W ONTARIO ST</td>\n",
       "      <td>CHICAGO</td>\n",
       "      <td>IL</td>\n",
       "      <td>60654.0</td>\n",
       "      <td>03/15/2017</td>\n",
       "      <td>Complaint</td>\n",
       "      <td>Pass</td>\n",
       "      <td>38. VENTILATION: ROOMS AND EQUIPMENT VENTED AS...</td>\n",
       "      <td>41.893338</td>\n",
       "      <td>-87.631244</td>\n",
       "      <td>(41.89333773718407, -87.63124449621304)</td>\n",
       "    </tr>\n",
       "    <tr>\n",
       "      <th>SEE THRU CHINESE RESTAURANT</th>\n",
       "      <td>SEE THRU CHINESE RESTAURANT</td>\n",
       "      <td>1942299.0</td>\n",
       "      <td>Restaurant</td>\n",
       "      <td>Risk 1 (High)</td>\n",
       "      <td>5609 W DIVISION ST</td>\n",
       "      <td>CHICAGO</td>\n",
       "      <td>IL</td>\n",
       "      <td>60651.0</td>\n",
       "      <td>03/15/2017</td>\n",
       "      <td>Complaint</td>\n",
       "      <td>Fail</td>\n",
       "      <td>16. FOOD PROTECTED DURING STORAGE, PREPARATION...</td>\n",
       "      <td>41.902030</td>\n",
       "      <td>-87.766023</td>\n",
       "      <td>(41.902029722868406, -87.76602278744853)</td>\n",
       "    </tr>\n",
       "    <tr>\n",
       "      <th>DENOVA FRESH MARKET</th>\n",
       "      <td>MARTHA'S FOOD MARKET</td>\n",
       "      <td>2517805.0</td>\n",
       "      <td>Grocery Store</td>\n",
       "      <td>Risk 3 (Low)</td>\n",
       "      <td>4459 W DIVERSEY AVE</td>\n",
       "      <td>CHICAGO</td>\n",
       "      <td>IL</td>\n",
       "      <td>60639.0</td>\n",
       "      <td>03/15/2017</td>\n",
       "      <td>License</td>\n",
       "      <td>Fail</td>\n",
       "      <td>18. NO EVIDENCE OF RODENT OR INSECT OUTER OPEN...</td>\n",
       "      <td>41.931521</td>\n",
       "      <td>-87.739185</td>\n",
       "      <td>(41.93152090078495, -87.73918541762123)</td>\n",
       "    </tr>\n",
       "    <tr>\n",
       "      <th>SOUTH LOOP MONTESSORI SCHOOL</th>\n",
       "      <td>SOUTH LOOP MONTESSORI SCHOOL</td>\n",
       "      <td>2517217.0</td>\n",
       "      <td>Daycare (2 - 6 Years)</td>\n",
       "      <td>Risk 1 (High)</td>\n",
       "      <td>47 W POLK ST</td>\n",
       "      <td>CHICAGO</td>\n",
       "      <td>IL</td>\n",
       "      <td>60605.0</td>\n",
       "      <td>03/09/2017</td>\n",
       "      <td>License</td>\n",
       "      <td>Pass</td>\n",
       "      <td>NaN</td>\n",
       "      <td>41.872167</td>\n",
       "      <td>-87.629577</td>\n",
       "      <td>(41.87216695780119, -87.62957679729978)</td>\n",
       "    </tr>\n",
       "    <tr>\n",
       "      <th>LORETTO HOSPITAL</th>\n",
       "      <td>LORETTO HOSPITAL</td>\n",
       "      <td>2204616.0</td>\n",
       "      <td>Hospital</td>\n",
       "      <td>Risk 1 (High)</td>\n",
       "      <td>645 S CENTRAL AVE</td>\n",
       "      <td>CHICAGO</td>\n",
       "      <td>IL</td>\n",
       "      <td>60644.0</td>\n",
       "      <td>10/28/2016</td>\n",
       "      <td>Canvass</td>\n",
       "      <td>Pass</td>\n",
       "      <td>NaN</td>\n",
       "      <td>41.872086</td>\n",
       "      <td>-87.764430</td>\n",
       "      <td>(41.87208576989947, -87.76443034735553)</td>\n",
       "    </tr>\n",
       "    <tr>\n",
       "      <th>MONTROSE DELI &amp; FRUIT MARKET</th>\n",
       "      <td>MONTROSE DELI &amp; FRUIT MARKET</td>\n",
       "      <td>20886.0</td>\n",
       "      <td>Grocery Store</td>\n",
       "      <td>Risk 1 (High)</td>\n",
       "      <td>5407-5411 W MONTROSE AVE</td>\n",
       "      <td>CHICAGO</td>\n",
       "      <td>IL</td>\n",
       "      <td>60641.0</td>\n",
       "      <td>03/15/2017</td>\n",
       "      <td>Complaint</td>\n",
       "      <td>Fail</td>\n",
       "      <td>3. POTENTIALLY HAZARDOUS FOOD MEETS TEMPERATUR...</td>\n",
       "      <td>41.960428</td>\n",
       "      <td>-87.762666</td>\n",
       "      <td>(41.96042826406876, -87.7626656720388)</td>\n",
       "    </tr>\n",
       "  </tbody>\n",
       "</table>\n",
       "</div>"
      ],
      "text/plain": [
       "                                                  AKA Name  License #  \\\n",
       "DBA Name                                                                \n",
       "PENINSULA CHICAGO,LLC                         MAIN KITCHEN  1091966.0   \n",
       "VENEZUELAN BOWL GRILL LLC            VENEZUELAN BOWL GRILL  2424110.0   \n",
       "JULIUS MEINL                                  JULIUS MEINL  2141409.0   \n",
       "MEZQUITE EXPRESS # 2                  MEZQUITE EXPRESS # 2  2517585.0   \n",
       "PORTILLO'S HOT DOGS                    PORTILLO'S HOT DOGS    39472.0   \n",
       "SEE THRU CHINESE RESTAURANT    SEE THRU CHINESE RESTAURANT  1942299.0   \n",
       "DENOVA FRESH MARKET                   MARTHA'S FOOD MARKET  2517805.0   \n",
       "SOUTH LOOP MONTESSORI SCHOOL  SOUTH LOOP MONTESSORI SCHOOL  2517217.0   \n",
       "LORETTO HOSPITAL                          LORETTO HOSPITAL  2204616.0   \n",
       "MONTROSE DELI & FRUIT MARKET  MONTROSE DELI & FRUIT MARKET    20886.0   \n",
       "\n",
       "                                      Facility Type           Risk  \\\n",
       "DBA Name                                                             \n",
       "PENINSULA CHICAGO,LLC                    Restaurant  Risk 1 (High)   \n",
       "VENEZUELAN BOWL GRILL LLC                Restaurant  Risk 1 (High)   \n",
       "JULIUS MEINL                                 Bakery  Risk 1 (High)   \n",
       "MEZQUITE EXPRESS # 2                     Restaurant  Risk 1 (High)   \n",
       "PORTILLO'S HOT DOGS                      Restaurant  Risk 1 (High)   \n",
       "SEE THRU CHINESE RESTAURANT              Restaurant  Risk 1 (High)   \n",
       "DENOVA FRESH MARKET                   Grocery Store   Risk 3 (Low)   \n",
       "SOUTH LOOP MONTESSORI SCHOOL  Daycare (2 - 6 Years)  Risk 1 (High)   \n",
       "LORETTO HOSPITAL                           Hospital  Risk 1 (High)   \n",
       "MONTROSE DELI & FRUIT MARKET          Grocery Store  Risk 1 (High)   \n",
       "\n",
       "                                                Address     City State  \\\n",
       "DBA Name                                                                 \n",
       "PENINSULA CHICAGO,LLC                108 E SUPERIOR ST   CHICAGO    IL   \n",
       "VENEZUELAN BOWL GRILL LLC           2436 N LINCOLN AVE   CHICAGO    IL   \n",
       "JULIUS MEINL                     4115 N RAVENSWOOD AVE   CHICAGO    IL   \n",
       "MEZQUITE EXPRESS # 2                 5160 S PULASKI RD   CHICAGO    IL   \n",
       "PORTILLO'S HOT DOGS                   100 W ONTARIO ST   CHICAGO    IL   \n",
       "SEE THRU CHINESE RESTAURANT         5609 W DIVISION ST   CHICAGO    IL   \n",
       "DENOVA FRESH MARKET                4459 W DIVERSEY AVE   CHICAGO    IL   \n",
       "SOUTH LOOP MONTESSORI SCHOOL              47 W POLK ST   CHICAGO    IL   \n",
       "LORETTO HOSPITAL                     645 S CENTRAL AVE   CHICAGO    IL   \n",
       "MONTROSE DELI & FRUIT MARKET  5407-5411 W MONTROSE AVE   CHICAGO    IL   \n",
       "\n",
       "                                  Zip Inspection Date Inspection Type Results  \\\n",
       "DBA Name                                                                        \n",
       "PENINSULA CHICAGO,LLC         60611.0      03/15/2017         Canvass    Fail   \n",
       "VENEZUELAN BOWL GRILL LLC     60614.0      03/15/2017         Canvass    Fail   \n",
       "JULIUS MEINL                  60613.0      03/15/2017         Canvass    Pass   \n",
       "MEZQUITE EXPRESS # 2          60632.0      03/15/2017         License    Pass   \n",
       "PORTILLO'S HOT DOGS           60654.0      03/15/2017       Complaint    Pass   \n",
       "SEE THRU CHINESE RESTAURANT   60651.0      03/15/2017       Complaint    Fail   \n",
       "DENOVA FRESH MARKET           60639.0      03/15/2017         License    Fail   \n",
       "SOUTH LOOP MONTESSORI SCHOOL  60605.0      03/09/2017         License    Pass   \n",
       "LORETTO HOSPITAL              60644.0      10/28/2016         Canvass    Pass   \n",
       "MONTROSE DELI & FRUIT MARKET  60641.0      03/15/2017       Complaint    Fail   \n",
       "\n",
       "                                                                     Violations  \\\n",
       "DBA Name                                                                          \n",
       "PENINSULA CHICAGO,LLC         16. FOOD PROTECTED DURING STORAGE, PREPARATION...   \n",
       "VENEZUELAN BOWL GRILL LLC     14. PREVIOUS SERIOUS VIOLATION CORRECTED, 7-42...   \n",
       "JULIUS MEINL                  32. FOOD AND NON-FOOD CONTACT SURFACES PROPERL...   \n",
       "MEZQUITE EXPRESS # 2          37. TOILET ROOM DOORS SELF CLOSING: DRESSING R...   \n",
       "PORTILLO'S HOT DOGS           38. VENTILATION: ROOMS AND EQUIPMENT VENTED AS...   \n",
       "SEE THRU CHINESE RESTAURANT   16. FOOD PROTECTED DURING STORAGE, PREPARATION...   \n",
       "DENOVA FRESH MARKET           18. NO EVIDENCE OF RODENT OR INSECT OUTER OPEN...   \n",
       "SOUTH LOOP MONTESSORI SCHOOL                                                NaN   \n",
       "LORETTO HOSPITAL                                                            NaN   \n",
       "MONTROSE DELI & FRUIT MARKET  3. POTENTIALLY HAZARDOUS FOOD MEETS TEMPERATUR...   \n",
       "\n",
       "                               Latitude  Longitude  \\\n",
       "DBA Name                                             \n",
       "PENINSULA CHICAGO,LLC         41.895840 -87.624988   \n",
       "VENEZUELAN BOWL GRILL LLC     41.926191 -87.650017   \n",
       "JULIUS MEINL                  41.956554 -87.673709   \n",
       "MEZQUITE EXPRESS # 2          41.798750 -87.723466   \n",
       "PORTILLO'S HOT DOGS           41.893338 -87.631244   \n",
       "SEE THRU CHINESE RESTAURANT   41.902030 -87.766023   \n",
       "DENOVA FRESH MARKET           41.931521 -87.739185   \n",
       "SOUTH LOOP MONTESSORI SCHOOL  41.872167 -87.629577   \n",
       "LORETTO HOSPITAL              41.872086 -87.764430   \n",
       "MONTROSE DELI & FRUIT MARKET  41.960428 -87.762666   \n",
       "\n",
       "                                                              Location  \n",
       "DBA Name                                                                \n",
       "PENINSULA CHICAGO,LLC          (41.89583963820686, -87.62498814131581)  \n",
       "VENEZUELAN BOWL GRILL LLC     (41.926190902860434, -87.65001746088006)  \n",
       "JULIUS MEINL                  (41.956553643574246, -87.67370925557856)  \n",
       "MEZQUITE EXPRESS # 2           (41.79875025743268, -87.72346641018879)  \n",
       "PORTILLO'S HOT DOGS            (41.89333773718407, -87.63124449621304)  \n",
       "SEE THRU CHINESE RESTAURANT   (41.902029722868406, -87.76602278744853)  \n",
       "DENOVA FRESH MARKET            (41.93152090078495, -87.73918541762123)  \n",
       "SOUTH LOOP MONTESSORI SCHOOL   (41.87216695780119, -87.62957679729978)  \n",
       "LORETTO HOSPITAL               (41.87208576989947, -87.76443034735553)  \n",
       "MONTROSE DELI & FRUIT MARKET    (41.96042826406876, -87.7626656720388)  "
      ]
     },
     "execution_count": 14,
     "metadata": {},
     "output_type": "execute_result"
    }
   ],
   "source": [
    "df.iloc[500:510]"
   ]
  },
  {
   "cell_type": "markdown",
   "metadata": {},
   "source": [
    "### Exercise 10\n",
    "<span  style=\"color:green; font-size:16px\">Select restaurants 100, 1,000 and 10,000 along with columns 5, 3, and 1</span>"
   ]
  },
  {
   "cell_type": "code",
   "execution_count": 15,
   "metadata": {},
   "outputs": [
    {
     "data": {
      "text/html": [
       "<div>\n",
       "<style scoped>\n",
       "    .dataframe tbody tr th:only-of-type {\n",
       "        vertical-align: middle;\n",
       "    }\n",
       "\n",
       "    .dataframe tbody tr th {\n",
       "        vertical-align: top;\n",
       "    }\n",
       "\n",
       "    .dataframe thead th {\n",
       "        text-align: right;\n",
       "    }\n",
       "</style>\n",
       "<table border=\"1\" class=\"dataframe\">\n",
       "  <thead>\n",
       "    <tr style=\"text-align: right;\">\n",
       "      <th></th>\n",
       "      <th>City</th>\n",
       "      <th>Risk</th>\n",
       "      <th>License #</th>\n",
       "    </tr>\n",
       "    <tr>\n",
       "      <th>DBA Name</th>\n",
       "      <th></th>\n",
       "      <th></th>\n",
       "      <th></th>\n",
       "    </tr>\n",
       "  </thead>\n",
       "  <tbody>\n",
       "    <tr>\n",
       "      <th>A-Z SALES INC.</th>\n",
       "      <td>CHICAGO</td>\n",
       "      <td>Risk 1 (High)</td>\n",
       "      <td>1490343.0</td>\n",
       "    </tr>\n",
       "    <tr>\n",
       "      <th>ANONG INC.</th>\n",
       "      <td>CHICAGO</td>\n",
       "      <td>Risk 1 (High)</td>\n",
       "      <td>1942424.0</td>\n",
       "    </tr>\n",
       "    <tr>\n",
       "      <th>ELVIA GAMA</th>\n",
       "      <td>CHICAGO</td>\n",
       "      <td>Risk 1 (High)</td>\n",
       "      <td>2423902.0</td>\n",
       "    </tr>\n",
       "  </tbody>\n",
       "</table>\n",
       "</div>"
      ],
      "text/plain": [
       "                   City           Risk  License #\n",
       "DBA Name                                         \n",
       "A-Z SALES INC.  CHICAGO  Risk 1 (High)  1490343.0\n",
       "ANONG INC.      CHICAGO  Risk 1 (High)  1942424.0\n",
       "ELVIA GAMA      CHICAGO  Risk 1 (High)  2423902.0"
      ]
     },
     "execution_count": 15,
     "metadata": {},
     "output_type": "execute_result"
    }
   ],
   "source": [
    "df.iloc[[100, 1000, 10000], [5, 3, 1]]"
   ]
  },
  {
   "cell_type": "markdown",
   "metadata": {},
   "source": [
    "### Exercise 11\n",
    "<span  style=\"color:green; font-size:16px\">Select the **`Risk`** column and save it to a Series</span>"
   ]
  },
  {
   "cell_type": "code",
   "execution_count": 16,
   "metadata": {},
   "outputs": [
    {
     "data": {
      "text/plain": [
       "DBA Name\n",
       "DANY'S TACOS                 Risk 1 (High)\n",
       "BILLY FOOD MARKET INC         Risk 3 (Low)\n",
       "TAQUERIA HACIENDA TAPATIA    Risk 1 (High)\n",
       "WILD GOOSE BAR & GRILL       Risk 1 (High)\n",
       "PUBLICAN TAVERN K1           Risk 1 (High)\n",
       "Name: Risk, dtype: object"
      ]
     },
     "execution_count": 16,
     "metadata": {},
     "output_type": "execute_result"
    }
   ],
   "source": [
    "risk = df.loc[:,'Risk']\n",
    "risk.head()"
   ]
  },
  {
   "cell_type": "markdown",
   "metadata": {},
   "source": [
    "### Exercise 12\n",
    "<span  style=\"color:green; font-size:16px\">Using the risk Series, select **`ARBYS`** and **`POPEYES FAMOUS FRIED CHICKEN`**</span>"
   ]
  },
  {
   "cell_type": "code",
   "execution_count": 17,
   "metadata": {},
   "outputs": [
    {
     "data": {
      "text/plain": [
       "DBA Name\n",
       "ARBYS                             Risk 1 (High)\n",
       "ARBYS                             Risk 1 (High)\n",
       "ARBYS                             Risk 1 (High)\n",
       "ARBYS                             Risk 1 (High)\n",
       "ARBYS                             Risk 1 (High)\n",
       "ARBYS                             Risk 1 (High)\n",
       "ARBYS                             Risk 1 (High)\n",
       "ARBYS                             Risk 1 (High)\n",
       "ARBYS                             Risk 1 (High)\n",
       "ARBYS                             Risk 1 (High)\n",
       "ARBYS                             Risk 1 (High)\n",
       "ARBYS                             Risk 1 (High)\n",
       "ARBYS                             Risk 1 (High)\n",
       "ARBYS                             Risk 1 (High)\n",
       "ARBYS                             Risk 1 (High)\n",
       "ARBYS                             Risk 1 (High)\n",
       "ARBYS                             Risk 1 (High)\n",
       "ARBYS                             Risk 1 (High)\n",
       "ARBYS                             Risk 1 (High)\n",
       "ARBYS                             Risk 1 (High)\n",
       "ARBYS                             Risk 1 (High)\n",
       "ARBYS                             Risk 1 (High)\n",
       "ARBYS                             Risk 1 (High)\n",
       "ARBYS                             Risk 1 (High)\n",
       "POPEYES FAMOUS FRIED CHICKEN    Risk 2 (Medium)\n",
       "POPEYES FAMOUS FRIED CHICKEN    Risk 2 (Medium)\n",
       "POPEYES FAMOUS FRIED CHICKEN    Risk 2 (Medium)\n",
       "POPEYES FAMOUS FRIED CHICKEN      Risk 1 (High)\n",
       "POPEYES FAMOUS FRIED CHICKEN      Risk 1 (High)\n",
       "POPEYES FAMOUS FRIED CHICKEN      Risk 1 (High)\n",
       "POPEYES FAMOUS FRIED CHICKEN      Risk 1 (High)\n",
       "POPEYES FAMOUS FRIED CHICKEN      Risk 1 (High)\n",
       "POPEYES FAMOUS FRIED CHICKEN    Risk 2 (Medium)\n",
       "POPEYES FAMOUS FRIED CHICKEN      Risk 1 (High)\n",
       "POPEYES FAMOUS FRIED CHICKEN      Risk 1 (High)\n",
       "POPEYES FAMOUS FRIED CHICKEN    Risk 2 (Medium)\n",
       "POPEYES FAMOUS FRIED CHICKEN      Risk 1 (High)\n",
       "POPEYES FAMOUS FRIED CHICKEN    Risk 2 (Medium)\n",
       "POPEYES FAMOUS FRIED CHICKEN      Risk 1 (High)\n",
       "POPEYES FAMOUS FRIED CHICKEN      Risk 1 (High)\n",
       "POPEYES FAMOUS FRIED CHICKEN      Risk 1 (High)\n",
       "POPEYES FAMOUS FRIED CHICKEN      Risk 1 (High)\n",
       "POPEYES FAMOUS FRIED CHICKEN      Risk 1 (High)\n",
       "POPEYES FAMOUS FRIED CHICKEN      Risk 1 (High)\n",
       "POPEYES FAMOUS FRIED CHICKEN    Risk 2 (Medium)\n",
       "POPEYES FAMOUS FRIED CHICKEN    Risk 2 (Medium)\n",
       "POPEYES FAMOUS FRIED CHICKEN      Risk 1 (High)\n",
       "POPEYES FAMOUS FRIED CHICKEN    Risk 2 (Medium)\n",
       "POPEYES FAMOUS FRIED CHICKEN    Risk 2 (Medium)\n",
       "POPEYES FAMOUS FRIED CHICKEN      Risk 1 (High)\n",
       "POPEYES FAMOUS FRIED CHICKEN    Risk 2 (Medium)\n",
       "POPEYES FAMOUS FRIED CHICKEN    Risk 2 (Medium)\n",
       "POPEYES FAMOUS FRIED CHICKEN      Risk 1 (High)\n",
       "Name: Risk, dtype: object"
      ]
     },
     "execution_count": 17,
     "metadata": {},
     "output_type": "execute_result"
    }
   ],
   "source": [
    "risk.loc[['ARBYS', 'POPEYES FAMOUS FRIED CHICKEN']]"
   ]
  }
 ],
 "metadata": {
  "kernelspec": {
   "display_name": "Python 3",
   "language": "python",
   "name": "python3"
  },
  "language_info": {
   "codemirror_mode": {
    "name": "ipython",
    "version": 3
   },
   "file_extension": ".py",
   "mimetype": "text/x-python",
   "name": "python",
   "nbconvert_exporter": "python",
   "pygments_lexer": "ipython3",
   "version": "3.6.2"
  }
 },
 "nbformat": 4,
 "nbformat_minor": 2
}
